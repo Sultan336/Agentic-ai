{
  "nbformat": 4,
  "nbformat_minor": 0,
  "metadata": {
    "colab": {
      "provenance": [],
      "authorship_tag": "ABX9TyPV4RkAMR9R8uW0DmyjYwMV"
    },
    "kernelspec": {
      "name": "python3",
      "display_name": "Python 3"
    },
    "language_info": {
      "name": "python"
    }
  },
  "cells": [
    {
      "cell_type": "markdown",
      "source": [
        "#Online Class Project 6: Bulk File Re-namer Python Project"
      ],
      "metadata": {
        "id": "RxmVRiGn9B_-"
      }
    },
    {
      "cell_type": "code",
      "source": [
        "\"\"\"\n",
        "Bulk Rename Magic 💫\n",
        "\n",
        "A Python script to perform bulk renaming of files in a specified directory.\n",
        "Allows you to add prefixes, suffixes, or replace substrings in filenames.\n",
        "Author: ChatGPT 🤖\n",
        "Date: 2023-10-12\n",
        "\"\"\"\n",
        "\n",
        "import os\n",
        "from typing import List\n",
        "\n",
        "\n",
        "def bulk_rename(directory: str, operation: str, modifier: str = \"\", old_substr: str = \"\", new_subst: str = \"\") -> None:\n",
        "    \"\"\"\n",
        "    Renames files in the given directory based on the specified operation.\n",
        "\n",
        "    Parameters:\n",
        "        directory (str): The path to the directory containing files.\n",
        "        operation (str): The renaming operation to perform. Must be one of \"prefix\", \"suffix\", or \"replace\".\n",
        "        modifier (str, optional): The string to use for prefix or suffix operations.\n",
        "        old_substr (str, optional): The substring to search for (in replace operation).\n",
        "        new_subst (str, optional): The replacement substring (in replace operation).\n",
        "    \"\"\"\n",
        "    # Get a list of all files in the directory\n",
        "    files: List[str] = [f for f in os.listdir(directory) if os.path.isfile(os.path.join(directory, f))]\n",
        "\n",
        "    if not files:\n",
        "        print(\"\\033[1;31mError: No files found in the specified directory! 😢\\033[0m\")\n",
        "        return\n",
        "\n",
        "    print(f\"\\033[92mFound {len(files)} file(s) to rename in '{directory}'. Let's rock! 🎸\\033[0m\")\n",
        "\n",
        "    # Iterate over each file and compute its new name based on the operation\n",
        "    for file_name in files:\n",
        "        old_file_path: str = os.path.join(directory, file_name)\n",
        "        name, ext = os.path.splitext(file_name)\n",
        "        new_name: str = file_name  # default new name (unchanged)\n",
        "\n",
        "        if operation == \"prefix\":\n",
        "            new_name = modifier + file_name\n",
        "        elif operation == \"suffix\":\n",
        "            new_name = name + modifier + ext\n",
        "        elif operation == \"replace\":\n",
        "            new_name = file_name.replace(old_substr, new_subst)\n",
        "\n",
        "        new_file_path: str = os.path.join(directory, new_name)\n",
        "\n",
        "        try:\n",
        "            os.rename(old_file_path, new_file_path)\n",
        "            print(f\"\\033[92mSuccess: Renamed '{file_name}' to '{new_name}' ✅\\033[0m\")\n",
        "        except Exception as e:\n",
        "            print(f\"\\033[1;31mError renaming '{file_name}': {e} ❌\\033[0m\")\n",
        "\n",
        "\n",
        "def main() -> None:\n",
        "    \"\"\"\n",
        "    Main function to run the Bulk Rename Magic project.\n",
        "    Prompts the user for the directory and type of renaming operation.\n",
        "    \"\"\"\n",
        "    # Welcome message in green\n",
        "    print(\"\\033[92mWelcome to Bulk Rename Magic! 🤖 Let's rename some files in bulk! 💫\\033[0m\")\n",
        "\n",
        "    # Get the directory path from the user with a colored input prompt (cyan)\n",
        "    directory: str = input(\"\\033[96mEnter the directory path containing files to rename: \\033[0m\").strip()\n",
        "\n",
        "    # Check if the provided directory exists\n",
        "    if not os.path.isdir(directory):\n",
        "        print(\"\\033[1;31mError: The specified directory does not exist! 🚫\\033[0m\")\n",
        "        return\n",
        "\n",
        "    # Display renaming options to the user\n",
        "    print(\"\\033[96mChoose a renaming option:\\033[0m\")\n",
        "    print(\"\\033[96m1: Add prefix\\033[0m\")\n",
        "    print(\"\\033[96m2: Add suffix\\033[0m\")\n",
        "    print(\"\\033[96m3: Replace substring\\033[0m\")\n",
        "\n",
        "    # Read and validate the renaming option\n",
        "    try:\n",
        "        option: int = int(input(\"\\033[96mEnter your option (1, 2, or 3): \\033[0m\").strip())\n",
        "    except ValueError:\n",
        "        print(\"\\033[1;31mError: Invalid input! Please enter a number (1, 2, or 3). 🚫\\033[0m\")\n",
        "        return\n",
        "\n",
        "    # Initialize variables for renaming operation\n",
        "    operation: str = \"\"\n",
        "    modifier: str = \"\"\n",
        "    old_substr: str = \"\"\n",
        "    new_subst: str = \"\"\n",
        "\n",
        "    # Based on the option, get the additional modification parameters\n",
        "    if option == 1:\n",
        "        operation = \"prefix\"\n",
        "        modifier = input(\"\\033[96mEnter the prefix to add: \\033[0m\")\n",
        "    elif option == 2:\n",
        "        operation = \"suffix\"\n",
        "        modifier = input(\"\\033[96mEnter the suffix to add (before file extension): \\033[0m\")\n",
        "    elif option == 3:\n",
        "        operation = \"replace\"\n",
        "        old_substr = input(\"\\033[96mEnter the substring to replace: \\033[0m\")\n",
        "        new_subst = input(\"\\033[96mEnter the new substring: \\033[0m\")\n",
        "    else:\n",
        "        print(\"\\033[1;31mError: Invalid option selected! 🚫\\033[0m\")\n",
        "        return\n",
        "\n",
        "    # Call the bulk_rename function to perform the renaming process\n",
        "    bulk_rename(directory, operation, modifier, old_substr, new_subst)\n",
        "\n",
        "    print(\"\\033[92mBulk renaming process completed! 🚀\\033[0m\")\n",
        "\n",
        "\n",
        "# This provided line is required at the end of\n",
        "# Python file to call the main() function.\n",
        "if __name__ == '__main__':\n",
        "    main()"
      ],
      "metadata": {
        "colab": {
          "base_uri": "https://localhost:8080/"
        },
        "id": "EAfnszPp9D8u",
        "outputId": "a5b993e0-3f63-45b5-e213-b321371ea259"
      },
      "execution_count": 1,
      "outputs": [
        {
          "output_type": "stream",
          "name": "stdout",
          "text": [
            "\u001b[92mWelcome to Bulk Rename Magic! 🤖 Let's rename some files in bulk! 💫\u001b[0m\n",
            "\u001b[96mEnter the directory path containing files to rename: \u001b[0m/content/sample_data\n",
            "\u001b[96mChoose a renaming option:\u001b[0m\n",
            "\u001b[96m1: Add prefix\u001b[0m\n",
            "\u001b[96m2: Add suffix\u001b[0m\n",
            "\u001b[96m3: Replace substring\u001b[0m\n",
            "\u001b[96mEnter your option (1, 2, or 3): \u001b[0m2\n",
            "\u001b[96mEnter the suffix to add (before file extension): \u001b[0m_google\n",
            "\u001b[92mFound 6 file(s) to rename in '/content/sample_data'. Let's rock! 🎸\u001b[0m\n",
            "\u001b[92mSuccess: Renamed 'README.md' to 'README_google.md' ✅\u001b[0m\n",
            "\u001b[92mSuccess: Renamed 'anscombe.json' to 'anscombe_google.json' ✅\u001b[0m\n",
            "\u001b[92mSuccess: Renamed 'california_housing_train.csv' to 'california_housing_train_google.csv' ✅\u001b[0m\n",
            "\u001b[92mSuccess: Renamed 'mnist_train_small.csv' to 'mnist_train_small_google.csv' ✅\u001b[0m\n",
            "\u001b[92mSuccess: Renamed 'mnist_test.csv' to 'mnist_test_google.csv' ✅\u001b[0m\n",
            "\u001b[92mSuccess: Renamed 'california_housing_test.csv' to 'california_housing_test_google.csv' ✅\u001b[0m\n",
            "\u001b[92mBulk renaming process completed! 🚀\u001b[0m\n"
          ]
        }
      ]
    },
    {
      "cell_type": "code",
      "source": [],
      "metadata": {
        "id": "t0dSbWqQ9EV2"
      },
      "execution_count": null,
      "outputs": []
    },
    {
      "cell_type": "code",
      "execution_count": null,
      "metadata": {
        "id": "h4GQMcDR7n3B"
      },
      "outputs": [],
      "source": []
    }
  ]
}
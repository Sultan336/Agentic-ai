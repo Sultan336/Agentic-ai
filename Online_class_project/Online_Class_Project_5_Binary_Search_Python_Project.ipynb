{
  "nbformat": 4,
  "nbformat_minor": 0,
  "metadata": {
    "colab": {
      "provenance": [],
      "authorship_tag": "ABX9TyM/N6ZaoY9KsjxTrzOBqmni"
    },
    "kernelspec": {
      "name": "python3",
      "display_name": "Python 3"
    },
    "language_info": {
      "name": "python"
    }
  },
  "cells": [
    {
      "cell_type": "markdown",
      "source": [
        "#Online Class Project 5: Binary Search Python Project"
      ],
      "metadata": {
        "id": "r9s1NWH4RNX3"
      }
    },
    {
      "cell_type": "code",
      "source": [
        "# prving that binary search is faster than naive search"
      ],
      "metadata": {
        "id": "dIemDSXJRPxk"
      },
      "execution_count": 1,
      "outputs": []
    },
    {
      "cell_type": "code",
      "source": [
        "#implementing vaive search\n",
        "def naive_search(l, target):\n",
        "  for i in range(len(l)):\n",
        "    if l[i] == target:\n",
        "      return i\n",
        "  return -1\n",
        "\n",
        "naive_search([1,2,3,4,5], 3)"
      ],
      "metadata": {
        "colab": {
          "base_uri": "https://localhost:8080/"
        },
        "id": "aUzeU1xrRP7q",
        "outputId": "d367a211-5bb7-4846-92a3-67d7707595e1"
      },
      "execution_count": 2,
      "outputs": [
        {
          "output_type": "execute_result",
          "data": {
            "text/plain": [
              "2"
            ]
          },
          "metadata": {},
          "execution_count": 2
        }
      ]
    },
    {
      "cell_type": "code",
      "execution_count": 9,
      "metadata": {
        "colab": {
          "base_uri": "https://localhost:8080/"
        },
        "id": "yZGzIokBRH-f",
        "outputId": "f03d7e84-a3f1-443b-caeb-6480f508909a"
      },
      "outputs": [
        {
          "output_type": "stream",
          "name": "stdout",
          "text": [
            "Naive search time:  0.0003499889135360718 seconds\n",
            "binary_search time:  2.6601314544677736e-06 seconds\n"
          ]
        }
      ],
      "source": [
        "#binary search\n",
        "import time, random\n",
        "\n",
        "def binary_search(l, target, low= None, high=None):\n",
        "  if low is None:\n",
        "    low = 0\n",
        "  if high is None:\n",
        "    high = len(l) - 1\n",
        "\n",
        "  if high < low:\n",
        "    return -1\n",
        "\n",
        "  midpoint = (low + high) // 2\n",
        "\n",
        "  if l[midpoint] == target:\n",
        "    return midpoint\n",
        "  elif target < l[midpoint]:\n",
        "    return binary_search(l, target, low, midpoint-1)\n",
        "\n",
        "  else:\n",
        "    return binary_search(l, target, midpoint+1, high)\n",
        "\n",
        "\n",
        "if __name__ == '__main__':\n",
        "#  l = [1,2,5,10,12]\n",
        "#  target = 10\n",
        "#  print(naive_search(l, target))\n",
        "#  print(binary_search(l, target))\n",
        "  length = 10000\n",
        "#build a sorted list of length 10000\n",
        "  sorted_list = set()\n",
        "  while len(sorted_list) < length:\n",
        "    sorted_list.add(random.randint(-3*length, 3*length))\n",
        "  sorted_list = sorted (list(sorted_list))\n",
        "  start = time.time()\n",
        "  for target in sorted_list:\n",
        "    naive_search(sorted_list, target)\n",
        "  end = time.time()\n",
        "  print(\"Naive search time: \", (end - start)/length, \"seconds\")\n",
        "  start = time.time()\n",
        "  for target in sorted_list:\n",
        "   binary_search(sorted_list, target)\n",
        "  end = time.time()\n",
        "  print(\"binary_search time: \", (end - start)/length, \"seconds\")"
      ]
    },
    {
      "cell_type": "code",
      "source": [
        "import time\n",
        "from typing import List\n",
        "\n",
        "# ANSI escape sequences for colored terminal output\n",
        "RED: str = \"\\033[31m\"\n",
        "BOLD_RED: str = \"\\033[1;31m\"\n",
        "GREEN: str = \"\\033[32m\"\n",
        "BLUE: str = \"\\033[94m\"  # For input text\n",
        "RESET: str = \"\\033[0m\"\n",
        "\n",
        "def binary_search(arr: List[int], target: int) -> int:\n",
        "    \"\"\"\n",
        "    Performs binary search on a sorted list.\n",
        "\n",
        "    Parameters:\n",
        "        arr (List[int]): A sorted list of integers.\n",
        "        target (int): The number to search for.\n",
        "\n",
        "    Returns:\n",
        "        int: The index of the target in the list if found; otherwise, -1.\n",
        "\n",
        "    😊 This method is super efficient with O(log n) complexity!\n",
        "    \"\"\"\n",
        "    left: int = 0\n",
        "    right: int = len(arr) - 1\n",
        "    while left <= right:\n",
        "        mid: int = (left + right) // 2\n",
        "        if arr[mid] == target:\n",
        "            return mid\n",
        "        elif arr[mid] < target:\n",
        "            left = mid + 1\n",
        "        else:\n",
        "            right = mid - 1\n",
        "    return -1\n",
        "\n",
        "def linear_search(arr: List[int], target: int) -> int:\n",
        "    \"\"\"\n",
        "    Performs linear (naive) search on the list.\n",
        "\n",
        "    Parameters:\n",
        "        arr (List[int]): A list of integers.\n",
        "        target (int): The number to search for.\n",
        "\n",
        "    Returns:\n",
        "        int: The index of the target if found; otherwise, -1.\n",
        "\n",
        "    🐢 This is the \"old-fashioned\" method with O(n) complexity!\n",
        "    \"\"\"\n",
        "    for index, value in enumerate(arr):\n",
        "        if value == target:\n",
        "            return index\n",
        "    return -1\n",
        "\n",
        "def test_search_algorithms(arr: List[int], target: int) -> None:\n",
        "    \"\"\"\n",
        "    Tests and compares the performance of linear search vs binary search.\n",
        "\n",
        "    Parameters:\n",
        "        arr (List[int]): A sorted list of integers.\n",
        "        target (int): The search target.\n",
        "\n",
        "    Prints:\n",
        "        - The search results from both algorithms.\n",
        "        - The execution duration for each search.\n",
        "        - A performance ratio comparison.\n",
        "\n",
        "    🚀 Let's see how lightning-fast binary search can be!\n",
        "    \"\"\"\n",
        "    print(f\"{BLUE}Testing search algorithms for target {target}...{RESET}\")\n",
        "\n",
        "    # Time linear search\n",
        "    start_time: float = time.perf_counter()\n",
        "    result_linear: int = linear_search(arr, target)\n",
        "    end_time: float = time.perf_counter()\n",
        "    linear_duration: float = end_time - start_time\n",
        "\n",
        "    # Time binary search\n",
        "    start_time = time.perf_counter()\n",
        "    result_binary: int = binary_search(arr, target)\n",
        "    end_time = time.perf_counter()\n",
        "    binary_duration: float = end_time - start_time\n",
        "\n",
        "    # Validate that both search methods agree on the result\n",
        "    if result_linear == result_binary:\n",
        "        print(f\"{GREEN}✅ Both searches returned the same result: index {result_linear}.{RESET}\")\n",
        "    else:\n",
        "        print(f\"{BOLD_RED}❌ Error: Search results differ! Linear returned {result_linear}, binary returned {result_binary}.{RESET}\")\n",
        "\n",
        "    # Display the durations\n",
        "    print(f\"{GREEN}⏱ Linear Search Duration: {linear_duration:.6f} seconds.{RESET}\")\n",
        "    print(f\"{GREEN}⏱ Binary Search Duration: {binary_duration:.6f} seconds.{RESET}\")\n",
        "\n",
        "    # Performance comparison\n",
        "    if binary_duration > 0 and linear_duration > binary_duration:\n",
        "        ratio: float = linear_duration / binary_duration\n",
        "        print(f\"{GREEN}🚀 Binary search is approximately {ratio:.2f} times faster than linear search!{RESET}\")\n",
        "    else:\n",
        "        print(f\"{BOLD_RED}⚠️ Unexpected performance result: binary search doesn't appear faster than linear search!{RESET}\")\n",
        "\n",
        "def main() -> None:\n",
        "    \"\"\"\n",
        "    Main function to execute the Binary Search Python Project.\n",
        "\n",
        "    Generates a large sorted list, prompts the user for a target value,\n",
        "    and then tests both binary search and linear search to prove\n",
        "    that binary search is faster in a sorted environment.\n",
        "\n",
        "    Enjoy the speed and fun! 😎\n",
        "    \"\"\"\n",
        "    try:\n",
        "        # Generate a large sorted list for demonstration\n",
        "        n: int = 10**6  # List size: 1,000,000 elements\n",
        "        print(f\"{BLUE}Generating sorted list with {n} elements...{RESET}\")\n",
        "        arr: List[int] = list(range(n))\n",
        "        print(f\"{GREEN}✅ Sorted list generated successfully!{RESET}\")\n",
        "\n",
        "        # Prompt the user for a target number to search.\n",
        "        user_input: str = input(f\"{BLUE}Enter an integer to search (or press Enter to use default {n - 1}): {RESET}\")\n",
        "        if user_input.strip() == \"\":\n",
        "            target: int = n - 1  # Default target (worst-case for linear search)\n",
        "        else:\n",
        "            target = int(user_input.strip())\n",
        "\n",
        "        print(f\"{GREEN}✅ Searching for target {target}...{RESET}\")\n",
        "        test_search_algorithms(arr, target)\n",
        "\n",
        "    except Exception as e:\n",
        "        print(f\"{BOLD_RED}❌ An error occurred: {e}{RESET}\")\n",
        "\n",
        "# This provided line is required at the end of\n",
        "# Python file to call the main() function.\n",
        "if __name__ == '__main__':\n",
        "    main()"
      ],
      "metadata": {
        "colab": {
          "base_uri": "https://localhost:8080/"
        },
        "id": "Dpm8bebmUKxV",
        "outputId": "36b81ee0-d86a-40f7-cd6a-c70dd82eef69"
      },
      "execution_count": 10,
      "outputs": [
        {
          "output_type": "stream",
          "name": "stdout",
          "text": [
            "\u001b[94mGenerating sorted list with 1000000 elements...\u001b[0m\n",
            "\u001b[32m✅ Sorted list generated successfully!\u001b[0m\n",
            "\u001b[94mEnter an integer to search (or press Enter to use default 999999): \u001b[0m\n",
            "\u001b[32m✅ Searching for target 999999...\u001b[0m\n",
            "\u001b[94mTesting search algorithms for target 999999...\u001b[0m\n",
            "\u001b[32m✅ Both searches returned the same result: index 999999.\u001b[0m\n",
            "\u001b[32m⏱ Linear Search Duration: 0.048616 seconds.\u001b[0m\n",
            "\u001b[32m⏱ Binary Search Duration: 0.000029 seconds.\u001b[0m\n",
            "\u001b[32m🚀 Binary search is approximately 1676.05 times faster than linear search!\u001b[0m\n"
          ]
        }
      ]
    }
  ]
}
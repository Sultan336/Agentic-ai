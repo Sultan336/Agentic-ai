{
  "nbformat": 4,
  "nbformat_minor": 0,
  "metadata": {
    "colab": {
      "provenance": [],
      "authorship_tag": "ABX9TyPjIntUuKWVxCWd75XacKXJ"
    },
    "kernelspec": {
      "name": "python3",
      "display_name": "Python 3"
    },
    "language_info": {
      "name": "python"
    }
  },
  "cells": [
    {
      "cell_type": "markdown",
      "source": [
        "## Problem Statement\n",
        "Write a simple joke bot. The bot starts by asking the user what they want. However, your program will only respond to one response: Joke.\n",
        "\n",
        "If the user enters Joke then we will print out a single joke. Each time the joke is always the same:\n",
        "\n",
        "Here is a joke for you! Panaversity GPT - Sophia is heading out to the grocery store. A programmer tells her: get a liter of milk, and if they have eggs, get 12. Sophia returns with 13 liters of milk. The programmer asks why and Sophia replies: 'because they had eggs'\n",
        "\n",
        "If the user enters anything else we print out:\n",
        "\n",
        "Sorry I only tell jokes\n",
        "\n",
        "You should use the three constants:\n",
        "\n",
        "PROMPT JOKE SORRY\n",
        "\n",
        "which contain the strings for the prompt asked to the user, the joke to print out if the user enters Joke and the sorry message if the user enters anything else.\n",
        "\n",
        "Your program will need to use an if statement which checks if the user input is Joke:\n",
        "\n",
        "if user_input == \"Joke\":\n",
        "\n",
        "Recall that == is a comparison which tests if two values are equal to one another.\n",
        "\n",
        "Here is a full run of the program (user input is in blue):\n",
        "\n",
        "What do you want? Joke Here is a joke for you! Panaversity GPT - Sophia is heading out to the grocery store. A programmer tells her: get a liter of milk, and if they have eggs, get 12. Sophia returns with 13 liters of milk. The programmer asks why and Sophia replies: 'because they had eggs'\n",
        "\n"
      ],
      "metadata": {
        "id": "20dpSEq95dJD"
      }
    },
    {
      "cell_type": "code",
      "execution_count": null,
      "metadata": {
        "id": "PPmKb8cE5v6S",
        "colab": {
          "base_uri": "https://localhost:8080/"
        },
        "outputId": "5a9dece0-d97c-4dda-d28a-38abde8f7ef6"
      },
      "outputs": [
        {
          "output_type": "stream",
          "name": "stdout",
          "text": [
            "What do you want? food\n",
            "Sorry, I only tell jokes. Try again or type 'Exit' to quit.\n",
            "What do you want? joke\n",
            "Why do programmers prefer dark mode? Because light attracts bugs!\n"
          ]
        }
      ],
      "source": [
        "import random\n",
        "\n",
        "# Constants\n",
        "PROMPT = \"What do you want? \"\n",
        "SORRY = \"Sorry, I only tell jokes. Try again or type 'Exit' to quit.\"\n",
        "\n",
        "# List of jokes to add variety\n",
        "JOKES = [\n",
        "    \"Here is a joke for you! Sophia is heading out to the grocery store. \"\n",
        "    \"A programmer tells her: get a liter of milk, and if they have eggs, get 12. Sophia returns \"\n",
        "    \"with 13 liters of milk. The programmer asks why and Sophia replies: 'because they had eggs'.\",\n",
        "\n",
        "    \"Why do programmers prefer dark mode? Because light attracts bugs!\",\n",
        "\n",
        "    \"Why don’t programmers like nature? It has too many bugs.\",\n",
        "\n",
        "    \"How do you comfort a JavaScript bug? You console it.\"\n",
        "]\n",
        "\n",
        "def main():\n",
        "    while True:\n",
        "        user_input = input(PROMPT).strip().lower()  # Trims spaces and converts user input to lowercase\n",
        "        if \"joke\" in user_input:\n",
        "            print(random.choice(JOKES))  # Randomly selects a joke\n",
        "        elif \"exit\" in user_input:\n",
        "            print(\"Goodbye! Come back for more laughs.\")\n",
        "            break\n",
        "        else:\n",
        "            print(SORRY)\n",
        "\n",
        "# This provided line is required at the end of\n",
        "# Python file to call the main() function.\n",
        "if __name__ == '__main__':\n",
        "    main()"
      ]
    },
    {
      "cell_type": "markdown",
      "source": [
        "## Problem Statement\n",
        "Write a program that asks a user to enter a number. Your program will then double that number and print out the result. It will repeat that process until the value is 100 or greater.\n",
        "\n",
        "For example if the user enters the number 2 you would then print:\n",
        "\n",
        "4 8 16 32 64 128\n",
        "\n",
        "Note that:\n",
        "\n",
        "2 doubled is 4\n",
        "\n",
        "4 doubled is 8\n",
        "\n",
        "8 doubled is 16\n",
        "\n",
        "and so on.\n",
        "\n",
        "We stop at 128 because that value is greater than 100.\n",
        "\n",
        "Maintain the current number in a variable named curr_value. When you double the number, you should be updating curr_value. Recall that you can double the value of curr_value using a line like:\n",
        "\n",
        "curr_value = curr_value * 2\n",
        "\n",
        "This program should have a while loop and the while loop condition should test if curr_value is less than 100. Thus, your program will have the line:\n",
        "\n",
        "while curr_value < 100:\n"
      ],
      "metadata": {
        "id": "DgpI_98X5oof"
      }
    },
    {
      "cell_type": "code",
      "source": [
        "def main() -> None:\n",
        "    \"\"\"\n",
        "    Main function to execute the doubling process.\n",
        "    It prompts the user for a number and doubles it until it reaches 100 or greater.\n",
        "    \"\"\"\n",
        "    curr_value: int = get_user_input()  # Get user input with error handling\n",
        "    results: list[int] = []  # List to store the results\n",
        "\n",
        "    while curr_value < 100:\n",
        "        curr_value *= 2  # Double the current value\n",
        "        results.append(curr_value)  # Store the result\n",
        "\n",
        "    print(\" \".join(map(str, results)))  # Print all results as a space-separated string\n",
        "\n",
        "\n",
        "def get_user_input() -> int:\n",
        "    \"\"\"\n",
        "    Prompts the user for a number and handles invalid input.\n",
        "\n",
        "    Returns:\n",
        "        int: A valid positive integer input from the user.\n",
        "    \"\"\"\n",
        "    while True:\n",
        "        try:\n",
        "            user_input: str = input(\"Enter a positive integer: \")\n",
        "            value: int = int(user_input)  # Convert input to integer\n",
        "            if value <= 0:\n",
        "                raise ValueError(\"The number must be positive and greater than zero.\")\n",
        "            return value  # Return the valid integer\n",
        "        except ValueError as e:\n",
        "            print(f\"Invalid input: {e}. Please try again.\")  # Error message for invalid input\n",
        "\n",
        "\n",
        "# This provided line is required at the end of\n",
        "# Python file to call the main() function.\n",
        "if __name__ == '__main__':\n",
        "    main()"
      ],
      "metadata": {
        "id": "Ua3LoqiP7-_m",
        "colab": {
          "base_uri": "https://localhost:8080/"
        },
        "outputId": "82500add-bcaa-465c-f950-082ed009f793"
      },
      "execution_count": 6,
      "outputs": [
        {
          "output_type": "stream",
          "name": "stdout",
          "text": [
            "Enter a positive integer: 0\n",
            "Invalid input: The number must be positive and greater than zero.. Please try again.\n",
            "Enter a positive integer: 2\n",
            "4 8 16 32 64 128\n"
          ]
        }
      ]
    },
    {
      "cell_type": "markdown",
      "source": [
        "##Problem Statement\n",
        "Write a program that prints out the calls for a spaceship that is about to launch. Countdown from 10 to 1 and then output Liftoff!\n",
        "\n",
        "Here's a sample run of the program:\n",
        "\n",
        "10 9 8 7 6 5 4 3 2 1 Liftoff!\n",
        "\n",
        "There are many ways to solve this problem. One approach is to use a for loop, and to use the for loop variable i. Recall that i will keep track of how many times the for loop has completed executing its body. As an example this code:\n",
        "\n",
        "for i in range(10): print(i)\n",
        "\n",
        "Will print out the values 0, 1, 2, 3, 4, 5, 6, 7, 8, 9. The values printed in liftoff are 10 minus the number of times the for loop has completed."
      ],
      "metadata": {
        "id": "LR32DE-o7BT1"
      }
    },
    {
      "cell_type": "code",
      "source": [
        "def main() -> None:\n",
        "    \"\"\"\n",
        "    Main function to execute the countdown for spaceship launch.\n",
        "    It counts down from 10 to 1 and then prints 'Liftoff!'.\n",
        "    \"\"\"\n",
        "    countdown: list[int] = []  # List to store countdown numbers\n",
        "\n",
        "    for i in range(10, 0, -1):  # Countdown from 10 to 1\n",
        "        countdown.append(i)  # Add the current countdown number to the list\n",
        "\n",
        "    print(\" \".join(map(str, countdown)) + \" Liftoff!\")  # Print countdown and 'Liftoff!'\n",
        "\n",
        "\n",
        "# This provided line is required at the end of\n",
        "# Python file to call the main() function.\n",
        "if __name__ == '__main__':\n",
        "    main()"
      ],
      "metadata": {
        "colab": {
          "base_uri": "https://localhost:8080/"
        },
        "id": "HBHOCazV7CsI",
        "outputId": "7fbf0f27-fc96-49f4-f5ed-ac2412f5039c"
      },
      "execution_count": 7,
      "outputs": [
        {
          "output_type": "stream",
          "name": "stdout",
          "text": [
            "10 9 8 7 6 5 4 3 2 1 Liftoff!\n"
          ]
        }
      ]
    },
    {
      "cell_type": "markdown",
      "source": [
        "## Problem Statement\n",
        "Guess My Number\n",
        "\n",
        "I am thinking of a number between 0 and 99... Enter a guess: 50 Your guess is too high\n",
        "\n",
        "Enter a new number: 25 Your guess is too low\n",
        "\n",
        "Enter a new number: 40 Your guess is too low\n",
        "\n",
        "Enter a new number: 45 Your guess is too low\n",
        "\n",
        "Enter a new number: 48 Congrats! The number was: 48\n"
      ],
      "metadata": {
        "id": "07Frh38VVhI6"
      }
    },
    {
      "cell_type": "code",
      "source": [
        "import random\n",
        "\n",
        "def main() -> None:\n",
        "    \"\"\"\n",
        "    Main function to execute the 'Guess My Number' game.\n",
        "    The program randomly selects a number between 0 and 99,\n",
        "    and prompts the user to guess the number until they get it right.\n",
        "    \"\"\"\n",
        "    secret_number: int = random.randint(0, 99)  # Randomly select a number between 0 and 99\n",
        "    guess: int = -1  # Initialize guess to an invalid number\n",
        "\n",
        "    while guess != secret_number:  # Continue until the guess is correct\n",
        "        guess = get_user_guess()  # Get a guess from the user\n",
        "        if guess < secret_number:\n",
        "            print(\"Your guess is too low.\")  # Provide feedback if the guess is too low\n",
        "        elif guess > secret_number:\n",
        "            print(\"Your guess is too high.\")  # Provide feedback if the guess is too high\n",
        "\n",
        "    print(f\"Congrats! The number was: {secret_number}\")  # Congratulate the user when they guess correctly\n",
        "\n",
        "\n",
        "def get_user_guess() -> int:\n",
        "    \"\"\"\n",
        "    Prompts the user for a guess and handles invalid input.\n",
        "\n",
        "    Returns:\n",
        "        int: A valid integer guess from the user between 0 and 99.\n",
        "    \"\"\"\n",
        "    while True:\n",
        "        try:\n",
        "            user_input: str = input(\"Enter a guess (0-99): \")\n",
        "            value: int = int(user_input)  # Convert input to integer\n",
        "            if value < 0 or value > 99:  # Check if the guess is out of bounds\n",
        "                raise ValueError(\"The guess must be between 0 and 99.\")\n",
        "            return value  # Return the valid guess\n",
        "        except ValueError as e:\n",
        "            print(f\"Invalid input: {e}. Please try again.\")  # Error message for invalid input\n",
        "\n",
        "\n",
        "# This provided line is required at the end of\n",
        "# Python file to call the main() function.\n",
        "if __name__ == '__main__':\n",
        ""
      ],
      "metadata": {
        "colab": {
          "base_uri": "https://localhost:8080/"
        },
        "id": "_O0R63pjVkdu",
        "outputId": "3c633d41-eb85-4c25-ce94-5e07e1fc3666"
      },
      "execution_count": 8,
      "outputs": [
        {
          "output_type": "stream",
          "name": "stdout",
          "text": [
            "Enter a guess (0-99): 50\n",
            "Your guess is too high.\n",
            "Enter a guess (0-99): 2\n",
            "Your guess is too low.\n",
            "Enter a guess (0-99): 25\n",
            "Your guess is too high.\n",
            "Enter a guess (0-99): 12\n",
            "Your guess is too low.\n",
            "Enter a guess (0-99): 17\n",
            "Your guess is too low.\n",
            "Enter a guess (0-99): 8\n",
            "Your guess is too low.\n",
            "Enter a guess (0-99): 19\n",
            "Your guess is too low.\n",
            "Enter a guess (0-99): 1\n",
            "Your guess is too low.\n",
            "Enter a guess (0-99): 21\n",
            "Your guess is too low.\n",
            "Enter a guess (0-99): 22\n",
            "Your guess is too low.\n",
            "Enter a guess (0-99): \n",
            "Invalid input: invalid literal for int() with base 10: ''. Please try again.\n",
            "Enter a guess (0-99): 3\n",
            "Your guess is too low.\n",
            "Enter a guess (0-99): 23\n",
            "Congrats! The number was: 23\n"
          ]
        }
      ]
    },
    {
      "cell_type": "markdown",
      "source": [
        "## Problem Statement\n",
        "Print 10 random numbers in the range 1 to 100.\n",
        "\n",
        "Here is an example run:\n",
        "\n",
        "45 79 61 47 52 10 16 83 19 12\n",
        "\n",
        "Each time you run your program you should get different numbers\n",
        "\n",
        "81 76 70 1 27 63 96 100 32 92\n",
        "\n",
        "Recall that the python random library has a function randint which returns an integer in the range set by the parameters (inclusive). For example this call would produce a random integer between 1 and 6, which could include 1 and could include 6:\n",
        "\n",
        "value = random.randint(1, 6)"
      ],
      "metadata": {
        "id": "dVYCXWozWQmV"
      }
    },
    {
      "cell_type": "code",
      "source": [
        "import random\n",
        "\n",
        "def main() -> None:\n",
        "    \"\"\"\n",
        "    Main function to generate and print 10 random numbers\n",
        "    in the range of 1 to 100.\n",
        "    \"\"\"\n",
        "    random_numbers: list[int] = []  # List to store random numbers\n",
        "\n",
        "    for _ in range(10):  # Loop to generate 10 random numbers\n",
        "        number: int = random.randint(1, 100)  # Generate a random number between 1 and 100\n",
        "        random_numbers.append(number)  # Add the number to the list\n",
        "\n",
        "    print(\" \".join(map(str, random_numbers)))  # Print the random numbers as a space-separated string\n",
        "\n",
        "\n",
        "# This provided line is required at the end of\n",
        "# Python file to call the main() function.\n",
        "if __name__ == '__main__':\n",
        "    main()"
      ],
      "metadata": {
        "colab": {
          "base_uri": "https://localhost:8080/"
        },
        "id": "erlNy6V1WWo0",
        "outputId": "b9959c87-6909-4d07-a75d-3bc8b0ea8e90"
      },
      "execution_count": 9,
      "outputs": [
        {
          "output_type": "stream",
          "name": "stdout",
          "text": [
            "52 50 16 14 1 3 11 48 4 9\n"
          ]
        }
      ]
    }
  ]
}
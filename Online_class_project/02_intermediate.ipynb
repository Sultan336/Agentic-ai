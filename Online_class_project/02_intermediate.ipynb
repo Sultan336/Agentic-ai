{
  "nbformat": 4,
  "nbformat_minor": 0,
  "metadata": {
    "colab": {
      "provenance": [],
      "authorship_tag": "ABX9TyO7cpj+JWy3RnwjMT9FpRbQ"
    },
    "kernelspec": {
      "name": "python3",
      "display_name": "Python 3"
    },
    "language_info": {
      "name": "python"
    }
  },
  "cells": [
    {
      "cell_type": "markdown",
      "source": [
        "# Control Flow for Console"
      ],
      "metadata": {
        "id": "hjNhNicxV7Fl"
      }
    },
    {
      "cell_type": "code",
      "execution_count": 1,
      "metadata": {
        "colab": {
          "base_uri": "https://localhost:8080/"
        },
        "id": "q3-TYLQSVFSg",
        "outputId": "abe5d9f0-bcc1-4770-9e4f-63928e2fb2f2"
      },
      "outputs": [
        {
          "output_type": "stream",
          "name": "stdout",
          "text": [
            "Welcome to the High-Low Game!\n",
            "--------------------------------\n",
            "Round 1\n",
            "Your number is 65\n",
            "Do you think your number is higher or lower than the computer's?: low\n",
            "Please enter either 'higher' or 'lower': Lower\n",
            "Aww, that's incorrect. The computer's number was 12\n",
            "Your score is now 0\n",
            "\n",
            "Round 2\n",
            "Your number is 58\n",
            "Do you think your number is higher or lower than the computer's?: highrer\n",
            "Please enter either 'higher' or 'lower': higher\n",
            "You were right! The computer's number was 5\n",
            "Your score is now 1\n",
            "\n",
            "Round 3\n",
            "Your number is 13\n",
            "Do you think your number is higher or lower than the computer's?: lower\n",
            "You were right! The computer's number was 97\n",
            "Your score is now 2\n",
            "\n",
            "Round 4\n",
            "Your number is 41\n",
            "Do you think your number is higher or lower than the computer's?: lower\n",
            "You were right! The computer's number was 73\n",
            "Your score is now 3\n",
            "\n",
            "Round 5\n",
            "Your number is 48\n",
            "Do you think your number is higher or lower than the computer's?: lower\n",
            "You were right! The computer's number was 57\n",
            "Your score is now 4\n",
            "\n",
            "Thanks for playing!\n",
            "Good job, you played really well!\n"
          ]
        }
      ],
      "source": [
        "import random\n",
        "\n",
        "NUM_ROUNDS: int = 5  # Number of rounds to play\n",
        "\n",
        "def main() -> None:\n",
        "    \"\"\"\n",
        "    Main function to execute the High-Low game.\n",
        "    It manages the game flow, including rounds and scoring.\n",
        "    \"\"\"\n",
        "    print(\"Welcome to the High-Low Game!\")\n",
        "    print('--------------------------------')\n",
        "\n",
        "    score: int = 0  # Initialize the player's score\n",
        "\n",
        "    for round_number in range(1, NUM_ROUNDS + 1):\n",
        "        # Generate random numbers for the player and the computer\n",
        "        player_number: int = random.randint(1, 100)\n",
        "        computer_number: int = random.randint(1, 100)\n",
        "\n",
        "        print(f\"Round {round_number}\")\n",
        "        print(f\"Your number is {player_number}\")\n",
        "\n",
        "        # Get user input for their guess\n",
        "        user_guess: str = input(\"Do you think your number is higher or lower than the computer's?: \").strip().lower()\n",
        "\n",
        "        # Safeguard user input\n",
        "        while user_guess not in [\"higher\", \"lower\"]:\n",
        "            user_guess = input(\"Please enter either 'higher' or 'lower': \").strip().lower()\n",
        "\n",
        "        # Determine if the user's guess is correct\n",
        "        if (user_guess == \"higher\" and player_number > computer_number) or \\\n",
        "           (user_guess == \"lower\" and player_number < computer_number):\n",
        "            print(f\"You were right! The computer's number was {computer_number}\")\n",
        "            score += 1  # Increment score for a correct guess\n",
        "        else:\n",
        "            print(f\"Aww, that's incorrect. The computer's number was {computer_number}\")\n",
        "\n",
        "        print(f\"Your score is now {score}\\n\")  # Print the score after each round\n",
        "\n",
        "    # Conditional ending messages based on the score\n",
        "    print(\"Thanks for playing!\")\n",
        "    if score == NUM_ROUNDS:\n",
        "        print(\"Wow! You played perfectly!\")\n",
        "    elif score >= NUM_ROUNDS // 2:\n",
        "        print(\"Good job, you played really well!\")\n",
        "    else:\n",
        "        print(\"Better luck next time!\")\n",
        "\n",
        "# This provided line is required at the end of\n",
        "# Python file to call the main() function.\n",
        "if __name__ == \"__main__\":\n",
        "    main()"
      ]
    },
    {
      "cell_type": "markdown",
      "source": [
        "## Problem: Planetary Weight Calculator"
      ],
      "metadata": {
        "id": "T634MgnMbcGE"
      }
    },
    {
      "cell_type": "code",
      "source": [
        "def main() -> None:\n",
        "    \"\"\"\n",
        "    Prompts the user for a weight on Earth and a planet,\n",
        "    then prints the equivalent weight on that planet.\n",
        "    \"\"\"\n",
        "    # Dictionary to hold the gravitational constants for each planet\n",
        "    gravity_constants: dict[str, float] = {\n",
        "        \"Mercury\": 0.376,\n",
        "        \"Venus\": 0.889,\n",
        "        \"Mars\": 0.378,\n",
        "        \"Jupiter\": 2.36,\n",
        "        \"Saturn\": 1.081,\n",
        "        \"Uranus\": 0.815,\n",
        "        \"Neptune\": 1.14\n",
        "    }\n",
        "\n",
        "    # List of valid planets\n",
        "    valid_planets: list[str] = list(gravity_constants.keys())\n",
        "\n",
        "    try:\n",
        "        # Prompt the user for their weight on Earth\n",
        "        weight_on_earth: float = float(input(\"Enter a weight on Earth: \"))\n",
        "\n",
        "        # Ensure the weight is a positive number\n",
        "        if weight_on_earth < 0:\n",
        "            raise ValueError(\"Weight cannot be negative.\")\n",
        "\n",
        "        # Provide the user with a list of valid planets\n",
        "        print(f\"Valid planets are: {', '.join(valid_planets)}\")\n",
        "\n",
        "        # Prompt the user for the name of a planet\n",
        "        planet: str = input(\"Enter a planet: \").strip().lower().capitalize()\n",
        "\n",
        "        # Calculate the equivalent weight on the specified planet\n",
        "        if planet in gravity_constants:\n",
        "            weight_on_planet: float = weight_on_earth * gravity_constants[planet]\n",
        "            # Print the result rounded to 2 decimal places using f-string\n",
        "            print(f\"The equivalent weight on {planet}: {round(weight_on_planet, 2)}\")\n",
        "        else:\n",
        "            print(\"Invalid planet name. Please enter a valid planet from the list.\")\n",
        "\n",
        "    except ValueError as e:\n",
        "        print(f\"Error: {e}. Please enter a valid weight.\")\n",
        "\n",
        "# This provided line is required at the end of\n",
        "# Python file to call the main() function.\n",
        "if __name__ == \"__main__\":\n",
        "    main()\n"
      ],
      "metadata": {
        "colab": {
          "base_uri": "https://localhost:8080/"
        },
        "id": "g6tjwugLbeg3",
        "outputId": "fd154a99-5921-4788-9857-873822a10658"
      },
      "execution_count": 5,
      "outputs": [
        {
          "output_type": "stream",
          "name": "stdout",
          "text": [
            "Enter a weight on Earth: 60\n",
            "Valid planets are: Mercury, Venus, Mars, Jupiter, Saturn, Uranus, Neptune\n",
            "Enter a planet: MArS\n",
            "The equivalent weight on Mars: 22.68\n"
          ]
        }
      ]
    },
    {
      "cell_type": "markdown",
      "source": [
        "## List Practice"
      ],
      "metadata": {
        "id": "1wj_oWraeb5U"
      }
    },
    {
      "cell_type": "code",
      "source": [
        "def main() -> None:\n",
        "    \"\"\"\n",
        "    Main function to demonstrate list operations with fruits.\n",
        "    \"\"\"\n",
        "    # Create a list called fruit_list that contains the following fruits:\n",
        "    fruit_list: list[str] = ['apple', 'banana', 'orange', 'grape', 'pineapple']\n",
        "\n",
        "    # Print the length of the list.\n",
        "    print(f\"Length of the fruit list: {len(fruit_list)}\")\n",
        "\n",
        "    # Add 'mango' at the end of the list.\n",
        "    fruit_list.append('mango')\n",
        "\n",
        "    # Print the updated list.\n",
        "    print(f\"Updated fruit list: {fruit_list}\")\n",
        "\n",
        "# This provided line is required at the end of\n",
        "# Python file to call the main() function.\n",
        "if __name__ == \"__main__\":\n",
        "    main()"
      ],
      "metadata": {
        "colab": {
          "base_uri": "https://localhost:8080/"
        },
        "id": "Houk30qFegPk",
        "outputId": "c276df5e-e3d1-489d-92ea-700e685a03b7"
      },
      "execution_count": 6,
      "outputs": [
        {
          "output_type": "stream",
          "name": "stdout",
          "text": [
            "Length of the fruit list: 5\n",
            "Updated fruit list: ['apple', 'banana', 'orange', 'grape', 'pineapple', 'mango']\n"
          ]
        }
      ]
    },
    {
      "cell_type": "markdown",
      "source": [
        "## Index Game"
      ],
      "metadata": {
        "id": "xDKlTyYhflnC"
      }
    },
    {
      "cell_type": "code",
      "source": [
        "def access_element(input_list: list, index: int) -> str:\n",
        "    \"\"\"\n",
        "    Access an element from the list at the specified index.\n",
        "\n",
        "    Args:\n",
        "        input_list (list): The list to access.\n",
        "        index (int): The index of the element to access.\n",
        "\n",
        "    Returns:\n",
        "        str: The element at the specified index or an error message if out of range.\n",
        "    \"\"\"\n",
        "    if 0 <= index < len(input_list):\n",
        "        return f\"🎉 Element at index {index}: {input_list[index]}\"\n",
        "    else:\n",
        "        return \"🚫 Error: Index out of range. Please try again.\"\n",
        "\n",
        "\n",
        "def modify_element(input_list: list, index: int, new_value) -> str:\n",
        "    \"\"\"\n",
        "    Modify an element in the list at the specified index.\n",
        "\n",
        "    Args:\n",
        "        input_list (list): The list to modify.\n",
        "        index (int): The index of the element to modify.\n",
        "        new_value: The new value to replace the old value.\n",
        "\n",
        "    Returns:\n",
        "        str: A message indicating success or an error message if out of range.\n",
        "    \"\"\"\n",
        "    if 0 <= index < len(input_list):\n",
        "        old_value = input_list[index]\n",
        "        input_list[index] = new_value\n",
        "        return f\"🔄 Modified element at index {index} from {old_value} to {new_value}.\"\n",
        "    else:\n",
        "        return \"🚫 Error: Index out of range. Please try again.\"\n",
        "\n",
        "\n",
        "def slice_list(input_list: list, start_index: int, end_index: int) -> list:\n",
        "    \"\"\"\n",
        "    Slice the list from start_index to end_index.\n",
        "\n",
        "    Args:\n",
        "        input_list (list): The list to slice.\n",
        "        start_index (int): The starting index for slicing.\n",
        "        end_index (int): The ending index for slicing.\n",
        "\n",
        "    Returns:\n",
        "        list: A new list containing the sliced elements or an empty list if indices are out of range.\n",
        "    \"\"\"\n",
        "    if start_index < 0 or end_index > len(input_list) or start_index >= end_index:\n",
        "        return []\n",
        "    return input_list[start_index:end_index]\n",
        "\n",
        "\n",
        "def main() -> None:\n",
        "    \"\"\"\n",
        "    Main function to run the list manipulation game.\n",
        "    \"\"\"\n",
        "    # Initialize a list with different elements\n",
        "    my_list: list[float | str] = [10, \"apple\", 3.14, \"banana\", 42]\n",
        "\n",
        "    print(\"🌟 Welcome to the List Manipulation Adventure! 🌟\")\n",
        "\n",
        "    while True:\n",
        "        print(f\"\\nCurrent list: {my_list}\")\n",
        "        print(\"Select an operation:\")\n",
        "        print(\"1. Access an element\")\n",
        "        print(\"2. Modify an element\")\n",
        "        print(\"3. Slice the list\")\n",
        "        print(\"4. Exit\")\n",
        "\n",
        "        choice = input(\"Enter your choice (1-4): \")\n",
        "\n",
        "        try:\n",
        "            if choice == '1':\n",
        "                index = int(input(\"Enter the index of the element to access: \"))\n",
        "                result = access_element(my_list, index)\n",
        "                print(result)\n",
        "\n",
        "            elif choice == '2':\n",
        "                index = int(input(\"Enter the index of the element to modify: \"))\n",
        "                new_value = input(\"Enter the new value: \")\n",
        "                result = modify_element(my_list, index, new_value)\n",
        "                print(result)\n",
        "\n",
        "            elif choice == '3':\n",
        "                start_index = int(input(\"Enter the start index for slicing: \"))\n",
        "                end_index = int(input(\"Enter the end index for slicing: \"))\n",
        "                result = slice_list(my_list, start_index, end_index)\n",
        "                if result:\n",
        "                    print(f\"Sliced list: {result}\")\n",
        "                else:\n",
        "                    print(\"🚫 Error: Invalid slice indices. Please try again.\")\n",
        "\n",
        "            elif choice == '4':\n",
        "                print(\"👋 Exiting the game. Goodbye!\")\n",
        "                break\n",
        "\n",
        "            else:\n",
        "                print(\"🚫 Invalid choice. Please select a valid operation.\")\n",
        "\n",
        "        except ValueError:\n",
        "            print(\"🚫 Error: Please enter a valid integer for indices.\")\n",
        "\n",
        "# This provided line is required at the end of\n",
        "# Python file to call the main() function.\n",
        "if __name__ == \"__main__\":\n",
        "    main()"
      ],
      "metadata": {
        "colab": {
          "base_uri": "https://localhost:8080/"
        },
        "id": "TiE9E0tleun-",
        "outputId": "de94f633-d072-495e-9f57-e6634f7c7543"
      },
      "execution_count": 10,
      "outputs": [
        {
          "output_type": "stream",
          "name": "stdout",
          "text": [
            "🌟 Welcome to the List Manipulation Adventure! 🌟\n",
            "\n",
            "Current list: [10, 'apple', 3.14, 'banana', 42]\n",
            "Select an operation:\n",
            "1. Access an element\n",
            "2. Modify an element\n",
            "3. Slice the list\n",
            "4. Exit\n",
            "Enter your choice (1-4): 2\n",
            "Enter the index of the element to modify: 1\n",
            "Enter the new value: cat\n",
            "🔄 Modified element at index 1 from apple to cat.\n",
            "\n",
            "Current list: [10, 'cat', 3.14, 'banana', 42]\n",
            "Select an operation:\n",
            "1. Access an element\n",
            "2. Modify an element\n",
            "3. Slice the list\n",
            "4. Exit\n",
            "Enter your choice (1-4): 4\n",
            "👋 Exiting the game. Goodbye!\n"
          ]
        }
      ]
    }
  ]
}
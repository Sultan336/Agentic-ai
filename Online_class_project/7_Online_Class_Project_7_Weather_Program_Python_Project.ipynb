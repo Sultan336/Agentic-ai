{
  "nbformat": 4,
  "nbformat_minor": 0,
  "metadata": {
    "colab": {
      "provenance": [],
      "authorship_tag": "ABX9TyNAzMy2acXVsqgGdhwsN6FP"
    },
    "kernelspec": {
      "name": "python3",
      "display_name": "Python 3"
    },
    "language_info": {
      "name": "python"
    }
  },
  "cells": [
    {
      "cell_type": "markdown",
      "source": [
        "#Online Class Project 7: Weather Program Python Project"
      ],
      "metadata": {
        "id": "BtXXcs9OAKIt"
      }
    },
    {
      "cell_type": "code",
      "source": [
        "!pip install colorama"
      ],
      "metadata": {
        "colab": {
          "base_uri": "https://localhost:8080/"
        },
        "id": "gl8BYIiJMzug",
        "outputId": "9f09982e-9897-483d-c952-6d367f113439"
      },
      "execution_count": 2,
      "outputs": [
        {
          "output_type": "stream",
          "name": "stdout",
          "text": [
            "Collecting colorama\n",
            "  Downloading colorama-0.4.6-py2.py3-none-any.whl.metadata (17 kB)\n",
            "Downloading colorama-0.4.6-py2.py3-none-any.whl (25 kB)\n",
            "Installing collected packages: colorama\n",
            "Successfully installed colorama-0.4.6\n"
          ]
        }
      ]
    },
    {
      "cell_type": "code",
      "execution_count": 3,
      "metadata": {
        "id": "Q7WzUnhJ_6WS",
        "colab": {
          "base_uri": "https://localhost:8080/"
        },
        "outputId": "eed1be60-425e-430d-afa3-6f33a8f34b54"
      },
      "outputs": [
        {
          "output_type": "stream",
          "name": "stdout",
          "text": [
            "☀️ Welcome to the Weather Program Project! Let's explore today's forecast together!\n",
            "❌ Error: API key not found! Please set the OPENWEATHER_API_KEY environment variable.\n"
          ]
        }
      ],
      "source": [
        "#!/usr/bin/env python3\n",
        "\"\"\"\n",
        "Weather Program Python Project - Get the Forecast! ☁️🌤️🌧️\n",
        "\n",
        "This interactive script fetches the current weather for a user-specified city\n",
        "using the OpenWeatherMap API. It demonstrates colorful terminal interactions:\n",
        "- Inputs are shown in cyan.\n",
        "- Errors are printed in bold red.\n",
        "- Successful messages and outputs are displayed in green.\n",
        "\n",
        "Before running this script, ensure you have:\n",
        "  • Installed the dependencies: `pip install requests colorama`\n",
        "  • Set your OpenWeatherMap API key in the environment variable `OPENWEATHER_API_KEY`\n",
        "    (e.g., export OPENWEATHER_API_KEY=\"your_api_key_here\")\n",
        "\n",
        "Let's chase those clouds away and explore the weather together! 🌈\n",
        "\"\"\"\n",
        "\n",
        "import os\n",
        "import requests\n",
        "from typing import Optional, Dict\n",
        "from colorama import Fore, Style, init\n",
        "\n",
        "# Initialize Colorama for correct terminal color management.\n",
        "init(autoreset=True)\n",
        "\n",
        "\n",
        "def fetch_weather_data(city: str, api_key: str) -> Optional[Dict]:\n",
        "    \"\"\"\n",
        "    Fetch the current weather data for a specific city via the OpenWeatherMap API.\n",
        "\n",
        "    Args:\n",
        "        city (str): The name of the city to fetch weather info for.\n",
        "        api_key (str): API key for authenticating with OpenWeatherMap.\n",
        "\n",
        "    Returns:\n",
        "        Optional[Dict]: A dictionary containing weather data on success, or None on failure.\n",
        "    \"\"\"\n",
        "    base_url: str = \"http://api.openweathermap.org/data/2.5/weather\"\n",
        "    params: Dict[str, str] = {\n",
        "        \"q\": city,\n",
        "        \"appid\": api_key,\n",
        "        \"units\": \"metric\"  # Get temperature in Celsius.\n",
        "    }\n",
        "    try:\n",
        "        response = requests.get(base_url, params=params, timeout=10)\n",
        "        response.raise_for_status()  # Raise an exception for HTTP errors.\n",
        "        return response.json()\n",
        "    except requests.exceptions.HTTPError as http_err:\n",
        "        print(f\"{Style.BRIGHT}{Fore.RED}❌ HTTP error occurred: {http_err}{Style.RESET_ALL}\")\n",
        "    except requests.exceptions.RequestException as req_err:\n",
        "        print(f\"{Style.BRIGHT}{Fore.RED}❌ Network error occurred: {req_err}{Style.RESET_ALL}\")\n",
        "    except Exception as ex:\n",
        "        print(f\"{Style.BRIGHT}{Fore.RED}❌ Unexpected error: {ex}{Style.RESET_ALL}\")\n",
        "    return None\n",
        "\n",
        "\n",
        "def display_weather_info(weather_data: Dict) -> None:\n",
        "    \"\"\"\n",
        "    Display the weather information in a visually appealing manner.\n",
        "\n",
        "    Args:\n",
        "        weather_data (Dict): The weather data as returned from the API.\n",
        "    \"\"\"\n",
        "    try:\n",
        "        city_name: str = weather_data.get(\"name\", \"Unknown Location\")\n",
        "        main_data: Dict = weather_data.get(\"main\", {})\n",
        "        weather: list = weather_data.get(\"weather\", [])\n",
        "        temperature: float = main_data.get(\"temp\", 0.0)\n",
        "        humidity: int = main_data.get(\"humidity\", 0)\n",
        "        description: str = weather[0].get(\"description\", \"No description\").capitalize() if weather else \"N/A\"\n",
        "\n",
        "        # Display weather details with colorful and friendly messages.\n",
        "        print(f\"\\n{Fore.GREEN}🌟 Weather in {city_name}:{Style.RESET_ALL}\")\n",
        "        print(f\"{Fore.GREEN}   Temperature: {temperature}°C\")\n",
        "        print(f\"   Humidity: {humidity}%\")\n",
        "        print(f\"   Condition: {description}{Style.RESET_ALL}\")\n",
        "    except Exception as ex:\n",
        "        print(f\"{Style.BRIGHT}{Fore.RED}❌ Error displaying weather: {ex}{Style.RESET_ALL}\")\n",
        "\n",
        "\n",
        "def main() -> None:\n",
        "    \"\"\"\n",
        "    Main function to drive the Weather Program Python project.\n",
        "\n",
        "    The function prompts the user for a city, fetches the weather data using the API,\n",
        "    and prints out the results with creative, colorful messages. Type 'exit' to quit the program.\n",
        "    \"\"\"\n",
        "    print(f\"{Fore.GREEN}☀️ Welcome to the Weather Program Project! Let's explore today's forecast together!{Style.RESET_ALL}\")\n",
        "\n",
        "    # Retrieve the API key from the environment.\n",
        "    api_key: str = os.getenv(\"OPENWEATHER_API_KEY\", \"\")\n",
        "    if not api_key:\n",
        "        print(f\"{Style.BRIGHT}{Fore.RED}❌ Error: API key not found! Please set the OPENWEATHER_API_KEY environment variable.{Style.RESET_ALL}\")\n",
        "        return\n",
        "\n",
        "    while True:\n",
        "        # Prompt the user for the city name.\n",
        "        city: str = input(f\"{Fore.CYAN}Enter a city name (or type 'exit' to quit): {Style.RESET_ALL}\").strip()\n",
        "        if city.lower() == 'exit':\n",
        "            print(f\"{Fore.GREEN}👋 Goodbye! Stay curious about the weather!{Style.RESET_ALL}\")\n",
        "            break\n",
        "\n",
        "        # Fetch the weather data.\n",
        "        weather_data: Optional[Dict] = fetch_weather_data(city, api_key)\n",
        "\n",
        "        # Verify if the API call was successful.\n",
        "        if weather_data is not None and weather_data.get(\"cod\") == 200:\n",
        "            display_weather_info(weather_data)\n",
        "        else:\n",
        "            # Handle errors if a valid response isn't returned.\n",
        "            if weather_data and weather_data.get(\"message\"):\n",
        "                error_msg: str = weather_data.get(\"message\", \"An unknown error occurred.\")\n",
        "                print(f\"{Style.BRIGHT}{Fore.RED}❌ API Error: {error_msg}{Style.RESET_ALL}\")\n",
        "            else:\n",
        "                print(f\"{Style.BRIGHT}{Fore.RED}❌ Could not retrieve weather data for '{city}'. Please try again!{Style.RESET_ALL}\")\n",
        "\n",
        "\n",
        "# This provided line is required at the end of\n",
        "# Python file to call the main() function.\n",
        "if __name__ == '__main__':\n",
        "    main()"
      ]
    },
    {
      "cell_type": "code",
      "source": [],
      "metadata": {
        "id": "WwtvNF6bAMdS"
      },
      "execution_count": null,
      "outputs": []
    },
    {
      "cell_type": "code",
      "source": [],
      "metadata": {
        "id": "_-_Tx0CcANnB"
      },
      "execution_count": null,
      "outputs": []
    },
    {
      "cell_type": "code",
      "source": [],
      "metadata": {
        "id": "CxdPei9DAOhX"
      },
      "execution_count": null,
      "outputs": []
    }
  ]
}
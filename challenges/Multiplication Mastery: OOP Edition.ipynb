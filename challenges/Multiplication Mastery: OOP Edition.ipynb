{
  "nbformat": 4,
  "nbformat_minor": 0,
  "metadata": {
    "colab": {
      "provenance": [],
      "authorship_tag": "ABX9TyPTOaqjGM7Nh5pwKaBCkPiZ"
    },
    "kernelspec": {
      "name": "python3",
      "display_name": "Python 3"
    },
    "language_info": {
      "name": "python"
    }
  },
  "cells": [
    {
      "cell_type": "markdown",
      "source": [
        "# Coding Chalange"
      ],
      "metadata": {
        "id": "MOsBEybVy831"
      }
    },
    {
      "cell_type": "code",
      "execution_count": 1,
      "metadata": {
        "id": "hKLDlxHSXflr",
        "colab": {
          "base_uri": "https://localhost:8080/"
        },
        "outputId": "11c84f5b-3b40-4490-8470-65fec839d398"
      },
      "outputs": [
        {
          "output_type": "stream",
          "name": "stdout",
          "text": [
            "Enter the number: 2\n",
            "Enter range: 10\n",
            "2 x 1 = 2\n",
            "2 x 2 = 4\n",
            "2 x 3 = 6\n",
            "2 x 4 = 8\n",
            "2 x 5 = 10\n",
            "2 x 6 = 12\n",
            "2 x 7 = 14\n",
            "2 x 8 = 16\n",
            "2 x 9 = 18\n",
            "2 x 10 = 20\n"
          ]
        }
      ],
      "source": [
        "number = int(input(\"Enter the number: \"))\n",
        "r = int(input(\"Enter range: \"))\n",
        "for i in range(1,r + 1):\n",
        "  result = 0\n",
        "  for _ in range(i):\n",
        "    result += number\n",
        "  print(f'{number} x {i} = {result}')"
      ]
    },
    {
      "cell_type": "markdown",
      "source": [
        "1.  **Input Validation**:\n",
        "    \n",
        "    *   The get\\_integer\\_input function ensures that the user provides a valid positive integer.\n",
        "        \n",
        "    *   Prevents the program from crashing if non-integer or invalid inputs are entered.\n",
        "        \n",
        "2.  **Refactored Logic**:\n",
        "    \n",
        "    *   Core logic for generating the multiplication table is encapsulated in the generate\\_multiplication\\_table function.\n",
        "        \n",
        "    *   Ensures single responsibility for each function and improves readability.\n",
        "        \n",
        "3.  **Code Readability**:\n",
        "    \n",
        "    *   Meaningful variable and function names for self-documenting code.\n",
        "        \n",
        "    *   Clear comments explaining the purpose of each function and block of code.\n",
        "        \n",
        "4.  **Error Handling**:\n",
        "    \n",
        "    *   Gracefully handles invalid input and prompts the user until valid input is received.\n",
        "        \n",
        "5.  **Scalable Structure**:\n",
        "    \n",
        "    *   Easy to extend for additional features, such as saving results to a file or supporting custom ranges for negative numbers."
      ],
      "metadata": {
        "id": "MTL7IiSkzfRg"
      }
    },
    {
      "cell_type": "code",
      "source": [
        "def get_integer_input(prompt):\n",
        "    \"\"\"\n",
        "    Prompt the user for integer input with error handling.\n",
        "\n",
        "    Args:\n",
        "        prompt (str): The message to display to the user.\n",
        "\n",
        "    Returns:\n",
        "        int: A valid integer entered by the user.\n",
        "    \"\"\"\n",
        "    while True:\n",
        "        try:\n",
        "            value = int(input(prompt))  # Attempt to convert input to integer\n",
        "            if value <= 0:\n",
        "                print(\"Please enter a positive integer.\")\n",
        "                continue\n",
        "            return value\n",
        "        except ValueError:\n",
        "            print(\"Invalid input. Please enter a valid integer.\")\n",
        "\n",
        "def generate_multiplication_table(number, end_range):\n",
        "    \"\"\"\n",
        "    Generate and display the multiplication table for a given number and range.\n",
        "\n",
        "    Args:\n",
        "        number (int): The number for which to generate the table.\n",
        "        end_range (int): The range up to which the table is generated.\n",
        "\n",
        "    Returns:\n",
        "        None\n",
        "    \"\"\"\n",
        "    print(f\"\\nMultiplication Table for {number} up to {end_range}:\")\n",
        "    print(\"-\" * 40)\n",
        "    for i in range(1, end_range + 1):\n",
        "        # Simulate multiplication using repeated addition\n",
        "        result = 0\n",
        "        for _ in range(i):\n",
        "            result += number\n",
        "        print(f\"{number} x {i} = {result}\")\n",
        "    print(\"-\" * 40)\n",
        "\n",
        "def main():\n",
        "    \"\"\"\n",
        "    Main function to drive the program.\n",
        "\n",
        "    Handles user input, validates it, and generates the multiplication table.\n",
        "    \"\"\"\n",
        "    print(\"Welcome to the Multiplication Table Generator!\")\n",
        "    print(\"Follow the prompts to generate a table.\\n\")\n",
        "\n",
        "    # Get user inputs\n",
        "    number = get_integer_input(\"Enter the number for which you want the multiplication table: \")\n",
        "    end_range = get_integer_input(\"Enter the range up to which you want the table: \")\n",
        "\n",
        "    # Generate and display the multiplication table\n",
        "    generate_multiplication_table(number, end_range)\n",
        "\n",
        "if __name__ == \"__main__\":\n",
        "    main()\n"
      ],
      "metadata": {
        "colab": {
          "base_uri": "https://localhost:8080/"
        },
        "id": "0Hpzj42tyfT9",
        "outputId": "3904ff66-fed5-4e1b-9966-b3beec208c80"
      },
      "execution_count": 2,
      "outputs": [
        {
          "output_type": "stream",
          "name": "stdout",
          "text": [
            "Welcome to the Multiplication Table Generator!\n",
            "Follow the prompts to generate a table.\n",
            "\n",
            "Enter the number for which you want the multiplication table: 5\n",
            "Enter the range up to which you want the table: 12\n",
            "\n",
            "Multiplication Table for 5 up to 12:\n",
            "----------------------------------------\n",
            "5 x 1 = 5\n",
            "5 x 2 = 10\n",
            "5 x 3 = 15\n",
            "5 x 4 = 20\n",
            "5 x 5 = 25\n",
            "5 x 6 = 30\n",
            "5 x 7 = 35\n",
            "5 x 8 = 40\n",
            "5 x 9 = 45\n",
            "5 x 10 = 50\n",
            "5 x 11 = 55\n",
            "5 x 12 = 60\n",
            "----------------------------------------\n"
          ]
        }
      ]
    },
    {
      "cell_type": "markdown",
      "source": [
        "# OOP Refactor of Multiplication Table: A Quick Overview 🚀\n",
        "\n",
        "We took a simple multiplication table generator and **leveled it up** using **Object-Oriented Programming (OOP)**. Here's a quick rundown:\n",
        "\n",
        "### Key Changes:\n",
        "\n",
        "1. **Class Creation 🏫**: We wrapped the multiplication logic inside a `MultiplicationTable` class to keep everything neat and reusable.\n",
        "   \n",
        "2. **Initialization 💸**: We made the number and range **attributes of the object**, so you can easily work with different numbers and ranges.\n",
        "\n",
        "3. **Generate & Display Table 🍽️💅**: Methods `generate_table()` and `display_table()` now handle the logic and output separately. Clean and professional!\n",
        "\n",
        "4. **Input Handling 🏹**: We ensure the user inputs valid positive integers, preventing any annoying errors (because we’re **not savages**).\n",
        "\n",
        "### Why OOP? 🏆\n",
        "- **Organized, Modular Code**: Everything’s inside the class—reusable and clean.\n",
        "- **Flexibility**: Easy to extend or modify for future needs (like saving to a file or handling negative numbers).\n",
        "- **Elegance**: Keeps your code polished and professional.\n",
        "\n",
        "### Takeaway: 😎\n",
        "OOP makes your code scalable, modular, and more maintainable. **Don't settle for messy, unorganized code.** Embrace OOP and be the coder people admire! 💪\n"
      ],
      "metadata": {
        "id": "I8U80TSXzjNT"
      }
    },
    {
      "cell_type": "code",
      "source": [
        "class MultiplicationTable:\n",
        "    \"\"\"\n",
        "    A class to represent a multiplication table generator.\n",
        "    \"\"\"\n",
        "\n",
        "    def __init__(self, number, end_range):\n",
        "        \"\"\"\n",
        "        Initialize the MultiplicationTable object.\n",
        "\n",
        "        Args:\n",
        "            number (int): The number for which the table is generated.\n",
        "            end_range (int): The range up to which the table is generated.\n",
        "        \"\"\"\n",
        "        self.number = number\n",
        "        self.end_range = end_range\n",
        "\n",
        "    def generate_table(self):\n",
        "        \"\"\"\n",
        "        Generate and return the multiplication table as a list of strings.\n",
        "\n",
        "        Returns:\n",
        "            list: A list of strings representing the multiplication table.\n",
        "        \"\"\"\n",
        "        table = []\n",
        "        for i in range(1, self.end_range + 1):\n",
        "            result = 0\n",
        "            for _ in range(i):  # Simulate multiplication using repeated addition\n",
        "                result += self.number\n",
        "            table.append(f\"{self.number} x {i} = {result}\")\n",
        "        return table\n",
        "\n",
        "    def display_table(self):\n",
        "        \"\"\"\n",
        "        Print the multiplication table to the console.\n",
        "        \"\"\"\n",
        "        print(f\"\\nMultiplication Table for {self.number} up to {self.end_range}:\")\n",
        "        print(\"-\" * 40)\n",
        "        for line in self.generate_table():\n",
        "            print(line)\n",
        "        print(\"-\" * 40)\n",
        "\n",
        "def get_integer_input(prompt):\n",
        "    \"\"\"\n",
        "    Prompt the user for integer input with error handling.\n",
        "\n",
        "    Args:\n",
        "        prompt (str): The message to display to the user.\n",
        "\n",
        "    Returns:\n",
        "        int: A valid integer entered by the user.\n",
        "    \"\"\"\n",
        "    while True:\n",
        "        try:\n",
        "            value = int(input(prompt))\n",
        "            if value <= 0:\n",
        "                print(\"Please enter a positive integer.\")\n",
        "                continue\n",
        "            return value\n",
        "        except ValueError:\n",
        "            print(\"Invalid input. Please enter a valid integer.\")\n",
        "\n",
        "def main():\n",
        "    \"\"\"\n",
        "    Main function to drive the program.\n",
        "\n",
        "    Handles user input, validates it, and displays the multiplication table.\n",
        "    \"\"\"\n",
        "    print(\"Welcome to the Multiplication Table Generator!\")\n",
        "    print(\"Follow the prompts to generate a table.\\n\")\n",
        "\n",
        "    # Get user inputs\n",
        "    number = get_integer_input(\"Enter the number for which you want the multiplication table: \")\n",
        "    end_range = get_integer_input(\"Enter the range up to which you want the table: \")\n",
        "\n",
        "    # Create an instance of the MultiplicationTable class\n",
        "    table_generator = MultiplicationTable(number, end_range)\n",
        "\n",
        "    # Display the table\n",
        "    table_generator.display_table()\n",
        "\n",
        "if __name__ == \"__main__\":\n",
        "    main()\n"
      ],
      "metadata": {
        "colab": {
          "base_uri": "https://localhost:8080/"
        },
        "id": "oMXMhL560VUR",
        "outputId": "f04dc105-f9ac-4743-b3a4-9938d0b86e61"
      },
      "execution_count": 3,
      "outputs": [
        {
          "output_type": "stream",
          "name": "stdout",
          "text": [
            "Welcome to the Multiplication Table Generator!\n",
            "Follow the prompts to generate a table.\n",
            "\n",
            "Enter the number for which you want the multiplication table: 5\n",
            "Enter the range up to which you want the table: 5\n",
            "\n",
            "Multiplication Table for 5 up to 5:\n",
            "----------------------------------------\n",
            "5 x 1 = 5\n",
            "5 x 2 = 10\n",
            "5 x 3 = 15\n",
            "5 x 4 = 20\n",
            "5 x 5 = 25\n",
            "----------------------------------------\n"
          ]
        }
      ]
    }
  ]
}
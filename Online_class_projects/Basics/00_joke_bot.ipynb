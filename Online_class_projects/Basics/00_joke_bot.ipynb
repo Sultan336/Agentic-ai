{
  "nbformat": 4,
  "nbformat_minor": 0,
  "metadata": {
    "colab": {
      "provenance": [],
      "authorship_tag": "ABX9TyOfs54GoOabbPuq+ChsYQyR"
    },
    "kernelspec": {
      "name": "python3",
      "display_name": "Python 3"
    },
    "language_info": {
      "name": "python"
    }
  },
  "cells": [
    {
      "cell_type": "code",
      "execution_count": null,
      "metadata": {
        "id": "PPmKb8cE5v6S"
      },
      "outputs": [],
      "source": [
        "import random\n",
        "\n",
        "# Constants\n",
        "PROMPT = \"What do you want? \"\n",
        "SORRY = \"Sorry, I only tell jokes. Try again or type 'Exit' to quit.\"\n",
        "\n",
        "# List of jokes to add variety\n",
        "JOKES = [\n",
        "    \"Here is a joke for you! Sophia is heading out to the grocery store. \"\n",
        "    \"A programmer tells her: get a liter of milk, and if they have eggs, get 12. Sophia returns \"\n",
        "    \"with 13 liters of milk. The programmer asks why and Sophia replies: 'because they had eggs'.\",\n",
        "\n",
        "    \"Why do programmers prefer dark mode? Because light attracts bugs!\",\n",
        "\n",
        "    \"Why don’t programmers like nature? It has too many bugs.\",\n",
        "\n",
        "    \"How do you comfort a JavaScript bug? You console it.\"\n",
        "]\n",
        "\n",
        "def main():\n",
        "    while True:\n",
        "        user_input = input(PROMPT).strip().lower()  # Trims spaces and converts user input to lowercase\n",
        "        if \"joke\" in user_input:\n",
        "            print(random.choice(JOKES))  # Randomly selects a joke\n",
        "        elif \"exit\" in user_input:\n",
        "            print(\"Goodbye! Come back for more laughs.\")\n",
        "            break\n",
        "        else:\n",
        "            print(SORRY)\n",
        "\n",
        "# This provided line is required at the end of\n",
        "# Python file to call the main() function.\n",
        "if __name__ == '__main__':\n",
        "    main()"
      ]
    },
    {
      "cell_type": "code",
      "source": [],
      "metadata": {
        "id": "Ua3LoqiP7-_m"
      },
      "execution_count": null,
      "outputs": []
    }
  ]
}
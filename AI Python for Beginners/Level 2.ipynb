{
  "nbformat": 4,
  "nbformat_minor": 0,
  "metadata": {
    "colab": {
      "provenance": [],
      "authorship_tag": "ABX9TyNIUercNKDOlffMx9LvHw0l"
    },
    "kernelspec": {
      "name": "python3",
      "display_name": "Python 3"
    },
    "language_info": {
      "name": "python"
    }
  },
  "cells": [
    {
      "cell_type": "markdown",
      "source": [
        "#Lesson 1"
      ],
      "metadata": {
        "id": "ljUYIIO3exvb"
      }
    },
    {
      "cell_type": "code",
      "execution_count": null,
      "metadata": {
        "id": "bAPLYV6BUZCy",
        "colab": {
          "base_uri": "https://localhost:8080/"
        },
        "outputId": "7bd4759e-8280-4cbd-a4aa-8a7b5d938054"
      },
      "outputs": [
        {
          "output_type": "stream",
          "name": "stdout",
          "text": [
            "7\n"
          ]
        }
      ],
      "source": [
        "# Display the fourth element of\n",
        "# the following list using print()\n",
        "\n",
        "prime_numbers = [2, 3, 5, 7, 11]\n",
        "\n",
        "print(prime_numbers[3])"
      ]
    },
    {
      "cell_type": "code",
      "source": [
        "# Add one name to friends_list using append\n",
        "\n",
        "friends_list = [\"Tommy\", \"Isabel\", \"Daniel\", \"Otto\"]\n",
        "\n",
        "friends_list.append(\"Peter\")\n",
        "\n",
        "print(friends_list)"
      ],
      "metadata": {
        "colab": {
          "base_uri": "https://localhost:8080/"
        },
        "id": "9_w5EZ3qfrJK",
        "outputId": "76d62e20-77cf-4529-c3ec-2c8d0c0173e4"
      },
      "execution_count": null,
      "outputs": [
        {
          "output_type": "stream",
          "name": "stdout",
          "text": [
            "['Tommy', 'Isabel', 'Daniel', 'Otto', 'Peter']\n"
          ]
        }
      ]
    },
    {
      "cell_type": "code",
      "source": [
        "print([i for i in dir(friends_list) if \"__\" not in i ])"
      ],
      "metadata": {
        "colab": {
          "base_uri": "https://localhost:8080/"
        },
        "id": "Dg5vTwssf-S4",
        "outputId": "bad3012e-862b-4efd-85ef-9a8c806dd6de"
      },
      "execution_count": null,
      "outputs": [
        {
          "output_type": "stream",
          "name": "stdout",
          "text": [
            "['append', 'clear', 'copy', 'count', 'extend', 'index', 'insert', 'pop', 'remove', 'reverse', 'sort']\n"
          ]
        }
      ]
    },
    {
      "cell_type": "code",
      "source": [
        "print(f'''\n",
        "{i for i in dir(friends_list) if '__' not in i }\n",
        "''')"
      ],
      "metadata": {
        "colab": {
          "base_uri": "https://localhost:8080/"
        },
        "id": "FohJgzJqhndK",
        "outputId": "74b7f944-1a18-482c-803c-6fb116d1d2ba"
      },
      "execution_count": null,
      "outputs": [
        {
          "output_type": "stream",
          "name": "stdout",
          "text": [
            "\n",
            "<generator object <genexpr> at 0x7923c9418040>\n",
            "\n"
          ]
        }
      ]
    },
    {
      "cell_type": "markdown",
      "source": [
        "#Lesson 2"
      ],
      "metadata": {
        "id": "nDILVylrwFxu"
      }
    },
    {
      "cell_type": "code",
      "source": [
        "# In the following code, remove the country\n",
        "# that is not in South America\n",
        "\n",
        "countries_in_south_america = [\"Colombia\", \"Peru\",\n",
        "                              \"Brasil\", \"Japan\",\n",
        "                              \"Argentina\"]\n",
        "countries_in_south_america.remove(\"Japan\")\n",
        "\n",
        "print(countries_in_south_america)"
      ],
      "metadata": {
        "colab": {
          "base_uri": "https://localhost:8080/"
        },
        "id": "AI6R4BM0j_f8",
        "outputId": "3d6390de-a8e9-4926-ad81-65cd0a699a91"
      },
      "execution_count": null,
      "outputs": [
        {
          "output_type": "stream",
          "name": "stdout",
          "text": [
            "['Colombia', 'Peru', 'Brasil', 'Argentina']\n"
          ]
        }
      ]
    },
    {
      "cell_type": "markdown",
      "source": [
        "#Lesson 3"
      ],
      "metadata": {
        "id": "3hkhylEywIIY"
      }
    },
    {
      "cell_type": "code",
      "source": [
        "### Download helper_function.py\n",
        "# * Set Secrets Variable for Gemini\n",
        "# * `GEMINI_API_KEY`\n",
        "\n",
        "!curl -o helper_functions.py https://raw.githubusercontent.com/panaversity/learn-cloud-native-modern-ai-python/main/04_natural_language_programming/02_ai_python_for_beginners/course1_basics/Lesson_9/helper_functions.py"
      ],
      "metadata": {
        "colab": {
          "base_uri": "https://localhost:8080/"
        },
        "id": "h73wueabwL8U",
        "outputId": "c03f93d9-9627-4b57-8699-b8e5d881f3d3"
      },
      "execution_count": null,
      "outputs": [
        {
          "output_type": "stream",
          "name": "stdout",
          "text": [
            "  % Total    % Received % Xferd  Average Speed   Time    Time     Time  Current\n",
            "                                 Dload  Upload   Total   Spent    Left  Speed\n",
            "100  3944  100  3944    0     0  11965      0 --:--:-- --:--:-- --:--:-- 11987\n"
          ]
        }
      ]
    },
    {
      "cell_type": "code",
      "source": [
        "from helper_functions import print_llm_response, get_llm_response"
      ],
      "metadata": {
        "id": "0TTOcaX-wbZQ"
      },
      "execution_count": null,
      "outputs": []
    },
    {
      "cell_type": "code",
      "source": [
        "# Fix the following code.\n",
        "# It should print the flavors in\n",
        "# ice_cream_flavors one by one.\n",
        "\n",
        "ice_cream_flavors = [\"Chocolate\", \"Mint Chocolate Chip\"]\n",
        "\n",
        "### EDIT THE FOLLOWING CODE ###\n",
        "for flavor in ice_cream_flavors:\n",
        "\n",
        "    print(flavor)\n",
        "### --------------- ###"
      ],
      "metadata": {
        "colab": {
          "base_uri": "https://localhost:8080/"
        },
        "id": "XlNoEZFywfMH",
        "outputId": "e5ebddf4-9f1a-4b03-f65c-49fcbc84f5ce"
      },
      "execution_count": null,
      "outputs": [
        {
          "output_type": "stream",
          "name": "stdout",
          "text": [
            "Chocolate\n",
            "Mint Chocolate Chip\n"
          ]
        }
      ]
    },
    {
      "cell_type": "code",
      "source": [
        "# Translate the flavors in ice_cream_flavors to Spanish\n",
        "ice_cream_flavors = [\"Vanilla\", \"Strawberry\"]\n",
        "\n",
        "for flavor in ice_cream_flavors:\n",
        "    ### EDIT THE FOLLOWING CODE ###\n",
        "    #Hint: you only need to add one or two sentences to the prompt\n",
        "    prompt = f\"\"\"For the ice cream flavor listed below,{ice_cream_flavors} translate into spanish\n",
        "\n",
        "    \"\"\"\n",
        "    ### --------------- ###\n",
        "    print_llm_response(prompt)"
      ],
      "metadata": {
        "colab": {
          "base_uri": "https://localhost:8080/",
          "height": 127
        },
        "id": "kltW1vSUxpkz",
        "outputId": "daf56207-1f24-434d-aada-7634609792fc"
      },
      "execution_count": null,
      "outputs": [
        {
          "output_type": "stream",
          "name": "stdout",
          "text": [
            "* **Vanilla:** Vainilla\n",
            "* **Strawberry:** Fresa (or Fresas, if referring to more than one strawberry)\n",
            "\n",
            "* **Vanilla:** Vainilla\n",
            "* **Strawberry:** Fresa (or Frutilla, depending on the region.  Fresa is more common)\n",
            "\n"
          ]
        }
      ]
    },
    {
      "cell_type": "code",
      "source": [
        "# Write code to get a list with\n",
        "# words without typos\n",
        "\n",
        "words_with_typos = [\"Aple\", \"Wether\", \"Newpaper\"]\n",
        "words_without_typos = []\n",
        "\n",
        "for word in words_with_typos:\n",
        "    prompt = f\"\"\"Fix the spelling mistake in the following word: {words_with_typos}\n",
        "    Provide only the word and add it to this list {words_without_typos}.\n",
        "    \"\"\"\n",
        "    correct_word = get_llm_response(prompt)\n",
        "\n",
        "\n",
        "print(words_without_typos)\n",
        "print(correct_word)"
      ],
      "metadata": {
        "colab": {
          "base_uri": "https://localhost:8080/",
          "height": 72
        },
        "id": "wsEoSHn-yEFW",
        "outputId": "181f5666-ac98-4bed-c3c0-439722574900"
      },
      "execution_count": null,
      "outputs": [
        {
          "output_type": "stream",
          "name": "stdout",
          "text": [
            "[]\n",
            "['Apple', 'Whether', 'Newspaper']\n",
            "\n"
          ]
        }
      ]
    },
    {
      "cell_type": "markdown",
      "source": [
        "##  Dictionary"
      ],
      "metadata": {
        "id": "xLqvNzkZ41Gl"
      }
    },
    {
      "cell_type": "code",
      "source": [
        "data : list[str] = [\"a\",\"b\",\"c\",4] # list\n",
        "\n",
        "data1 : tuple[str] = (\"x\",\"y\",\"z\") # tuple\n",
        "data2 : set[int] = {1,2,3,4,2,2,'2','2'} # set\n",
        "\n",
        "print(data)\n",
        "print(data1)\n",
        "print(data2)"
      ],
      "metadata": {
        "colab": {
          "base_uri": "https://localhost:8080/"
        },
        "id": "eykV74M44-X5",
        "outputId": "190cdb84-41aa-42dd-b149-bddb39bb43fb"
      },
      "execution_count": null,
      "outputs": [
        {
          "output_type": "stream",
          "name": "stdout",
          "text": [
            "['a', 'b', 'c', 4]\n",
            "('x', 'y', 'z')\n",
            "{1, 2, 3, 4, '2'}\n"
          ]
        }
      ]
    },
    {
      "cell_type": "markdown",
      "source": [
        "#Lessoon 4"
      ],
      "metadata": {
        "id": "-U3uAzjBzez2"
      }
    },
    {
      "cell_type": "code",
      "source": [
        "# Check whether Isabel is older\n",
        "# than at least one of my friends (Tommy and Daniel)\n",
        "isabel_age = 28\n",
        "daniel_age = 30\n",
        "otto_age = 29\n",
        "tommy_age = 27\n",
        "### EDIT THE FOLLOWING CODE ###\n",
        "# Hint: Replace the \"?\" with the correct comparison operator\n",
        "is_isabel_older_than_tommy = isabel_age > tommy_age\n",
        "is_isabel_older_than_daniel = isabel_age > daniel_age\n",
        "### --------------- ###\n",
        "\n",
        "### EDIT THE FOLLOWING CODE ###\n",
        "#Hint: Recall the logical operators \"and\" and \"or\"\n",
        "print(f\"Isabel is the oldest among her friends: {is_isabel_older_than_tommy and is_isabel_older_than_daniel }\")\n",
        "### --------------- ###"
      ],
      "metadata": {
        "colab": {
          "base_uri": "https://localhost:8080/"
        },
        "id": "UN3rymAizk-G",
        "outputId": "0636514a-a6ae-4533-b8d4-751740a8f4f3"
      },
      "execution_count": null,
      "outputs": [
        {
          "output_type": "stream",
          "name": "stdout",
          "text": [
            "Isabel is the oldest among her friends: False\n"
          ]
        }
      ]
    },
    {
      "cell_type": "markdown",
      "source": [
        "#Lesson 7"
      ],
      "metadata": {
        "id": "d4tO6WrLJNYQ"
      }
    },
    {
      "cell_type": "code",
      "source": [
        "# Parameters\n",
        "def greet(name: str):\n",
        "  hello = f\"Hello {name}\"\n",
        "  return hello\n",
        "\n",
        "greet('Sultan')"
      ],
      "metadata": {
        "colab": {
          "base_uri": "https://localhost:8080/",
          "height": 35
        },
        "id": "37LPbjVHJQgn",
        "outputId": "c418bbae-21bb-4544-d1d5-fb5046abe4f2"
      },
      "execution_count": null,
      "outputs": [
        {
          "output_type": "execute_result",
          "data": {
            "text/plain": [
              "'Hello Sultan'"
            ],
            "application/vnd.google.colaboratory.intrinsic+json": {
              "type": "string"
            }
          },
          "metadata": {},
          "execution_count": 25
        }
      ]
    },
    {
      "cell_type": "code",
      "source": [
        "def add(x: int, y: int) -> int:\n",
        "  return x + y\n",
        "\n",
        "add(2,4)"
      ],
      "metadata": {
        "colab": {
          "base_uri": "https://localhost:8080/"
        },
        "id": "psD-YeEfQqlB",
        "outputId": "6f409387-aa87-416e-a27f-7dee656bae37"
      },
      "execution_count": null,
      "outputs": [
        {
          "output_type": "execute_result",
          "data": {
            "text/plain": [
              "6"
            ]
          },
          "metadata": {},
          "execution_count": 26
        }
      ]
    },
    {
      "cell_type": "markdown",
      "source": [
        "# Creating a shopping mall checkout counter"
      ],
      "metadata": {
        "id": "gglwP-jMcwMC"
      }
    },
    {
      "cell_type": "code",
      "source": [
        "def add_all(*nums) -> int:\n",
        "  return sum(nums)\n",
        "\n",
        "def apply_discount(price: int, discount: float) -> int:\n",
        "  return price - price*discount / 100"
      ],
      "metadata": {
        "id": "qJkYnhJCdoIZ"
      },
      "execution_count": null,
      "outputs": []
    },
    {
      "cell_type": "code",
      "source": [
        "total_price = add_all(1000,2000,344)\n",
        "discount = apply_discount(total_price, 100)\n",
        "print(discount)"
      ],
      "metadata": {
        "colab": {
          "base_uri": "https://localhost:8080/"
        },
        "id": "ZNLKI9lfdtv4",
        "outputId": "a6191196-59c4-48cd-d044-f5232e709bf7"
      },
      "execution_count": null,
      "outputs": [
        {
          "output_type": "stream",
          "name": "stdout",
          "text": [
            "0.0\n"
          ]
        }
      ]
    },
    {
      "cell_type": "code",
      "source": [
        "def apply_discount(price: int):\n",
        "\n",
        "  discount : float = 0\n",
        "  print(f'Initial Discount: {discount}')\n",
        "  if price <= 10000:\n",
        "    print('Discount applied catagory \"A\"')\n",
        "    discount = 30\n",
        "  elif price <= 15000:\n",
        "    print('Discount applied catagory \"B\"')\n",
        "    discount = 45\n",
        "  else:\n",
        "    print('Discount applied catagory \"C\"')\n",
        "    discount = 55\n",
        "\n",
        "  print(f'Your final applicable discount is {discount}')\n",
        "  return price - price*discount / 100"
      ],
      "metadata": {
        "id": "41bsbtwEeOA4"
      },
      "execution_count": null,
      "outputs": []
    },
    {
      "cell_type": "code",
      "source": [
        "total_price = add_all(1000,2000,344)\n",
        "discount = apply_discount(total_price)\n",
        "print(discount)\n"
      ],
      "metadata": {
        "colab": {
          "base_uri": "https://localhost:8080/"
        },
        "id": "lgfVexw1jh5a",
        "outputId": "a5be9c36-ffbc-40ea-e76d-69ea951a1ec3"
      },
      "execution_count": null,
      "outputs": [
        {
          "output_type": "stream",
          "name": "stdout",
          "text": [
            "Initial Discount: 0\n",
            "Discount applied catagory \"A\"\n",
            "Your final applicable discount is 30\n",
            "2340.8\n"
          ]
        }
      ]
    },
    {
      "cell_type": "code",
      "source": [
        "# tax calculation\n",
        "def calculate_tax(gross_total: int, tax_rate: float = 17) -> float:\n",
        "  return gross_total + gross_total*tax_rate / 100"
      ],
      "metadata": {
        "id": "dG9kmBMmibz3"
      },
      "execution_count": null,
      "outputs": []
    },
    {
      "cell_type": "code",
      "source": [
        "calculate_tax(discount)"
      ],
      "metadata": {
        "colab": {
          "base_uri": "https://localhost:8080/"
        },
        "id": "MTDHNWWBhlxM",
        "outputId": "d939dbb2-a892-442a-dd58-1ef959c8f28a"
      },
      "execution_count": null,
      "outputs": [
        {
          "output_type": "execute_result",
          "data": {
            "text/plain": [
              "2738.7360000000003"
            ]
          },
          "metadata": {},
          "execution_count": 43
        }
      ]
    },
    {
      "cell_type": "code",
      "source": [
        "def checkout(*nums: int)-> int:\n",
        "  total_price = add_all(*nums)\n",
        "  discount = apply_discount(total_price)\n",
        "  return f'Gross:{discount} /n net amount:{calculate_tax(discount)}'"
      ],
      "metadata": {
        "id": "kO0Fg-rwovCd"
      },
      "execution_count": null,
      "outputs": []
    },
    {
      "cell_type": "code",
      "source": [
        "checkout(100)"
      ],
      "metadata": {
        "colab": {
          "base_uri": "https://localhost:8080/",
          "height": 90
        },
        "id": "RbfTpLrsqD4U",
        "outputId": "d6cf7e7d-10f7-4c1f-fd2d-520e8823ff2a"
      },
      "execution_count": null,
      "outputs": [
        {
          "output_type": "stream",
          "name": "stdout",
          "text": [
            "Initial Discount: 0\n",
            "Discount applied catagory \"A\"\n",
            "Your final applicable discount is 30\n"
          ]
        },
        {
          "output_type": "execute_result",
          "data": {
            "text/plain": [
              "'Gross:70.0 /n net amount:81.9'"
            ],
            "application/vnd.google.colaboratory.intrinsic+json": {
              "type": "string"
            }
          },
          "metadata": {},
          "execution_count": 61
        }
      ]
    },
    {
      "cell_type": "markdown",
      "source": [
        "#Lesson 7"
      ],
      "metadata": {
        "id": "ovfwYmyg44DB"
      }
    },
    {
      "cell_type": "markdown",
      "source": [
        "*   \\* collects **values** into a tuple.\n",
        "    \n",
        "*   \\*\\* collects **key-value pairs** into a dictionary."
      ],
      "metadata": {
        "id": "QfUwkjOL5BXi"
      }
    },
    {
      "cell_type": "code",
      "source": [
        "def movie_info(title, *actors, **directors):\n",
        "    print(f\"Movie: {title}\")\n",
        "    print(\"Actors:\", actors)\n",
        "    print(\"Directors:\", directors)\n",
        "\n",
        "movie_info(\"Inception\", \"Leonardo DiCaprio\", \"Joseph Gordon-Levitt\", Nolan=\"Director\")\n",
        "\n"
      ],
      "metadata": {
        "colab": {
          "base_uri": "https://localhost:8080/"
        },
        "id": "nfHiXgV35AkX",
        "outputId": "5979e962-993d-4f5c-832e-d773458ba075"
      },
      "execution_count": null,
      "outputs": [
        {
          "output_type": "stream",
          "name": "stdout",
          "text": [
            "Movie: Inception\n",
            "Actors: ('Leonardo DiCaprio', 'Joseph Gordon-Levitt')\n",
            "Directors: {'Nolan': 'Director'}\n"
          ]
        }
      ]
    },
    {
      "cell_type": "code",
      "source": [
        "class Animal:\n",
        "    def __init__(self, name, sound):\n",
        "        self.name = name\n",
        "        self.sound = sound\n",
        "\n",
        "    def make_sound(self):\n",
        "        print(f\"{self.name} goes {self.sound}\")\n",
        "\n",
        "    def __repr__(self):\n",
        "        return f\"Animal(name='{self.name}', sound='{self.sound}')\"\n",
        "\n",
        "    def __str__(self):\n",
        "        return f\"This is a {self.name} that goes '{self.sound}'!\"\n",
        "\n",
        "    def __add__(self, other):\n",
        "        return Animal(self.name + \"-\" + other.name, self.sound + \"-\" + other.sound)\n",
        "\n",
        "# Let's create some animals!\n",
        "lion = Animal(\"Lion\", \"Roar\")\n",
        "tiger = Animal(\"Tiger\", \"Growl\")\n",
        "\n",
        "# See their representations\n",
        "print(repr(lion))  # Output: Animal(name='Lion', sound='Roar')\n",
        "print(lion)        # Output: This is a Lion that goes 'Roar'!\n",
        "\n",
        "# Combine them!\n",
        "liger = lion + tiger\n",
        "print(liger)       # Output: This is a Lion-Tiger that goes 'Roar"
      ],
      "metadata": {
        "colab": {
          "base_uri": "https://localhost:8080/"
        },
        "id": "N8O4OiajrjWP",
        "outputId": "ffedc725-97a1-4076-e76e-4dbd85e3217c"
      },
      "execution_count": null,
      "outputs": [
        {
          "output_type": "stream",
          "name": "stdout",
          "text": [
            "Animal(name='Lion', sound='Roar')\n",
            "This is a Lion that goes 'Roar'!\n",
            "This is a Lion-Tiger that goes 'Roar-Growl'!\n"
          ]
        }
      ]
    }
  ]
}

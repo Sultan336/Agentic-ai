{
  "nbformat": 4,
  "nbformat_minor": 0,
  "metadata": {
    "colab": {
      "provenance": [],
      "authorship_tag": "ABX9TyMOykh7PObFpG2tlHkixA4x"
    },
    "kernelspec": {
      "name": "python3",
      "display_name": "Python 3"
    },
    "language_info": {
      "name": "python"
    }
  },
  "cells": [
    {
      "cell_type": "markdown",
      "source": [
        "## Problem Statement\n",
        "\n",
        "Write a function that takes a list of numbers and returns the sum of those numbers."
      ],
      "metadata": {
        "id": "9GR9Fwperxu9"
      }
    },
    {
      "cell_type": "code",
      "execution_count": null,
      "metadata": {
        "colab": {
          "base_uri": "https://localhost:8080/"
        },
        "id": "kPViBSOBq4FY",
        "outputId": "fdf1aac4-1c0c-40d9-b39f-b388ba75db66"
      },
      "outputs": [
        {
          "output_type": "stream",
          "name": "stdout",
          "text": [
            "The sum of [1, 2, 3, 4, 5] is: 15\n"
          ]
        }
      ],
      "source": [
        "from typing import List, Union\n",
        "\n",
        "def sum_numbers(numbers: List[Union[int, float]]) -> Union[int, float]:\n",
        "    \"\"\"\n",
        "    Calculate the sum of a list of numbers.\n",
        "\n",
        "    Args:\n",
        "        numbers (List[Union[int, float]]): A list of integers or floating-point numbers\n",
        "\n",
        "    Returns:\n",
        "        Union[int, float]: The sum of all numbers in the list\n",
        "\n",
        "    Examples:\n",
        "        >>> sum_numbers([1, 2, 3, 4])\n",
        "        10\n",
        "        >>> sum_numbers([1.5, 2.5, 3.0])\n",
        "        7.0\n",
        "    \"\"\"\n",
        "    # Initialize total to zero\n",
        "    total: Union[int, float] = 0\n",
        "\n",
        "    # Iterate through each number in the list and add to total\n",
        "    for num in numbers:\n",
        "        total += num\n",
        "\n",
        "    return total\n",
        "\n",
        "def main() -> None:\n",
        "    \"\"\"\n",
        "    Main function to demonstrate the usage of sum_numbers function.\n",
        "    \"\"\"\n",
        "    # Example usage\n",
        "    numbers = [1, 2, 3, 4, 5]\n",
        "    result = sum_numbers(numbers)\n",
        "    print(f\"The sum of {numbers} is: {result}\")\n",
        "\n",
        "if __name__ == '__main__':\n",
        "    main()"
      ]
    },
    {
      "cell_type": "markdown",
      "source": [
        "## Problem Statement\n",
        "\n",
        "Write a program that doubles each element in a list of numbers. For example, if you start with this list:\n",
        "\n",
        "numbers = [1, 2, 3, 4]\n",
        "\n",
        "You should end with this list:\n",
        "\n",
        "numbers = [2, 4, 6, 8]"
      ],
      "metadata": {
        "id": "kILQiSHZFcph"
      }
    },
    {
      "cell_type": "code",
      "source": [
        "from typing import List, Union\n",
        "\n",
        "def double_numbers(numbers: List[Union[int, float]]) -> List[Union[int, float]]:\n",
        "    \"\"\"\n",
        "    Double each element in a list of numbers.\n",
        "\n",
        "    Args:\n",
        "        numbers (List[Union[int, float]]): A list of integers or floating-point numbers\n",
        "\n",
        "    Returns:\n",
        "        List[Union[int, float]]: A new list with each element doubled\n",
        "\n",
        "    Examples:\n",
        "        >>> double_numbers([1, 2, 3, 4])\n",
        "        [2, 4, 6, 8]\n",
        "        >>> double_numbers([1.5, 2.5])\n",
        "        [3.0, 5.0]\n",
        "    \"\"\"\n",
        "    # Create a new list with doubled values using list comprehension\n",
        "    doubled_numbers: List[Union[int, float]] = [num * 2 for num in numbers]\n",
        "    return doubled_numbers\n",
        "\n",
        "def main() -> None:\n",
        "    \"\"\"\n",
        "    Main function to demonstrate the usage of double_numbers function.\n",
        "    \"\"\"\n",
        "    # Example usage\n",
        "    numbers = [1, 2.4, 3, 4]\n",
        "    print(f\"Original list: {numbers}\")\n",
        "\n",
        "    result = double_numbers(numbers)\n",
        "    print(f\"Doubled list: {result}\")\n",
        "\n",
        "if __name__ == '__main__':\n",
        "    main()"
      ],
      "metadata": {
        "colab": {
          "base_uri": "https://localhost:8080/"
        },
        "id": "MecfOU0Lr2eZ",
        "outputId": "feee5866-945f-4f6e-b805-5a4345d39f29"
      },
      "execution_count": null,
      "outputs": [
        {
          "output_type": "stream",
          "name": "stdout",
          "text": [
            "Original list: [1, 2.4, 3, 4]\n",
            "Doubled list: [2, 4.8, 6, 8]\n"
          ]
        }
      ]
    },
    {
      "cell_type": "markdown",
      "source": [
        "## Problem Statement\n",
        "\n",
        "Implement an 'eraser' on a canvas.\n",
        "\n",
        "The canvas consists of a grid of blue 'cells' which are drawn as rectangles on the screen. We then create an eraser rectangle which, when dragged around the canvas, sets all of the rectangles it is in contact with to white.\n"
      ],
      "metadata": {
        "id": "lz-pdeQlGynR"
      }
    },
    {
      "cell_type": "markdown",
      "source": [],
      "metadata": {
        "id": "Q7JqNG2UGyfG"
      }
    },
    {
      "cell_type": "code",
      "source": [
        "from IPython.display import HTML, display\n",
        "from typing import Dict, Any\n",
        "\n",
        "def create_canvas_eraser() -> None:\n",
        "    \"\"\"Create and display an interactive canvas with smooth erasing functionality.\"\"\"\n",
        "\n",
        "    # HTML/JavaScript implementation with smooth erasing\n",
        "    canvas_html = \"\"\"\n",
        "    <div id=\"canvas-container\" style=\"margin: 20px;\">\n",
        "        <canvas id=\"paintCanvas\" width=\"600\" height=\"400\" style=\"border: 10px solid #ccc;\"></canvas>\n",
        "        <br>\n",
        "        <label for=\"eraserSize\">Eraser Size: </label>\n",
        "        <input type=\"range\" id=\"eraserSize\" min=\"10\" max=\"100\" value=\"40\">\n",
        "        <span id=\"eraserValue\">40px</span>\n",
        "    </div>\n",
        "\n",
        "    <script>\n",
        "        // Canvas setup\n",
        "        const canvas = document.getElementById('paintCanvas');\n",
        "        const ctx = canvas.getContext('2d');\n",
        "        const eraserSlider = document.getElementById('eraserSize');\n",
        "        const eraserValue = document.getElementById('eraserValue');\n",
        "\n",
        "        // Initialize variables\n",
        "        let isErasing = false;\n",
        "        let eraserSize = 40;\n",
        "\n",
        "        // Fill canvas with blue grid\n",
        "        function createGrid() {\n",
        "            const cellSize = 10;\n",
        "            for (let y = 0; y < canvas.height; y += cellSize) {\n",
        "                for (let x = 0; x < canvas.width; x += cellSize) {\n",
        "                    ctx.fillStyle = 'blue';\n",
        "                    ctx.fillRect(x, y, cellSize, cellSize);\n",
        "                    ctx.strokeStyle = 'blue';\n",
        "                    ctx.strokeRect(x, y, cellSize, cellSize);\n",
        "                }\n",
        "            }\n",
        "        }\n",
        "\n",
        "        // Initialize canvas\n",
        "        createGrid();\n",
        "\n",
        "        // Mouse event handlers\n",
        "        function startErasing(e) {\n",
        "            isErasing = true;\n",
        "            erase(e);\n",
        "        }\n",
        "\n",
        "        function stopErasing() {\n",
        "            isErasing = false;\n",
        "        }\n",
        "\n",
        "        function getMousePos(e) {\n",
        "            const rect = canvas.getBoundingClientRect();\n",
        "            return {\n",
        "                x: e.clientX - rect.left,\n",
        "                y: e.clientY - rect.top\n",
        "            };\n",
        "        }\n",
        "\n",
        "        function erase(e) {\n",
        "            if (!isErasing) return;\n",
        "\n",
        "            const pos = getMousePos(e);\n",
        "            ctx.save();\n",
        "\n",
        "            // Create circular eraser\n",
        "            ctx.beginPath();\n",
        "            ctx.arc(pos.x, pos.y, eraserSize/2, 0, Math.PI * 2);\n",
        "            ctx.clip();\n",
        "\n",
        "            // Fill eraser area with white\n",
        "            ctx.fillStyle = 'white';\n",
        "            ctx.fillRect(pos.x - eraserSize/2, pos.y - eraserSize/2,\n",
        "                        eraserSize, eraserSize);\n",
        "\n",
        "            ctx.restore();\n",
        "        }\n",
        "\n",
        "        // Update eraser size\n",
        "        eraserSlider.oninput = function() {\n",
        "            eraserSize = this.value;\n",
        "            eraserValue.textContent = this.value + 'px';\n",
        "        }\n",
        "\n",
        "        // Event listeners\n",
        "        canvas.addEventListener('mousedown', startErasing);\n",
        "        canvas.addEventListener('mousemove', erase);\n",
        "        canvas.addEventListener('mouseup', stopErasing);\n",
        "        canvas.addEventListener('mouseleave', stopErasing);\n",
        "    </script>\n",
        "    \"\"\"\n",
        "\n",
        "    # Display the canvas\n",
        "    display(HTML(canvas_html))\n",
        "\n",
        "def main() -> None:\n",
        "    \"\"\"Main function to create and display the canvas eraser.\"\"\"\n",
        "    create_canvas_eraser()\n",
        "\n",
        "if __name__ == '__main__':\n",
        "    main()"
      ],
      "metadata": {
        "colab": {
          "base_uri": "https://localhost:8080/",
          "height": 506
        },
        "id": "Q60wH0upr3A5",
        "outputId": "97da9cda-d26a-485b-bc9e-250b5b9af482"
      },
      "execution_count": null,
      "outputs": [
        {
          "output_type": "display_data",
          "data": {
            "text/plain": [
              "<IPython.core.display.HTML object>"
            ],
            "text/html": [
              "\n",
              "    <div id=\"canvas-container\" style=\"margin: 20px;\">\n",
              "        <canvas id=\"paintCanvas\" width=\"600\" height=\"400\" style=\"border: 10px solid #ccc;\"></canvas>\n",
              "        <br>\n",
              "        <label for=\"eraserSize\">Eraser Size: </label>\n",
              "        <input type=\"range\" id=\"eraserSize\" min=\"10\" max=\"100\" value=\"40\">\n",
              "        <span id=\"eraserValue\">40px</span>\n",
              "    </div>\n",
              "    \n",
              "    <script>\n",
              "        // Canvas setup\n",
              "        const canvas = document.getElementById('paintCanvas');\n",
              "        const ctx = canvas.getContext('2d');\n",
              "        const eraserSlider = document.getElementById('eraserSize');\n",
              "        const eraserValue = document.getElementById('eraserValue');\n",
              "        \n",
              "        // Initialize variables\n",
              "        let isErasing = false;\n",
              "        let eraserSize = 40;\n",
              "        \n",
              "        // Fill canvas with blue grid\n",
              "        function createGrid() {\n",
              "            const cellSize = 10;\n",
              "            for (let y = 0; y < canvas.height; y += cellSize) {\n",
              "                for (let x = 0; x < canvas.width; x += cellSize) {\n",
              "                    ctx.fillStyle = 'blue';\n",
              "                    ctx.fillRect(x, y, cellSize, cellSize);\n",
              "                    ctx.strokeStyle = 'blue';\n",
              "                    ctx.strokeRect(x, y, cellSize, cellSize);\n",
              "                }\n",
              "            }\n",
              "        }\n",
              "        \n",
              "        // Initialize canvas\n",
              "        createGrid();\n",
              "        \n",
              "        // Mouse event handlers\n",
              "        function startErasing(e) {\n",
              "            isErasing = true;\n",
              "            erase(e);\n",
              "        }\n",
              "        \n",
              "        function stopErasing() {\n",
              "            isErasing = false;\n",
              "        }\n",
              "        \n",
              "        function getMousePos(e) {\n",
              "            const rect = canvas.getBoundingClientRect();\n",
              "            return {\n",
              "                x: e.clientX - rect.left,\n",
              "                y: e.clientY - rect.top\n",
              "            };\n",
              "        }\n",
              "        \n",
              "        function erase(e) {\n",
              "            if (!isErasing) return;\n",
              "            \n",
              "            const pos = getMousePos(e);\n",
              "            ctx.save();\n",
              "            \n",
              "            // Create circular eraser\n",
              "            ctx.beginPath();\n",
              "            ctx.arc(pos.x, pos.y, eraserSize/2, 0, Math.PI * 2);\n",
              "            ctx.clip();\n",
              "            \n",
              "            // Fill eraser area with white\n",
              "            ctx.fillStyle = 'white';\n",
              "            ctx.fillRect(pos.x - eraserSize/2, pos.y - eraserSize/2, \n",
              "                        eraserSize, eraserSize);\n",
              "            \n",
              "            ctx.restore();\n",
              "        }\n",
              "        \n",
              "        // Update eraser size\n",
              "        eraserSlider.oninput = function() {\n",
              "            eraserSize = this.value;\n",
              "            eraserValue.textContent = this.value + 'px';\n",
              "        }\n",
              "        \n",
              "        // Event listeners\n",
              "        canvas.addEventListener('mousedown', startErasing);\n",
              "        canvas.addEventListener('mousemove', erase);\n",
              "        canvas.addEventListener('mouseup', stopErasing);\n",
              "        canvas.addEventListener('mouseleave', stopErasing);\n",
              "    </script>\n",
              "    "
            ]
          },
          "metadata": {}
        }
      ]
    },
    {
      "cell_type": "markdown",
      "source": [
        "## Problem Statement\n",
        "\n",
        "In the information flow lesson, we discussed using a variable storing a number as an example of scope. We saw that changes we made to the number inside a function did not stay unless we returned it. This is true for what we call immutable data types which include things like numbers and strings.\n",
        "\n",
        "However, there are also mutable data types where changes stay even if we don't return anything. Some examples of mutable data types are lists and dictionaries. This means that you should be mindful when modifying lists and dictionaries within helper functions since their changes stay whether or not you return them.\n",
        "\n",
        "To see this in action, fill out the add_three_copies(...) function which takes a list and some data and then adds three copies of the data to the list. Don't return anything and see what happens! Compare this process to the x = change(x) example and note the differences.\n",
        "\n",
        "Here is an example run of this program (user input in bold italics):\n",
        "\n",
        "Enter a message to copy: Hello world!\n",
        "\n",
        "List before: []\n",
        "\n",
        "List after: ['Hello world!', 'Hello world!', 'Hello world!']\n",
        "\n",
        "(Note. The concept of immutable/mutable data types is called mutability. Be careful because different programming languages have different rules regarding mutability!)"
      ],
      "metadata": {
        "id": "4e8pPXoYdpmR"
      }
    },
    {
      "cell_type": "code",
      "source": [
        "from typing import List, Any\n",
        "\n",
        "def add_three_copies(target_list: List[Any], data: Any) -> None:\n",
        "    \"\"\"\n",
        "    Add three copies of the given data to the target list.\n",
        "    This demonstrates how mutable objects (like lists) can be modified\n",
        "    without returning them.\n",
        "\n",
        "    Args:\n",
        "        target_list (List[Any]): The list to modify\n",
        "        data (Any): The data to add three times\n",
        "\n",
        "    Returns:\n",
        "        None\n",
        "    \"\"\"\n",
        "    # Add three copies of the data to the list\n",
        "    for _ in range(3):\n",
        "        target_list.append(data)\n",
        "\n",
        "def main() -> None:\n",
        "    \"\"\"\n",
        "    Main function to demonstrate mutable data type behavior.\n",
        "    Gets user input and shows how list modifications persist\n",
        "    without returning the list.\n",
        "    \"\"\"\n",
        "    # Get input fr\n",
        "    message = input(\"Enter a message to copy: \")\n",
        "\n",
        "    # Create empty list\n",
        "    my_list: List[str] = []\n",
        "\n",
        "    # Show list before modification\n",
        "    print(\"\\nList before:\", my_list)\n",
        "\n",
        "    # Modify list without assignment\n",
        "    add_three_copies(my_list, message)\n",
        "\n",
        "    # Show list after modification\n",
        "    print(\"\\nList after:\", my_list)\n",
        "\n",
        "if __name__ == '__main__':\n",
        "    main()"
      ],
      "metadata": {
        "colab": {
          "base_uri": "https://localhost:8080/"
        },
        "id": "rrVwqYyKr3JF",
        "outputId": "d57f49a9-caa0-463a-8b68-1c661cf05c69"
      },
      "execution_count": null,
      "outputs": [
        {
          "output_type": "stream",
          "name": "stdout",
          "text": [
            "Enter a message to copy: {a=4}\n",
            "\n",
            "List before: []\n",
            "\n",
            "List after: ['{a=4}', '{a=4}', '{a=4}']\n"
          ]
        }
      ]
    },
    {
      "cell_type": "markdown",
      "source": [
        "## Problem Statement\n",
        "\n",
        "Fill out the function get_first_element(lst) which takes in a list lst as a parameter and prints the first element in the list. The list is guaranteed to be non-empty.\n"
      ],
      "metadata": {
        "id": "owEybNFFfE1E"
      }
    },
    {
      "cell_type": "code",
      "source": [
        "from typing import List, Any\n",
        "\n",
        "def get_first_element(lst: List[Any]) -> None:\n",
        "    \"\"\"\n",
        "    Prints the first element of a non-empty list.\n",
        "\n",
        "    Args:\n",
        "        lst (List[Any]): A non-empty list of any type\n",
        "\n",
        "    Returns:\n",
        "        None: This function prints but doesn't return anything\n",
        "\n",
        "    Example:\n",
        "        >>> get_first_element([1, 2, 3])\n",
        "        1\n",
        "        >>> get_first_element(['hello', 'world'])\n",
        "        hello\n",
        "    \"\"\"\n",
        "    print(lst[0])\n",
        "\n",
        "def main() -> None:\n",
        "    # Test cases\n",
        "    test_list1 = [1, 2, 3, 4, 5]\n",
        "    test_list2 = ['apple', 'banana', 'orange']\n",
        "\n",
        "    print(\"Testing with numbers:\")\n",
        "    get_first_element(test_list1)\n",
        "\n",
        "    print(\"\\nTesting with strings:\")\n",
        "    get_first_element(test_list2)\n",
        "\n",
        "if __name__ == '__main__':\n",
        "    main()"
      ],
      "metadata": {
        "id": "inFdr9tPr3QG",
        "colab": {
          "base_uri": "https://localhost:8080/"
        },
        "outputId": "79423c0a-c65f-416f-9d1f-91d359b26a6d"
      },
      "execution_count": 14,
      "outputs": [
        {
          "output_type": "stream",
          "name": "stdout",
          "text": [
            "Testing with numbers:\n",
            "1\n",
            "\n",
            "Testing with strings:\n",
            "apple\n"
          ]
        }
      ]
    },
    {
      "cell_type": "markdown",
      "source": [
        "## Problem Statement\n",
        "\n",
        "Fill out the function get_last_element(lst) which takes in a list lst as a parameter and prints the last element in the list. The list is guaranteed to be non-empty, but there are no guarantees on its length."
      ],
      "metadata": {
        "id": "AfMT8yp_i5yS"
      }
    },
    {
      "cell_type": "code",
      "source": [
        "def get_last_element(lst):\n",
        "    \"\"\"\n",
        "    Prints the last element of a provided list.\n",
        "    If the list is empty, prints an error message.\n",
        "    \"\"\"\n",
        "    if len(lst) > 0:\n",
        "        print(lst[-1])\n",
        "    else:\n",
        "        print(\"Error: The list is empty!\")\n",
        "\n",
        "# There is no need to edit code beyond this point\n",
        "\n",
        "def get_lst():\n",
        "    \"\"\"\n",
        "    Prompts the user to enter one element of the list at a time and returns the resulting list.\n",
        "    \"\"\"\n",
        "    lst = []\n",
        "    elem: str = input(\"Please enter an element of the list or press enter to stop. \")\n",
        "    while elem != \"\":\n",
        "        lst.append(elem)\n",
        "        elem = input(\"Please enter an element of the list or press enter to stop. \")\n",
        "    return lst\n",
        "\n",
        "def main():\n",
        "    lst = get_lst()\n",
        "    get_last_element(lst)\n",
        "\n",
        "if __name__ == '__main__':\n",
        "    main()"
      ],
      "metadata": {
        "id": "TJKOy-w_r3WG",
        "colab": {
          "base_uri": "https://localhost:8080/"
        },
        "outputId": "ee451b13-e26a-4719-ad27-fe0e789925b9"
      },
      "execution_count": 22,
      "outputs": [
        {
          "output_type": "stream",
          "name": "stdout",
          "text": [
            "Please enter an element of the list or press enter to stop. \n",
            "Error: The list is empty!\n"
          ]
        }
      ]
    },
    {
      "cell_type": "markdown",
      "source": [
        "## Problem Statement\n",
        "\n",
        "Write a program which continuously asks the user to enter values which are added one by one into a list. When the user presses enter without typing anything, print the list.\n",
        "\n",
        "Here's a sample run (user input is in blue):\n",
        "\n",
        "Enter a value: 1\n",
        "Enter a value: 2\n",
        "Enter a value: 3\n",
        "Enter a value:\n",
        "Here's the list: ['1', '2', '3']"
      ],
      "metadata": {
        "id": "r-Mixf9Elhs_"
      }
    },
    {
      "cell_type": "code",
      "source": [
        "!pip install colorama"
      ],
      "metadata": {
        "colab": {
          "base_uri": "https://localhost:8080/"
        },
        "id": "KDwD9AUwmDa_",
        "outputId": "d00bbc15-a899-456a-9146-bec560c9a2aa"
      },
      "execution_count": 24,
      "outputs": [
        {
          "output_type": "stream",
          "name": "stdout",
          "text": [
            "Collecting colorama\n",
            "  Downloading colorama-0.4.6-py2.py3-none-any.whl.metadata (17 kB)\n",
            "Downloading colorama-0.4.6-py2.py3-none-any.whl (25 kB)\n",
            "Installing collected packages: colorama\n",
            "Successfully installed colorama-0.4.6\n"
          ]
        }
      ]
    },
    {
      "cell_type": "code",
      "source": [
        "from typing import List, Optional\n",
        "from colorama import Fore, Style  # For colored output (optional)\n",
        "\n",
        "def collect_user_input() -> List[str]:\n",
        "    \"\"\"\n",
        "    Collects user input and stores it in a list until empty input is received.\n",
        "\n",
        "    Returns:\n",
        "        List[str]: A list containing all user-entered values\n",
        "\n",
        "    Example:\n",
        "        >>> collect_user_input()\n",
        "        Enter a value: apple\n",
        "        Enter a value: banana\n",
        "        Enter a value:\n",
        "        Returns: ['apple', 'banana']\n",
        "    \"\"\"\n",
        "    # Initialize empty list to store values\n",
        "    values: List[str] = []\n",
        "\n",
        "    # Counter for tracking number of inputs\n",
        "    input_count: int = 0\n",
        "\n",
        "    while True:\n",
        "        try:\n",
        "            # Get user input with a numbered prompt\n",
        "            input_count += 1\n",
        "            user_input: str = input(f\"{Fore.CYAN}Enter value #{input_count}: {Style.RESET_ALL}\")\n",
        "\n",
        "            # Break loop if user presses enter without input\n",
        "            if not user_input:\n",
        "                break\n",
        "\n",
        "            # Add input to our collection\n",
        "\n",
        "            values.append(user_input)\n",
        "\n",
        "        except KeyboardInterrupt:\n",
        "            # Handle if user tries to exit with Ctrl+C\n",
        "            print(f\"\\n{Fore.YELLOW}Input collection terminated by user.{Style.RESET_ALL}\")\n",
        "            break\n",
        "\n",
        "    return values\n",
        "\n",
        "def format_list_output(values: List[str]) -> str:\n",
        "    \"\"\"\n",
        "    Formats the list for pretty printing with additional information.\n",
        "\n",
        "    Args:\n",
        "        values (List[str]): The list of collected values\n",
        "\n",
        "    Returns:\n",
        "        str: A formatted string representation of the list\n",
        "    \"\"\"\n",
        "    if not values:\n",
        "        return f\"{Fore.RED}The list is empty!{Style.RESET_ALL}\"\n",
        "\n",
        "    return (\n",
        "        f\"{Fore.GREEN}Here's your list of {len(values)} items:{Style.RESET_ALL}\\n\"\n",
        "        f\"{Fore.CYAN}{values}{Style.RESET_ALL}\"\n",
        "    )\n",
        "\n",
        "def main() -> None:\n",
        "    \"\"\"\n",
        "    Main program function that handles the list collection and display process.\n",
        "    Includes error handling and user feedback.\n",
        "    \"\"\"\n",
        "    # Display welcome message\n",
        "    print(f\"{Fore.YELLOW}Welcome to the List Collector!{Style.RESET_ALL}\")\n",
        "    print(\"Press enter with no input to finish collection.\\n\")\n",
        "\n",
        "    try:\n",
        "        # Collect the values\n",
        "        collected_values: List[str] = collect_user_input()\n",
        "\n",
        "        # Print a separator line\n",
        "        print(\"\\n\" + \"-\" * 50 + \"\\n\")\n",
        "\n",
        "        # Display the results\n",
        "        print(format_list_output(collected_values))\n",
        "\n",
        "        # Show some statistics if list is not empty\n",
        "        if collected_values:\n",
        "            print(f\"\\n{Fore.MAGENTA}Statistics:{Style.RESET_ALL}\")\n",
        "            print(f\"• Number of items: {len(collected_values)}\")\n",
        "            print(f\"• First item: {collected_values[0]}\")\n",
        "            print(f\"• Last item: {collected_values[-1]}\")\n",
        "\n",
        "    except Exception as e:\n",
        "        print(f\"{Fore.RED}An error occurred: {str(e)}{Style.RESET_ALL}\")\n",
        "\n",
        "if __name__ == '__main__':\n",
        "    mai"
      ],
      "metadata": {
        "id": "WGTsaGZYr3dI",
        "colab": {
          "base_uri": "https://localhost:8080/"
        },
        "outputId": "fc3da51d-9bc3-42b2-8212-9a03753a648b"
      },
      "execution_count": 29,
      "outputs": [
        {
          "output_type": "stream",
          "name": "stdout",
          "text": [
            "\u001b[33mWelcome to the List Collector!\u001b[0m\n",
            "Press enter with no input to finish collection.\n",
            "\n",
            "\u001b[36mEnter value #1: \u001b[0m1\n",
            "\u001b[36mEnter value #2: \u001b[0m2\n",
            "\u001b[36mEnter value #3: \u001b[0m\n",
            "\n",
            "--------------------------------------------------\n",
            "\n",
            "\u001b[32mHere's your list of 2 items:\u001b[0m\n",
            "\u001b[36m['1', '2']\u001b[0m\n",
            "\n",
            "\u001b[35mStatistics:\u001b[0m\n",
            "• Number of items: 2\n",
            "• First item: 1\n",
            "• Last item: 2\n"
          ]
        }
      ]
    },
    {
      "cell_type": "markdown",
      "source": [
        "## Problem Statement\n",
        "Fill out the function shorten(lst) which removes elements from the end of lst, which is a list, and prints each item it removes until lst is MAX_LENGTH items long. If lst is already shorter than MAX_LENGTH you should leave it unchanged. We've written a main() function for you which gets a list and passes it into your function once you run the program. For the autograder to pass you will need MAX_LENGTH to be 3, but feel free to change it around to test your program"
      ],
      "metadata": {
        "id": "X6CPb865nvS1"
      }
    },
    {
      "cell_type": "code",
      "source": [
        "from typing import List\n",
        "\n",
        "def shorten(lst: List[str]) -> None:\n",
        "    \"\"\"\n",
        "    Modifies the input list to have no more than MAX_LENGTH items.\n",
        "    Removes elements from the end and prints them if list is too long.\n",
        "\n",
        "    Args:\n",
        "        lst (List[str]): The list to be shortened\n",
        "\n",
        "    Example:\n",
        "        >>> my_list = ['a', 'b', 'c', 'd', 'e']\n",
        "        >>> shorten(my_list)\n",
        "        Removing e\n",
        "        Removing d\n",
        "        >>> print(my_list)\n",
        "        ['a', 'b', 'c']\n",
        "    \"\"\"\n",
        "    MAX_LENGTH = 3\n",
        "\n",
        "    # Remove elements while list is longer than MAX_LENGTH\n",
        "    while len(lst) > MAX_LENGTH:\n",
        "        removed_item = lst.pop()  # Remove and return last item\n",
        "        print(f\"Removing {removed_item}\")\n",
        "\n",
        "# There is no need to edit code beyond this point\n",
        "\n",
        "def get_lst():\n",
        "    \"\"\"\n",
        "    Prompts the user to enter one element of the list at a time and returns the resulting list.\n",
        "    \"\"\"\n",
        "    lst = []\n",
        "    elem: str = input(\"Please enter an element of the list or press enter to stop. \")\n",
        "    while elem != \"\":\n",
        "        lst.append(elem)\n",
        "        elem = input(\"Please enter an element of the list or press enter to stop. \")\n",
        "    return lst\n",
        "\n",
        "def main():\n",
        "    lst = get_lst()\n",
        "    shorten(lst)\n",
        "    print(lst)\n",
        "\n",
        "if __name__ == '__main__':\n",
        "    main()"
      ],
      "metadata": {
        "id": "p9essJ0Ur3iD",
        "colab": {
          "base_uri": "https://localhost:8080/"
        },
        "outputId": "7e15fc98-9349-4449-f22c-fa86d62326b2"
      },
      "execution_count": 37,
      "outputs": [
        {
          "output_type": "stream",
          "name": "stdout",
          "text": [
            "Please enter an element of the list or press enter to stop. 1\n",
            "Please enter an element of the list or press enter to stop. 2\n",
            "Please enter an element of the list or press enter to stop. 3\n",
            "Please enter an element of the list or press enter to stop. 4\n",
            "Please enter an element of the list or press enter to stop. 5\n",
            "Please enter an element of the list or press enter to stop. 6\n",
            "Please enter an element of the list or press enter to stop. \n",
            "Removing 6\n",
            "Removing 5\n",
            "Removing 4\n",
            "['1', '2', '3']\n"
          ]
        }
      ]
    },
    {
      "cell_type": "code",
      "source": [],
      "metadata": {
        "id": "4sVKrnpMr3nL"
      },
      "execution_count": null,
      "outputs": []
    }
  ]
}
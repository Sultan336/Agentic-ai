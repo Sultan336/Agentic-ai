{
  "nbformat": 4,
  "nbformat_minor": 0,
  "metadata": {
    "colab": {
      "provenance": [],
      "authorship_tag": "ABX9TyMeU8zU0jH1KnvdHg3soGY9"
    },
    "kernelspec": {
      "name": "python3",
      "display_name": "Python 3"
    },
    "language_info": {
      "name": "python"
    }
  },
  "cells": [
    {
      "cell_type": "markdown",
      "source": [
        "## Problem Statement\n",
        "This program counts the number of times each number appears in a list. It uses a dictionary to keep track of the information.\n",
        "\n",
        "An example run of the program looks like this (user input is in blue):\n",
        "\n",
        "Enter a number: 3 Enter a number: 4 Enter a number: 3 Enter a number: 6 Enter a number: 4 Enter a number: 3 Enter a number: 12 Enter a number: 3 appears 3 times. 4 appears 2 times. 6 appears 1 times. 12 appears 1 times."
      ],
      "metadata": {
        "id": "hv2wpGZK07g0"
      }
    },
    {
      "cell_type": "code",
      "source": [
        "def main() -> None:\n",
        "    \"\"\"\n",
        "    Main function to execute the number counting program.\n",
        "    Prompts the user to enter numbers and counts their occurrences.\n",
        "    \"\"\"\n",
        "    # Initialize an empty dictionary to store counts\n",
        "    counts: dict[int, int] = {}\n",
        "\n",
        "    while True:\n",
        "        # Prompt the user for a number\n",
        "        user_input: str = input(\"Enter a number (or 'done' to finish): \")\n",
        "\n",
        "        if user_input.lower() == 'done':\n",
        "            break\n",
        "\n",
        "        try:\n",
        "            number: int = int(user_input)\n",
        "            # Update the count for the number in the dictionary\n",
        "            if number in counts:\n",
        "                counts[number] += 1\n",
        "            else:\n",
        "                counts[number] = 1\n",
        "        except ValueError:\n",
        "            print(\"Please enter a valid integer or 'done' to finish.\")\n",
        "\n",
        "    # Print the results\n",
        "    for number, count in counts.items():\n",
        "        print(f\"{number} appears {count} times.\")\n",
        "\n",
        "# This provided line is required at the end ofd\n",
        "# Python file to call the main() function.\n",
        "if __name__ == '__main__':\n",
        "    main()"
      ],
      "metadata": {
        "colab": {
          "base_uri": "https://localhost:8080/"
        },
        "id": "sewJJBFC0385",
        "outputId": "30d6c91a-8344-4651-bfbd-d83c0537a8b5"
      },
      "execution_count": 2,
      "outputs": [
        {
          "output_type": "stream",
          "name": "stdout",
          "text": [
            "Enter a number (or 'done' to finish): -3\n",
            "Enter a number (or 'done' to finish): 3\n",
            "Enter a number (or 'done' to finish): 3\n",
            "Enter a number (or 'done' to finish): 1.2\n",
            "Please enter a valid integer or 'done' to finish.\n",
            "Enter a number (or 'done' to finish): 0dine\n",
            "Please enter a valid integer or 'done' to finish.\n",
            "Enter a number (or 'done' to finish): done\n",
            "-3 appears 1 times.\n",
            "3 appears 2 times.\n"
          ]
        }
      ]
    },
    {
      "cell_type": "markdown",
      "source": [
        "## Problem Statement\n",
        "In this program we show an example of using dictionaries to keep track of information in a phonebook.\n",
        "\n"
      ],
      "metadata": {
        "id": "Z14e7jNr3M7-"
      }
    },
    {
      "cell_type": "code",
      "source": [
        "def main() -> None:\n",
        "    \"\"\"\n",
        "    Main function to execute the phonebook program.\n",
        "    Allows users to add, search, and display contacts.\n",
        "    \"\"\"\n",
        "    # Initialize an empty dictionary to store phonebook entries\n",
        "    phonebook: dict[str, str] = {}\n",
        "\n",
        "    while True:\n",
        "        # Display menu options\n",
        "        print(\"\\nPhonebook Menu:\")\n",
        "        print(\"1. Add Contact\")\n",
        "        print(\"2. Search Contact\")\n",
        "        print(\"3. Display All Contacts\")\n",
        "        print(\"4. Exit\")\n",
        "\n",
        "        choice: str = input(\"Choose an option (1-4): \")\n",
        "\n",
        "        if choice == '1':\n",
        "            # Add a new contact\n",
        "            name: str = input(\"Enter the contact name: \")\n",
        "            phone_number: str = input(\"Enter the phone number: \")\n",
        "            phonebook[name] = phone_number\n",
        "            print(f\"Contact '{name}' added.\")\n",
        "\n",
        "        elif choice == '2':\n",
        "            # Search for a contact\n",
        "            name: str = input(\"Enter the contact name to search: \")\n",
        "            if name in phonebook:\n",
        "                print(f\"{name}'s phone number is {phonebook[name]}.\")\n",
        "            else:\n",
        "                print(f\"Contact '{name}' not found.\")\n",
        "\n",
        "        elif choice == '3':\n",
        "            # Display all contacts\n",
        "            if phonebook:\n",
        "                print(\"\\nPhonebook Contacts:\")\n",
        "                for name, number in phonebook.items():\n",
        "                    print(f\"{name}: {number}\")\n",
        "            else:\n",
        "                print(\"Phonebook is empty.\")\n",
        "\n",
        "        elif choice == '4':\n",
        "            # Exit the program\n",
        "            print(\"Exiting the phonebook program.\")\n",
        "            break\n",
        "\n",
        "        else:\n",
        "            print(\"Invalid option. Please choose a valid option (1-4).\")\n",
        "\n",
        "# This provided line is required at the end of\n",
        "# Python file to call the main() function.\n",
        "if __name__ == '__main__':\n",
        "    main()"
      ],
      "metadata": {
        "colab": {
          "base_uri": "https://localhost:8080/"
        },
        "id": "0WA6ZWgz04TF",
        "outputId": "c2f51306-8927-49d1-a77b-740d69251071"
      },
      "execution_count": 3,
      "outputs": [
        {
          "output_type": "stream",
          "name": "stdout",
          "text": [
            "\n",
            "Phonebook Menu:\n",
            "1. Add Contact\n",
            "2. Search Contact\n",
            "3. Display All Contacts\n",
            "4. Exit\n",
            "Choose an option (1-4): 3\n",
            "Phonebook is empty.\n",
            "\n",
            "Phonebook Menu:\n",
            "1. Add Contact\n",
            "2. Search Contact\n",
            "3. Display All Contacts\n",
            "4. Exit\n",
            "Choose an option (1-4): 1\n",
            "Enter the contact name: sultan\n",
            "Enter the phone number: 03320829335\n",
            "Contact 'sultan' added.\n",
            "\n",
            "Phonebook Menu:\n",
            "1. Add Contact\n",
            "2. Search Contact\n",
            "3. Display All Contacts\n",
            "4. Exit\n",
            "Choose an option (1-4): 3\n",
            "\n",
            "Phonebook Contacts:\n",
            "sultan: 03320829335\n",
            "\n",
            "Phonebook Menu:\n",
            "1. Add Contact\n",
            "2. Search Contact\n",
            "3. Display All Contacts\n",
            "4. Exit\n",
            "Choose an option (1-4): 2\n",
            "Enter the contact name to search: sultan\n",
            "sultan's phone number is 03320829335.\n",
            "\n",
            "Phonebook Menu:\n",
            "1. Add Contact\n",
            "2. Search Contact\n",
            "3. Display All Contacts\n",
            "4. Exit\n",
            "Choose an option (1-4): exit\n",
            "Invalid option. Please choose a valid option (1-4).\n",
            "\n",
            "Phonebook Menu:\n",
            "1. Add Contact\n",
            "2. Search Contact\n",
            "3. Display All Contacts\n",
            "4. Exit\n",
            "Choose an option (1-4): Exit\n",
            "Invalid option. Please choose a valid option (1-4).\n",
            "\n",
            "Phonebook Menu:\n",
            "1. Add Contact\n",
            "2. Search Contact\n",
            "3. Display All Contacts\n",
            "4. Exit\n",
            "Choose an option (1-4): 4\n",
            "Exiting the phonebook program.\n"
          ]
        }
      ]
    },
    {
      "cell_type": "markdown",
      "source": [
        "## Problem Statement\n",
        "There's a small fruit shop nearby your house that you like to buy from. Since you buy several fruit at a time, you want to keep track of how much the fruit will cost before you go. Luckily you wrote down what fruits were available and how much one of each fruit costs.\n",
        "\n",
        "Write a program that loops through a dictionary of fruits, prompting the user to see how many of each fruit they want to buy, and then prints out the total combined cost of all of the fruits.\n",
        "\n",
        "Here is an example run of the program (user input is in bold italics):\n",
        "\n",
        "How many (apple) do you want?: 2\n",
        "\n",
        "How many (durian) do you want?: 0\n",
        "\n",
        "How many (jackfruit) do you want?: 1\n",
        "\n",
        "How many (kiwi) do you want?: 0\n",
        "\n",
        "How many (rambutan) do you want?: 1\n",
        "\n",
        "How many (mango) do you want?: 3\n",
        "\n",
        "Your total is $99.5"
      ],
      "metadata": {
        "id": "4Xlt6bon58Mq"
      }
    },
    {
      "cell_type": "code",
      "source": [
        "def main() -> None:\n",
        "    \"\"\"\n",
        "    Main function to execute the fruit shop program.\n",
        "    Prompts the user for quantities of fruits and calculates the total cost.\n",
        "    \"\"\"\n",
        "    # Dictionary of fruits and their prices\n",
        "    fruit_prices: dict[str, float] = {\n",
        "        \"apple\": 1.5,\n",
        "        \"durian\": 5.0,\n",
        "        \"jackfruit\": 3.0,\n",
        "        \"kiwi\": 2.0,\n",
        "        \"rambutan\": 4.0,\n",
        "        \"mango\": 2.5\n",
        "    }\n",
        "\n",
        "    total_cost: float = 0.0  # Initialize total cost\n",
        "\n",
        "    # Loop through the fruit prices dictionary\n",
        "    for fruit, price in fruit_prices.items():\n",
        "        while True:\n",
        "            try:\n",
        "                # Prompt the user for the quantity of each fruit\n",
        "                quantity: int = int(input(f\"How many ({fruit}) do you want?: \"))\n",
        "\n",
        "                if quantity < 0:\n",
        "                    print(\"Please enter a non-negative number.\")\n",
        "                else:\n",
        "                    total_cost += quantity * price  # Calculate total cost\n",
        "                    break  # Exit the loop if a valid quantity is entered\n",
        "            except ValueError:\n",
        "                print(\"Invalid input. Please enter a valid integer.\")\n",
        "\n",
        "    # Print the total cost\n",
        "    print(f\"\\nYour total is ${total_cost:.2f}\")\n",
        "\n",
        "# This provided line is required at the end of\n",
        "# Python file to call the main() function.\n",
        "if __name__ == '__main__':\n",
        "    main()"
      ],
      "metadata": {
        "colab": {
          "base_uri": "https://localhost:8080/"
        },
        "id": "oCn3L7vM04dV",
        "outputId": "207057d2-4af1-45d8-c3ee-b1cecac145a1"
      },
      "execution_count": 7,
      "outputs": [
        {
          "output_type": "stream",
          "name": "stdout",
          "text": [
            "How many (apple) do you want?: 0\n",
            "How many (durian) do you want?: 0\n",
            "How many (jackfruit) do you want?: 0\n",
            "How many (kiwi) do you want?: 0\n",
            "How many (rambutan) do you want?: 0\n",
            "How many (mango) do you want?: 0\n",
            "\n",
            "Your total is $0.00\n"
          ]
        }
      ]
    },
    {
      "cell_type": "markdown",
      "source": [
        "## Problem Statement\n",
        "You want to be safe online and use different passwords for different websites. However, you are forgetful at times and want to make a program that can match which password belongs to which website without storing the actual password!\n",
        "\n",
        "This can be done via something called hashing. Hashing is when we take something and convert it into a different, unique identifier. This is done using a hash function. Luckily, there are several resources that can help us with this.\n",
        "\n",
        "For example, using a hash function called SHA256(...) something as simple as\n",
        "\n",
        "hello\n",
        "\n",
        "can be hashed into a much more complex\n",
        "\n",
        "2cf24dba5fb0a30e26e83b2ac5b9e29e1b161e5c1fa7425e73043362938b9824\n",
        "\n",
        "Fill out the login(...) function for a website that hashes their passwords. Login should return True if an email's stored password hash in stored_logins is the same as the hash of password_to_check.\n",
        "\n",
        "(Hint. You will need to use the provided hash_password(...) function. You don't necessarily need to know how it works, just know that hash_password(...) returns the hash for the password!)"
      ],
      "metadata": {
        "id": "FUinO7EE8V7W"
      }
    },
    {
      "cell_type": "code",
      "source": [
        "import hashlib\n",
        "\n",
        "def hash_password(password: str) -> str:\n",
        "    \"\"\"\n",
        "    Hashes a password using SHA256.\n",
        "\n",
        "    Args:\n",
        "        password (str): The password to hash.\n",
        "\n",
        "    Returns:\n",
        "        str: The SHA256 hash of the password.\n",
        "    \"\"\"\n",
        "    # Create a SHA256 hash of the password\n",
        "    return hashlib.sha256(password.encode()).hexdigest()\n",
        "\n",
        "def login(email: str, password_to_check: str, stored_logins: dict[str, str]) -> bool:\n",
        "    \"\"\"\n",
        "    Checks if the provided password matches the stored password hash for the given email.\n",
        "\n",
        "    Args:\n",
        "        email (str): The email of the user trying to log in.\n",
        "        password_to_check (str): The password to check against the stored hash.\n",
        "        stored_logins (dict[str, str]): A dictionary mapping emails to their password hashes.\n",
        "\n",
        "    Returns:\n",
        "        bool: True if the password matches, False otherwise.\n",
        "    \"\"\"\n",
        "    # Hash the password to check\n",
        "    hashed_password = hash_password(password_to_check)\n",
        "\n",
        "    # Check if the email exists in stored_logins and if the hashed password matches\n",
        "    return stored_logins.get(email) == hashed_password\n",
        "\n",
        "def main() -> None:\n",
        "    \"\"\"\n",
        "    Main function to demonstrate the login functionality.\n",
        "    \"\"\"\n",
        "    # Provided stored logins (email: hashed password)\n",
        "    stored_logins: dict[str, str] = {\n",
        "        \"example@gmail.com\": \"5e884898da28047151d0e56f8dc6292773603d0d6aabbdd62a11ef721d1542d8\",\n",
        "        \"code_in_placer@cip.org\": \"973607a4ae7b4cf7d96a100b0fb07e8519cc4f70441d41214a9f811577bb06cc\",\n",
        "        \"student@stanford.edu\": \"882c6df720fd99f5eebb1581a1cf975625cea8a160283011c0b9512bb56c95fb\"\n",
        "    }\n",
        "\n",
        "    # User input for login\n",
        "    email: str = input(\"Enter your email: \")\n",
        "    password: str = input(\"Enter your password: \")\n",
        "\n",
        "    # Attempt to log in\n",
        "    if login(email, password, stored_logins):\n",
        "        print(\"Login successful!\")\n",
        "    else:\n",
        "        print(\"Login failed. Invalid email or password.\")\n",
        "\n",
        "# This provided line is required at the end of\n",
        "# Python file to call the main() function.\n",
        "if __name__ == '__main__':\n",
        "    main()"
      ],
      "metadata": {
        "colab": {
          "base_uri": "https://localhost:8080/"
        },
        "id": "ZQfW8Qao04lR",
        "outputId": "edf51d3c-fbe1-4d5a-d9ce-61c93e93afc6"
      },
      "execution_count": 11,
      "outputs": [
        {
          "output_type": "stream",
          "name": "stdout",
          "text": [
            "Enter your email: example@gmail.com\n",
            "Enter your password: password\n",
            "Login successful!\n"
          ]
        }
      ]
    },
    {
      "cell_type": "code",
      "source": [],
      "metadata": {
        "id": "P2QrY05L04uc"
      },
      "execution_count": null,
      "outputs": []
    },
    {
      "cell_type": "code",
      "execution_count": null,
      "metadata": {
        "id": "6WZks0zZ0qrG"
      },
      "outputs": [],
      "source": []
    }
  ]
}
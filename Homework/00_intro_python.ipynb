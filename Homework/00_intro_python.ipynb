{
  "nbformat": 4,
  "nbformat_minor": 0,
  "metadata": {
    "colab": {
      "provenance": [],
      "authorship_tag": "ABX9TyPlkC2bHTVzuYipgHHbcnXa"
    },
    "kernelspec": {
      "name": "python3",
      "display_name": "Python 3"
    },
    "language_info": {
      "name": "python"
    }
  },
  "cells": [
    {
      "cell_type": "markdown",
      "source": [
        "# 01_add_two_numbers.\n",
        "## Problem Statement\n",
        "\n",
        "Write a Python program that takes two integer inputs from the user and calculates their sum. The program should perform the following tasks:\n",
        "\n",
        "1. Prompt the user to enter the first number.\n",
        "\n",
        "2. Read the input and convert it to an integer.\n",
        "\n",
        "3. Prompt the user to enter the second number.\n",
        "\n",
        "4. Read the input and convert it to an integer.\n",
        "\n",
        "5. Calculate the sum of the two numbers.\n",
        "\n",
        "6. Print the total sum with an appropriate message.\n",
        "\n",
        "The provided solution demonstrates a working implementation of this problem, where the main() function guides the user through the process of entering two numbers and displays their sum.\n",
        "\n"
      ],
      "metadata": {
        "id": "aUT3Qm_OS13U"
      }
    },
    {
      "cell_type": "code",
      "execution_count": null,
      "metadata": {
        "id": "5mE0JD5nSZVb",
        "colab": {
          "base_uri": "https://localhost:8080/"
        },
        "outputId": "00db13e9-52d6-4677-fbbc-0dc98993fd14"
      },
      "outputs": [
        {
          "output_type": "stream",
          "name": "stdout",
          "text": [
            "Enter the first number: 3\n",
            "Enter the second number: 6\n",
            "The sum of 3 and 6 is 9\n"
          ]
        }
      ],
      "source": [
        "def main() -> None:\n",
        "    # Prompt the user to enter the first number\n",
        "    first_number: int = int(input(\"Enter the first number: \"))\n",
        "\n",
        "    # Prompt the user to enter the second number\n",
        "    second_number: int = int(input(\"Enter the second number: \"))\n",
        "\n",
        "    # Calculate the sum of the two numbers\n",
        "    total_sum: int = first_number + second_number\n",
        "\n",
        "    # Print the total sum with an appropriate message\n",
        "    print(f\"The sum of {first_number} and {second_number} is {total_sum}\")\n",
        "\n",
        "# This provided line is required at the end of\n",
        "# Python file to call the main() function.\n",
        "if __name__ == '__main__':\n",
        "    main()\n"
      ]
    },
    {
      "cell_type": "markdown",
      "source": [
        "## 02_Problem Statement\n",
        "\n",
        "Write a program which asks the user what their favorite animal is, and then always responds with \"My favorite animal is also ___!\" (the blank should be filled in with the user-inputted animal, of course).\n",
        "\n",
        "Here's a sample run of the program (user input is in bold italics - note the space between the prompt and the user input!):\n",
        "\n",
        "What's your favorite animal? cow\n",
        "\n",
        "My favorite animal is also cow!\n"
      ],
      "metadata": {
        "id": "a6SjMCcgA3l8"
      }
    },
    {
      "cell_type": "code",
      "source": [
        "def main() -> None:\n",
        "    favorite_animal: str = input(\"What's your favorite animal? \")\n",
        "    response: str = f\"My favorite animal is also {favorite_animal}!\"\n",
        "    print(response)\n",
        "\n",
        "# This provided line is required at the end of\n",
        "# Python file to call the main() function.\n",
        "if __name__ == '__main__':\n",
        "    main()"
      ],
      "metadata": {
        "id": "nDPwzc5kTTCA",
        "colab": {
          "base_uri": "https://localhost:8080/"
        },
        "outputId": "ab7562bc-af00-434e-fd49-484170d3fa72"
      },
      "execution_count": null,
      "outputs": [
        {
          "output_type": "stream",
          "name": "stdout",
          "text": [
            "What's your favorite animal? cat\n",
            "My favorite animal is also cat!\n"
          ]
        }
      ]
    },
    {
      "cell_type": "markdown",
      "source": [],
      "metadata": {
        "id": "RzKrmGAlS1B0"
      }
    },
    {
      "cell_type": "markdown",
      "source": [
        "## 03_Problem Statement\n",
        "\n",
        "Write a program which prompts the user for a temperature in Fahrenheit (this can be a number with decimal places!) and outputs the temperature converted to Celsius.\n",
        "\n",
        "The Celsius scale is widely used to measure temperature, but places still use Fahrenheit. Fahrenheit is another unit for temperature, but the scale is different from Celsius -- for example, 0 degrees Celsius is 32 degrees Fahrenheit!\n",
        "\n",
        "The equation you should use for converting from Fahrenheit to Celsius is the following:\n",
        "\n",
        "degrees_celsius = (degrees_fahrenheit - 32) * 5.0/9.0\n",
        "\n",
        "(Note. The .0 after the 5 and 9 matters in the line above!!!)\n",
        "\n",
        "Here's a sample run of the program (user input is in bold italics):\n",
        "\n",
        "Enter temperature in Fahrenheit: 76\n",
        "\n",
        "Temperature: 76.0F = 24.444444444444443C"
      ],
      "metadata": {
        "id": "rs2fZyd2g1u5"
      }
    },
    {
      "cell_type": "code",
      "source": [
        "def main() -> None:\n",
        "    \"\"\"\n",
        "    This code prompts the user to enter a temperature in Fahrenheit,\n",
        "    converts it to Celsius using the formula, and then prints the result.\n",
        "    \"\"\"\n",
        "    fahrenheit: float = float(input(\"Enter temperature in Fahrenheit: \"))\n",
        "    celsius: float = (fahrenheit - 32) * 5.0 / 9.0\n",
        "    print(f\"Temperature: {fahrenheit}F = {celsius:.2f} C\")\n",
        "\n",
        "# This provided line is required at the end of\n",
        "# Python file to call the main() function.\n",
        "if __name__ == '__main__':\n",
        "    main()"
      ],
      "metadata": {
        "colab": {
          "base_uri": "https://localhost:8080/"
        },
        "id": "ImL0KJ2Lgfgm",
        "outputId": "bc16e3c8-1ee2-44f3-b478-17628217916e"
      },
      "execution_count": null,
      "outputs": [
        {
          "output_type": "stream",
          "name": "stdout",
          "text": [
            "Enter temperature in Fahrenheit: 3\n",
            "Temperature: 3.0F = -16.11 C\n"
          ]
        }
      ]
    },
    {
      "cell_type": "markdown",
      "source": [
        "## 04_Problem Statement\n",
        "\n",
        "Write a program to solve this age-related riddle!\n",
        "\n",
        "Anton, Beth, Chen, Drew, and Ethan are all friends. Their ages are as follows:\n",
        "\n",
        "Anton is 21 years old.\n",
        "\n",
        "Beth is 6 years older than Anton.\n",
        "\n",
        "Chen is 20 years older than Beth.\n",
        "\n",
        "Drew is as old as Chen's age plus Anton's age.\n",
        "\n",
        "Ethan is the same age as Chen.\n",
        "\n",
        "Your code should store each person's age to a variable and print their names and ages at the end. The autograder is sensitive to capitalization and punctuation, be careful! Your solution should look like this (the below numbers are made up -- your solution should have the correct values!):\n"
      ],
      "metadata": {
        "id": "HbSm-tS3g-nj"
      }
    },
    {
      "cell_type": "code",
      "source": [
        "\"\"\"\n",
        "This program calculates the ages of five friends based on given relationships.\n",
        "\"\"\"\n",
        "\n",
        "# Age of Anton\n",
        "anton_age: int = 21\n",
        "\n",
        "# Age of Beth (6 years older than Anton)\n",
        "beth_age: int = anton_age + 6\n",
        "\n",
        "# Age of Chen (20 years older than Beth)\n",
        "chen_age: int = beth_age + 20\n",
        "\n",
        "# Age of Drew (as old as Chen's age plus Anton's age)\n",
        "drew_age: int = chen_age + anton_age\n",
        "\n",
        "# Age of Ethan (same age as Chen)\n",
        "ethan_age: int = chen_age\n",
        "\n",
        "# Print the names and ages of the friends\n",
        "print(f\"Anton is {anton_age} years old.\")\n",
        "print(f\"Beth is {beth_age} years old.\")\n",
        "print(f\"Chen is {chen_age} years old.\")\n",
        "print(f\"Drew is {drew_age} years old.\")\n",
        "print(f\"Ethan is {ethan_age} years old.\")\n"
      ],
      "metadata": {
        "colab": {
          "base_uri": "https://localhost:8080/"
        },
        "id": "PDpFzwSehTga",
        "outputId": "32bb8863-edd2-4aa8-e239-e86ac096eedf"
      },
      "execution_count": null,
      "outputs": [
        {
          "output_type": "stream",
          "name": "stdout",
          "text": [
            "Anton is 21 years old.\n",
            "Beth is 27 years old.\n",
            "Chen is 47 years old.\n",
            "Drew is 68 years old.\n",
            "Ethan is 47 years old.\n"
          ]
        }
      ]
    },
    {
      "cell_type": "markdown",
      "source": [
        "## 05_Problem Statement\n",
        "\n",
        "Prompt the user to enter the lengths of each side of a triangle and then calculate and print the perimeter of the triangle (the sum of all of the side lengths).\n",
        "\n",
        "Here's a sample run of the program (user input is in bold italics):\n",
        "\n",
        "What is the length of side 1? 3\n",
        "\n",
        "What is the length of side 2? 4\n",
        "\n",
        "What is the length of side 3? 5.5\n",
        "\n",
        "The perimeter of the triangle is 12.5"
      ],
      "metadata": {
        "id": "U59NebWrmZvP"
      }
    },
    {
      "cell_type": "code",
      "source": [
        "def get_positive_float(prompt: str) -> float:\n",
        "    \"\"\"Helper function to get valid positive float input from user.\"\"\"\n",
        "    while True:\n",
        "        try:\n",
        "            value = float(input(f\"{prompt}\\033[1m\"))  # Bold input\n",
        "            print(\"\\033[0m\", end='')  # Reset formatting\n",
        "            if value <= 0:\n",
        "                print(\"Error: Please enter a positive number.\")\n",
        "                continue\n",
        "            return value\n",
        "        except ValueError:\n",
        "            print(\"Error: Please enter a valid number.\")\n",
        "\n",
        "def is_valid_triangle(a: float, b: float, c: float) -> bool:\n",
        "    \"\"\"Check if three sides can form a valid triangle using triangle inequality theorem.\"\"\"\n",
        "    return (a + b > c) and (b + c > a) and (a + c > b)\n",
        "\n",
        "def main():\n",
        "    \"\"\"\n",
        "    Calculate the perimeter of a triangle based on user input for three sides.\n",
        "    Includes input validation and triangle inequality theorem check.\n",
        "    \"\"\"\n",
        "    # Get the three side lengths from user input\n",
        "    side1 = get_positive_float(\"What is the length of side 1? \")\n",
        "    side2 = get_positive_float(\"What is the length of side 2? \")\n",
        "    side3 = get_positive_float(\"What is the length of side 3? \")\n",
        "\n",
        "    # Verify if sides can form a valid triangle\n",
        "    if not is_valid_triangle(side1, side2, side3):\n",
        "        print(\"\\nError: These sides cannot form a valid triangle!\")\n",
        "        print(\"The sum of any two sides must be greater than the third side.\")\n",
        "        return\n",
        "\n",
        "    # Calculate the perimeter by adding all sides\n",
        "    perimeter = side1 + side2 + side3\n",
        "\n",
        "    # Print the result with 2 decimal places\n",
        "    print(f\"\\nThe perimeter of the triangle is {perimeter:.2f}\")\n",
        "\n",
        "if __name__ == '__main__':\n",
        "    main()\n",
        "\n"
      ],
      "metadata": {
        "colab": {
          "base_uri": "https://localhost:8080/"
        },
        "id": "RH5-sxnplL78",
        "outputId": "5d46fdaa-c5dc-4ed0-ab1c-7876d07a2a36"
      },
      "execution_count": null,
      "outputs": [
        {
          "output_type": "stream",
          "name": "stdout",
          "text": [
            "What is the length of side 1? \u001b[1m4\n",
            "\u001b[0mWhat is the length of side 2? \u001b[1m5\n",
            "\u001b[0mWhat is the length of side 3? \u001b[1m2\n",
            "\u001b[0m\n",
            "The perimeter of the triangle is 11.00\n"
          ]
        }
      ]
    },
    {
      "cell_type": "markdown",
      "source": [
        "## 06_Problem Statement\n",
        "\n",
        "Ask the user for a number and print its square (the product of the number times itself).\n",
        "\n",
        "Here's a sample run of the program (user input is in bold italics):\n",
        "\n",
        "Type a number to see its square: 4\n",
        "\n",
        "4.0 squared is 16.0"
      ],
      "metadata": {
        "id": "r8iJiRDJQR1i"
      }
    },
    {
      "cell_type": "code",
      "source": [
        "def main() -> None:\n",
        "    # Ask the user for input and convert it to a float\n",
        "    number: float = float(input(\"Type a number to see its square: \\033[1m\"))\n",
        "    #re-set formating\n",
        "    print('\\033[0m', end='')\n",
        "\n",
        "    # Calculate the square by multiplying the number by itself\n",
        "    square: float = number * number\n",
        "\n",
        "    # Print the result using an f-string to format the output with bold text\n",
        "    print(f\"{number} squared is {square}\")\n",
        "\n",
        "\n",
        "# There is no need to edit code beyond this point\n",
        "\n",
        "if __name__ == '__main__':\n",
        "    main()\n"
      ],
      "metadata": {
        "colab": {
          "base_uri": "https://localhost:8080/"
        },
        "id": "fc4sWWVOQcsD",
        "outputId": "bd1995f5-de31-4478-cb67-e13738978ee7"
      },
      "execution_count": null,
      "outputs": [
        {
          "output_type": "stream",
          "name": "stdout",
          "text": [
            "Type a number to see its square: \u001b[1m3\n",
            "\u001b[0m3.0 squared is 9.0\n"
          ]
        }
      ]
    }
  ]
}
{
  "nbformat": 4,
  "nbformat_minor": 0,
  "metadata": {
    "colab": {
      "provenance": [],
      "authorship_tag": "ABX9TyM4zW+fap9YncJ9xH1SwIJU"
    },
    "kernelspec": {
      "name": "python3",
      "display_name": "Python 3"
    },
    "language_info": {
      "name": "python"
    }
  },
  "cells": [
    {
      "cell_type": "markdown",
      "source": [
        "## Problem Statement\n",
        "Write a function that takes two numbers and finds the average between the two."
      ],
      "metadata": {
        "id": "YUm430AfZ9Ft"
      }
    },
    {
      "cell_type": "code",
      "source": [
        "def main() -> None:\n",
        "    \"\"\"\n",
        "    Main function to execute the average calculation.\n",
        "    Prompts the user for two numbers and prints their average.\n",
        "    \"\"\"\n",
        "    # Prompt the user for the first number\n",
        "    first_number: float = get_number(\"Enter the first number: \")\n",
        "\n",
        "    # Prompt the user for the second number\n",
        "    second_number: float = get_number(\"Enter the second number: \")\n",
        "\n",
        "    # Calculate and print the average\n",
        "    average_result: float = average(first_number, second_number)\n",
        "    print(f\"The average of {first_number} and {second_number} is {average_result}.\")\n",
        "\n",
        "def get_number(prompt: str) -> float:\n",
        "    \"\"\"\n",
        "    Prompt the user for a number and handle invalid input.\n",
        "\n",
        "    Args:\n",
        "        prompt (str): The prompt message to display to the user.\n",
        "\n",
        "    Returns:\n",
        "        float: A valid number input by the user.\n",
        "    \"\"\"\n",
        "    while True:\n",
        "        try:\n",
        "            user_input: str = input(prompt)\n",
        "            return float(user_input)  # Convert input to a float\n",
        "        except ValueError:\n",
        "            print(\"Invalid input. Please enter a valid number.\")\n",
        "\n",
        "def average(num1: float, num2: float) -> float:\n",
        "    \"\"\"\n",
        "    Calculate the average of two numbers.\n",
        "\n",
        "    Args:\n",
        "        num1 (float): The first number.\n",
        "        num2 (float): The second number.\n",
        "\n",
        "    Returns:\n",
        "        float: The average of the two numbers.\n",
        "    \"\"\"\n",
        "    return (num1 + num2) / 2  # Calculate and return the average\n",
        "\n",
        "# This provided line is required at the end of\n",
        "# Python file to call the main() function.\n",
        "if __name__ == '__main__':\n",
        "    main()"
      ],
      "metadata": {
        "colab": {
          "base_uri": "https://localhost:8080/"
        },
        "id": "QY2cB8DqZ8vT",
        "outputId": "bdb03485-3d50-45cc-d9c2-23d584bd366d"
      },
      "execution_count": 3,
      "outputs": [
        {
          "output_type": "stream",
          "name": "stdout",
          "text": [
            "Enter the first number: 2\n",
            "Enter the second number: f\n",
            "Invalid input. Please enter a valid number.\n",
            "Enter the second number: 3\n",
            "The average of 2.0 and 3.0 is 2.5.\n"
          ]
        }
      ]
    },
    {
      "cell_type": "markdown",
      "source": [
        "##Problem Statement\n",
        "Fill out the chaotic_counting() function, which prints the numbers from 1 to 10, but with a catch. We've written a done() function which returns True with likelihood DONE_LIKELIHOOD -- at each number, before printing the number, you should call done() and check if it returns True or not. If done() returns True, we're done counting, and you should use a return statement to end the chaotic_counting() function execution and resume execution of main(), which will print \"I'm done.\". We've written main() for you -- check it out! Notice that we'll only print \"I'm done\" from main() once chaotic_counting() is done with its execution.\n",
        "\n",
        "Here's a sample run of this program:\n",
        "\n",
        "I'm going to count until 10 or until I feel like stopping, whichever comes first. 1 2 3 I'm done.\n",
        "\n"
      ],
      "metadata": {
        "id": "wWL9wDg1fm3p"
      }
    },
    {
      "cell_type": "code",
      "execution_count": 19,
      "metadata": {
        "colab": {
          "base_uri": "https://localhost:8080/"
        },
        "id": "lkM9CM5pYfzw",
        "outputId": "6d116fc2-2059-4cf6-da1c-655176fadf9e"
      },
      "outputs": [
        {
          "output_type": "stream",
          "name": "stdout",
          "text": [
            "I'm going to count until 10 or until I feel like stopping, whichever comes first.\n",
            "1 2 3 4 5 6 7 8 9 10 \n",
            "I'm done.\n"
          ]
        }
      ],
      "source": [
        "import random\n",
        "\n",
        "DONE_LIKELIHOOD: float = 0.11  # 11% chance to return True\n",
        "\n",
        "def done() -> bool:\n",
        "    \"\"\"\n",
        "    Randomly determine if counting should be stopped.\n",
        "\n",
        "    Returns:\n",
        "        bool: True with a likelihood of DONE_LIKELIHOOD, otherwise False.\n",
        "    \"\"\"\n",
        "    return random.random() < DONE_LIKELIHOOD\n",
        "\n",
        "def chaotic_counting() -> None:\n",
        "    \"\"\"\n",
        "    Print numbers from 1 to 10, stopping if done() returns True.\n",
        "    \"\"\"\n",
        "    for number in range(1, 11):\n",
        "        if done():\n",
        "            return  # Stop counting if done() returns True\n",
        "        print(number, end=' ')  # Print the number without a newline\n",
        "\n",
        "def main() -> None:\n",
        "    \"\"\"\n",
        "    Main function to execute the chaotic counting.\n",
        "    \"\"\"\n",
        "    print(\"I'm going to count until 10 or until I feel like stopping, whichever comes first.\")\n",
        "    chaotic_counting()  # Call the chaotic counting function\n",
        "    print(\"\\nI'm done.\")  # Print when counting is finished\n",
        "\n",
        "# This provided line is required at the end of\n",
        "# Python file to call the main() function.\n",
        "if __name__ == '__main__':\n",
        "    main()"
      ]
    },
    {
      "cell_type": "markdown",
      "source": [
        "##Problem Statement\n",
        "Fill out the function count_even(lst) which\n",
        "\n",
        "first populates a list by prompting the user for integers until they press enter (please use the prompt \"Enter an integer or press enter to stop: \"),\n",
        "\n",
        "and then prints the number of even numbers in the list."
      ],
      "metadata": {
        "id": "ptK7YUdplbMZ"
      }
    },
    {
      "cell_type": "code",
      "source": [
        "def main() -> None:\n",
        "    \"\"\"\n",
        "    Main function to execute the even number counting.\n",
        "    Calls the count_even function to get user input and count even numbers.\n",
        "    \"\"\"\n",
        "    count_even()  # Call the function to count even numbers\n",
        "\n",
        "def count_even() -> None:\n",
        "    \"\"\"\n",
        "    Prompt the user for integers and count the number of even numbers.\n",
        "\n",
        "    This function continues to prompt the user until they press enter\n",
        "    without providing an input. It then prints the count of even numbers.\n",
        "    \"\"\"\n",
        "    lst: list[int] = []  # Initialize an empty list to store integers\n",
        "\n",
        "    while True:\n",
        "        user_input: str = input(\"Enter an integer or press enter to stop: \")\n",
        "        if user_input == \"\":  # Check if the user pressed enter\n",
        "            break  # Exit the loop if no input is provided\n",
        "        try:\n",
        "            number: int = int(user_input)  # Convert input to an integer\n",
        "            lst.append(number)  # Add the number to the list\n",
        "        except ValueError:\n",
        "            print(\"Invalid input. Please enter a valid integer.\")  # Handle invalid input\n",
        "\n",
        "    # Count the number of even numbers in the list\n",
        "    even_count: int = sum(1 for num in lst if num % 2 == 0)\n",
        "    print(f\"The number of even numbers in the list is: {even_count}\")\n",
        "\n",
        "# This provided line is required at the end of\n",
        "# Python file to call the main() function.\n",
        "if __name__ == '__main__':\n",
        "    main()"
      ],
      "metadata": {
        "colab": {
          "base_uri": "https://localhost:8080/"
        },
        "id": "m2DUc26bY7SC",
        "outputId": "e2c6b5a5-5ced-4e15-f5ba-edaff717fdd5"
      },
      "execution_count": 21,
      "outputs": [
        {
          "output_type": "stream",
          "name": "stdout",
          "text": [
            "Enter an integer or press enter to stop: 2\n",
            "Enter an integer or press enter to stop: -4\n",
            "Enter an integer or press enter to stop: -3\n",
            "Enter an integer or press enter to stop: \n",
            "The number of even numbers in the list is: 2\n"
          ]
        }
      ]
    },
    {
      "cell_type": "markdown",
      "source": [
        "##Problem Statement\n",
        "Fill out the double(num) function to return the result of multiplying num by 2. We've written a main() function for you which asks the user for a number, calls your code for double(num) , and prints the result.\n",
        "\n",
        "Here's a sample run of the program (user input in bold italics):\n",
        "\n",
        "Enter a number: 2 Double that is 4"
      ],
      "metadata": {
        "id": "QbeMpPLwnEAL"
      }
    },
    {
      "cell_type": "code",
      "source": [
        "class InvalidInputError(Exception):\n",
        "    \"\"\"Custom exception for invalid inputs.\"\"\"\n",
        "    pass\n",
        "\n",
        "def main() -> None:\n",
        "    \"\"\"\n",
        "    Main function to execute the doubling of a number.\n",
        "    Prompts the user for a number, calls double(num), and prints the result.\n",
        "    \"\"\"\n",
        "    user_input: str = input(\"Enter a number: \")  # Prompt the user for input\n",
        "    try:\n",
        "        number: float = float(user_input)  # Convert input to a float\n",
        "        result: float = double(number)  # Call the double function\n",
        "        print(f\"Double that is {result}\")  # Print the result\n",
        "    except ValueError:\n",
        "        print(\"Invalid input. Please enter a valid number.\")  # Handle non-numeric input\n",
        "    except InvalidInputError as e:\n",
        "        print(e)  # Handle custom exceptions for zero and negative numbers\n",
        "\n",
        "def double(num: float) -> float:\n",
        "    \"\"\"\n",
        "    Return the result of multiplying num by 2.\n",
        "\n",
        "    Args:\n",
        "        num (float): The number to be doubled.\n",
        "\n",
        "    Returns:\n",
        "        float: The doubled value of num.\n",
        "\n",
        "    Raises:\n",
        "        InvalidInputError: If num is zero or negative.\n",
        "    \"\"\"\n",
        "    if num <= 0:\n",
        "        raise InvalidInputError(\"Input must be a positive number greater than zero.\")\n",
        "    return num * 2  # Return the doubled value\n",
        "\n",
        "# This provided line is required at the end of\n",
        "# Python file to call the main() function.\n",
        "if __name__ == '__main__':\n",
        "    main()"
      ],
      "metadata": {
        "colab": {
          "base_uri": "https://localhost:8080/"
        },
        "id": "naeg942LY7r2",
        "outputId": "d4f7f163-1d84-473c-a4fa-d0a140446a99"
      },
      "execution_count": 23,
      "outputs": [
        {
          "output_type": "stream",
          "name": "stdout",
          "text": [
            "Enter a number: 0\n",
            "Input must be a positive number greater than zero.\n"
          ]
        }
      ]
    },
    {
      "cell_type": "markdown",
      "source": [
        "##Problem Statement\n",
        "Fill out the get_name() function to return your name as a string! We've written a main() function for you which calls your function to retrieve your name and then prints it in a greeting.\n",
        "\n",
        "Here's a sample run of the program where the name we've decided to return is Sophia (the autograder expects the returned name to be Sophia):\n",
        "\n",
        "Howdy Sophia ! 🤠"
      ],
      "metadata": {
        "id": "zNugDfyk_MMo"
      }
    },
    {
      "cell_type": "code",
      "source": [
        "def main() -> None:\n",
        "    \"\"\"\n",
        "    Main function to greet the user.\n",
        "    Calls get_name() to retrieve the name and prints a greeting.\n",
        "    \"\"\"\n",
        "    name: str = get_name()  # Call the function to get the name\n",
        "    print(f\"Howdy {name} ! 🤠\")  # Print the greeting\n",
        "\n",
        "def get_name() -> str:\n",
        "    \"\"\"\n",
        "    Prompt the user for their name and return it as a string.\n",
        "\n",
        "    Returns:\n",
        "        str: The name of the user.\n",
        "    \"\"\"\n",
        "    return input(\"Please enter your name: \")  # Prompt the user for their name\n",
        "\n",
        "# This provided line is required at the end of\n",
        "# Python file to call the main() function.\n",
        "if __name__ == '__main__':\n",
        "    main()"
      ],
      "metadata": {
        "colab": {
          "base_uri": "https://localhost:8080/"
        },
        "id": "ysdeWcmPY70i",
        "outputId": "aa5962ce-772f-4092-df60-fb2b36a4e16c"
      },
      "execution_count": 25,
      "outputs": [
        {
          "output_type": "stream",
          "name": "stdout",
          "text": [
            "Please enter your name: sam\n",
            "Howdy sam ! 🤠\n"
          ]
        }
      ]
    },
    {
      "cell_type": "markdown",
      "source": [
        "##Problem Statement\n",
        "10 even 11 odd 12 even 13 odd 14 even 15 odd 16 even 17 odd 18 even 19 odd\n",
        "\n"
      ],
      "metadata": {
        "id": "JyTiVMjrDgWt"
      }
    },
    {
      "cell_type": "code",
      "source": [
        "def main() -> None:\n",
        "    \"\"\"\n",
        "    Main function to print whether numbers from 10 to 19 are even or odd.\n",
        "    \"\"\"\n",
        "    check_even_odd()  # Call the function to check even and odd numbers\n",
        "\n",
        "def check_even_odd() -> None:\n",
        "    \"\"\"\n",
        "    Check numbers from 10 to 19 and print whether they are even or odd.\n",
        "    \"\"\"\n",
        "    for number in range(10, 20):  # Iterate through numbers from 10 to 19\n",
        "        if number % 2 == 0:\n",
        "            print(f\"{number} even\", end=' ')  # Print if the number is even\n",
        "        else:\n",
        "            print(f\"{number} odd\", end=' ')  # Print if the number is odd\n",
        "\n",
        "# This provided line is required at the end of\n",
        "# Python file to call the main() function.\n",
        "if __name__ == '__main__':\n",
        "    main()"
      ],
      "metadata": {
        "colab": {
          "base_uri": "https://localhost:8080/"
        },
        "id": "wTtmWq6NY78W",
        "outputId": "befa7ccd-530c-4e29-b566-db13e306e365"
      },
      "execution_count": 26,
      "outputs": [
        {
          "output_type": "stream",
          "name": "stdout",
          "text": [
            "10 even 11 odd 12 even 13 odd 14 even 15 odd 16 even 17 odd 18 even 19 odd "
          ]
        }
      ]
    },
    {
      "cell_type": "markdown",
      "source": [
        "##Problem Statement\n",
        "Write the helper function print_divisors(num), which takes in a number and prints all of its divisors (all the numbers from 1 to num inclusive that num can be cleanly divided by (there is no remainder to the division). Don't forget to call your function in main()!\n",
        "\n",
        "Here's a sample run (user input is in blue):\n",
        "\n",
        "Enter a number: 12 Here are the divisors of 12 1 2 3 4 6 12"
      ],
      "metadata": {
        "id": "n6eczo1ED667"
      }
    },
    {
      "cell_type": "code",
      "source": [
        "def main() -> None:\n",
        "    \"\"\"\n",
        "    Main function to prompt the user for a number and print its divisors.\n",
        "    \"\"\"\n",
        "    user_input: str = input(\"Enter a number: \")  # Prompt the user for input\n",
        "    try:\n",
        "        number: int = int(user_input)  # Convert input to an integer\n",
        "        print(f\"Here are the divisors of {number}:\")  # Print the introductory message\n",
        "        print_divisors(number)  # Call the function to print divisors\n",
        "    except ValueError:\n",
        "        print(\"Invalid input. Please enter a valid integer.\")  # Handle invalid input\n",
        "\n",
        "def print_divisors(num: int) -> None:\n",
        "    \"\"\"\n",
        "    Print all divisors of the given number.\n",
        "\n",
        "    Args:\n",
        "        num (int): The number to find divisors for.\n",
        "    \"\"\"\n",
        "    for i in range(1, num + 1):  # Iterate from 1 to num inclusive\n",
        "        if num % i == 0:  # Check if i is a divisor of num\n",
        "            print(i, end=' ')  # Print the divisor\n",
        "\n",
        "# This provided line is required at the end of\n",
        "# Python file to call the main() function.\n",
        "if __name__ == '__main__':\n",
        "    main()"
      ],
      "metadata": {
        "colab": {
          "base_uri": "https://localhost:8080/"
        },
        "id": "fyBNEy0bY8D7",
        "outputId": "598c4371-b6b6-408d-8810-f00f48ac4ffb"
      },
      "execution_count": 29,
      "outputs": [
        {
          "output_type": "stream",
          "name": "stdout",
          "text": [
            "Enter a number: 455\n",
            "Here are the divisors of 455:\n",
            "1 5 7 13 35 65 91 455 "
          ]
        }
      ]
    },
    {
      "cell_type": "markdown",
      "source": [
        "##Problem Statement\n",
        "Fill out print_multiple(message, repeats), which takes as parameters a string message to print, and an integer repeats number of times to print message. We've written the main() function for you, which prompts the user for a message and a number of repeats.\n",
        "\n",
        "Here's a sample run of the program (user input is in blue):\n",
        "\n",
        "Please type a message: Hello! Enter a number of times to repeat your message: 6 Hello! Hello! Hello! Hello! Hello! Hello!"
      ],
      "metadata": {
        "id": "_Eyd5Q0NJh15"
      }
    },
    {
      "cell_type": "code",
      "source": [
        "def main() -> None:\n",
        "    \"\"\"\n",
        "    Main function to prompt the user for a message and number of repeats.\n",
        "    Calls print_multiple() to print the message the specified number of times.\n",
        "    \"\"\"\n",
        "    message: str = input(\"Please type a message: \")  # Prompt the user for a message\n",
        "    user_input: str = input(\"Enter a number of times to repeat your message: \")  # Prompt for repeats\n",
        "    try:\n",
        "        repeats: int = int(user_input)  # Convert input to an integer\n",
        "        print_multiple(message, repeats)  # Call the function to print the message\n",
        "    except ValueError:\n",
        "        print(\"Invalid input. Please enter a valid integer.\")  # Handle invalid input\n",
        "\n",
        "def print_multiple(message: str, repeats: int) -> None:\n",
        "    \"\"\"\n",
        "    Print the given message a specified number of times.\n",
        "\n",
        "    Args:\n",
        "        message (str): The message to print.\n",
        "        repeats (int): The number of times to print the message.\n",
        "    \"\"\"\n",
        "    for _ in range(repeats):  # Loop for the number of repeats\n",
        "        print(message, end=' ')  # Print the message without a newline\n",
        "\n",
        "# This provided line is required at the end of\n",
        "# Python file to call the main() function.\n",
        "if __name__ == '__main__':\n",
        "    main()"
      ],
      "metadata": {
        "colab": {
          "base_uri": "https://localhost:8080/"
        },
        "id": "Q0vzjxeBY8LC",
        "outputId": "bc692f57-bfdb-40a8-c6a8-58f4990b8f52"
      },
      "execution_count": 30,
      "outputs": [
        {
          "output_type": "stream",
          "name": "stdout",
          "text": [
            "Please type a message: sup?\n",
            "Enter a number of times to repeat your message: 5\n",
            "sup? sup? sup? sup? sup? "
          ]
        }
      ]
    },
    {
      "cell_type": "markdown",
      "source": [
        "##Problem Statement\n",
        "Implement the helper function make_sentence(word, part_of_speech) which will take a string word and an integer part_of_speech as parameters and, depending on the part of speech, place the word into one of three sentence templates (or one from your imagination!):\n",
        "\n",
        "If part_of_speech is 0, we will assume the word is a noun and use the template: \"I am excited to add this ____ to my vast collection of them!\"\n",
        "\n",
        "If part_of_speech is 1, we will assume the word is a verb use the template: \"It's so nice outside today it makes me want to ____!\"\n",
        "\n",
        "If part_of_speech is 2, we will assume the word is an adjective and use the template: \"Looking out my window, the sky is big and ____!\" make_sentence(word, part_of_speech) should not return anything, just print the correct sentence with the word filled in the blank.\n",
        "\n",
        "Here's a sample run of the program (user input is in blue):\n",
        "\n",
        "Please type a noun, verb, or adjective: groovy Is this a noun, verb, or adjective? Type 0 for noun, 1 for verb, 2 for adjective: 2 Looking out my window, the sky is big and groovy!"
      ],
      "metadata": {
        "id": "Cp_HI9CdLF7o"
      }
    },
    {
      "cell_type": "code",
      "source": [
        "def main() -> None:\n",
        "    \"\"\"\n",
        "    Main function to prompt the user for a word and its part of speech.\n",
        "    Calls make_sentence() to print the appropriate sentence.\n",
        "    \"\"\"\n",
        "    word: str = input(\"Please type a noun, verb, or adjective: \")  # Prompt for the word\n",
        "    user_input: str = input(\"Is this a noun, verb, or adjective? Type 0 for noun, 1 for verb, 2 for adjective: \")  # Prompt for part of speech\n",
        "\n",
        "    try:\n",
        "        part_of_speech: int = int(user_input)  # Convert input to an integer\n",
        "        make_sentence(word, part_of_speech)  # Call the function to make the sentence\n",
        "    except ValueError:\n",
        "        print(\"Invalid input. Please enter a valid number for part of speech.\")  # Handle invalid input\n",
        "\n",
        "def make_sentence(word: str, part_of_speech: int) -> None:\n",
        "    \"\"\"\n",
        "    Print a sentence based on the word and its part of speech.\n",
        "\n",
        "    Args:\n",
        "        word (str): The word to include in the sentence.\n",
        "        part_of_speech (int): The part of speech (0 for noun, 1 for verb, 2 for adjective).\n",
        "    \"\"\"\n",
        "    if part_of_speech == 0:\n",
        "        print(f\"I am excited to add this {word} to my vast collection of them!\")  # Noun template\n",
        "    elif part_of_speech == 1:\n",
        "        print(f\"It's so nice outside today it makes me want to {word}!\")  # Verb template\n",
        "    elif part_of_speech == 2:\n",
        "        print(f\"Looking out my window, the sky is big and {word}!\")  # Adjective template\n",
        "    else:\n",
        "        print(\"Invalid part of speech. Please enter 0, 1, or 2.\")  # Handle invalid part of speech\n",
        "\n",
        "# This provided line is required at the end of\n",
        "# Python file to call the main() function.\n",
        "if __name__ == '__main__':\n",
        "    main()"
      ],
      "metadata": {
        "colab": {
          "base_uri": "https://localhost:8080/"
        },
        "id": "1KtzxTDjY8Sr",
        "outputId": "285a4f60-d404-411b-fd95-0f431f84fb3a"
      },
      "execution_count": 32,
      "outputs": [
        {
          "output_type": "stream",
          "name": "stdout",
          "text": [
            "Please type a noun, verb, or adjective: run\n",
            "Is this a noun, verb, or adjective? Type 0 for noun, 1 for verb, 2 for adjective: 1\n",
            "It's so nice outside today it makes me want to run!\n"
          ]
        }
      ]
    },
    {
      "cell_type": "markdown",
      "source": [
        "##Problem Statement\n",
        "Write a function called print_ones_digit , which takes as a parameter an integer num and prints its ones digit. The modulo (remainder) operator, %, should be helpful to you here. Call your function from main()!\n",
        "\n",
        "Here's a sample run (user input is in blue):\n",
        "\n",
        "Enter a number: 42 The ones digit is 2"
      ],
      "metadata": {
        "id": "0dKM1YmeLssc"
      }
    },
    {
      "cell_type": "code",
      "source": [
        "def main() -> None:\n",
        "    \"\"\"\n",
        "    Main function to prompt the user for a number and print its ones digit.\n",
        "    \"\"\"\n",
        "    user_input: str = input(\"Enter a number: \")  # Prompt the user for input\n",
        "    try:\n",
        "        number: int = int(user_input)  # Convert input to an integer\n",
        "        print_ones_digit(number)  # Call the function to print the ones digit\n",
        "    except ValueError:\n",
        "        print(\"Invalid input. Please enter a valid integer.\")  # Handle invalid input\n",
        "\n",
        "def print_ones_digit(num: int) -> None:\n",
        "    \"\"\"\n",
        "    Print the ones digit of the given number.\n",
        "\n",
        "    Args:\n",
        "        num (int): The number to find the ones digit of.\n",
        "    \"\"\"\n",
        "    ones_digit: int = num % 10  # Calculate the ones digit using modulo\n",
        "    print(f\"The ones digit is {ones_digit}\")  # Print the ones digit\n",
        "\n",
        "# This provided line is required at the end of\n",
        "# Python file to call the main() function.\n",
        "if __name__ == '__main__':\n",
        "    main()"
      ],
      "metadata": {
        "colab": {
          "base_uri": "https://localhost:8080/"
        },
        "id": "sipfx_llLFet",
        "outputId": "e4cbc44d-5a06-40b5-f8d8-151d1d6723e0"
      },
      "execution_count": 33,
      "outputs": [
        {
          "output_type": "stream",
          "name": "stdout",
          "text": [
            "Enter a number: 43\n",
            "The ones digit is 3\n"
          ]
        }
      ]
    },
    {
      "cell_type": "code",
      "source": [],
      "metadata": {
        "id": "fVLz3pw3N8Ei"
      },
      "execution_count": null,
      "outputs": []
    }
  ]
}
{
  "nbformat": 4,
  "nbformat_minor": 0,
  "metadata": {
    "colab": {
      "provenance": [],
      "authorship_tag": "ABX9TyMnkVh+la+NNGf3ut0UiAkk"
    },
    "kernelspec": {
      "name": "python3",
      "display_name": "Python 3"
    },
    "language_info": {
      "name": "python"
    }
  },
  "cells": [
    {
      "cell_type": "markdown",
      "source": [
        "## Problem Statement\n",
        "Write a program that prints the first 20 even numbers. There are several correct approaches, but they all use a loop of some sort. Do no write twenty print statements\n",
        "\n",
        "The first even number is 0:\n",
        "\n",
        "0 2 4 6 8 10 12 14 16 18 20 22 24 26 28 30 32 34 36 38\n",
        "\n",
        ""
      ],
      "metadata": {
        "id": "D9WaS-1V2O5x"
      }
    },
    {
      "cell_type": "code",
      "execution_count": 5,
      "metadata": {
        "colab": {
          "base_uri": "https://localhost:8080/"
        },
        "id": "ueqD9LeT1qOX",
        "outputId": "b36c96c6-9389-4c94-cb4c-2872a65c9282"
      },
      "outputs": [
        {
          "output_type": "stream",
          "name": "stdout",
          "text": [
            "0 2 4 6 8 10 12 14 16 18 20 22 24 26 28 30 32 34 36 38\n"
          ]
        }
      ],
      "source": [
        "def main() -> None:\n",
        "    \"\"\"\n",
        "    Main function that prints the first 20 even numbers.\n",
        "    The even numbers are printed in a single line, separated by spaces.\n",
        "    \"\"\"\n",
        "    # Initialize a list to hold the even numbers\n",
        "    even_numbers: list[int] = []\n",
        "\n",
        "    # Loop to generate the first 20 even numbers\n",
        "    for i in range(20):\n",
        "        even_number: int = i * 2  # Calculate the even number\n",
        "        even_numbers.append(even_number)  # Add it to the list\n",
        "\n",
        "    # Print the even numbers in a single line using f-strings\n",
        "    print(f\"{' '.join(map(str, even_numbers))}\")\n",
        "\n",
        "# This provided line is required at the end of\n",
        "# Python file to call the main() function.\n",
        "if __name__ == '__main__':\n",
        "    main()"
      ]
    },
    {
      "cell_type": "markdown",
      "source": [
        "## Problem Statement\n",
        "Write a program which asks a user for their age and lets them know if they can or can't vote in the following three fictional countries.\n",
        "\n",
        "Around the world, different countries have different voting ages. In the fictional countries of Peturksbouipo, Stanlau, and Mayengua, the voting ages are very different:\n",
        "\n",
        "the voting age in Peturksbouipo is 16 (in real life, this is the voting age in, for example, Scotland, Ethiopia, and Austria)\n",
        "\n",
        "the voting age in Stanlau is 25 (in real life this is the voting age in the United Arab Emirates)\n",
        "\n",
        "the voting age in Mayengua is 48 (in real life, as far as we can tell, this isn't the voting age anywhere)\n",
        "\n",
        "Your code should prompt the for their age and print whether or not they can vote in Peturksbouipo, Stanlau, or Mayengua.\n",
        "\n",
        "Here's a sample run of the program (user input is in blue):\n",
        "\n",
        "How old are you? 20 You can vote in Peturksbouipo where the voting age is 16. You cannot vote in Stanlau where the voting age is 25. You cannot vote in Mayengua where the voting age is 48.\n",
        "\n"
      ],
      "metadata": {
        "id": "QUbuOPap6dIZ"
      }
    },
    {
      "cell_type": "code",
      "source": [
        "def main() -> None:\n",
        "    \"\"\"\n",
        "    Main function that checks if a user can vote in three fictional countries\n",
        "    based on their age. It prompts the user for their age and provides feedback\n",
        "    on their voting eligibility in each country.\n",
        "    \"\"\"\n",
        "    # Define the voting ages for each country\n",
        "    voting_ages: dict[str, int] = {\n",
        "        \"Peturksbouipo\": 16,\n",
        "        \"Stanlau\": 25,\n",
        "        \"Mayengua\": 48\n",
        "    }\n",
        "\n",
        "    # Prompt the user for their age with input validation\n",
        "    while True:\n",
        "        user_input: str = input(\"How old are you? \")\n",
        "        try:\n",
        "            age: int = int(user_input)\n",
        "            if age < 0:\n",
        "                print(\"Please enter a valid age (non-negative).\")\n",
        "                continue\n",
        "            break  # Exit the loop if the input is valid\n",
        "        except ValueError:\n",
        "            print(\"Invalid input. Please enter a valid age (a number).\")\n",
        "\n",
        "    # Check voting eligibility for each country\n",
        "    for country, voting_age in voting_ages.items():\n",
        "        if age >= voting_age:\n",
        "            print(f\"You can vote in {country} where the voting age is {voting_age}.\")\n",
        "        else:\n",
        "            print(f\"You cannot vote in {country} where the voting age is {voting_age}.\")\n",
        "\n",
        "# This provided line is required at the end of\n",
        "# Python file to call the main() function.\n",
        "if __name__ == '__main__':\n",
        "    main()"
      ],
      "metadata": {
        "colab": {
          "base_uri": "https://localhost:8080/"
        },
        "id": "l86afod315Kj",
        "outputId": "4bed2a00-3280-46bd-d0d5-c77a9ebad2d2"
      },
      "execution_count": 12,
      "outputs": [
        {
          "output_type": "stream",
          "name": "stdout",
          "text": [
            "How old are you? -\n",
            "Invalid input. Please enter a valid age (a number).\n",
            "How old are you? d\n",
            "Invalid input. Please enter a valid age (a number).\n",
            "How old are you? -8\n",
            "Please enter a valid age (non-negative).\n",
            "How old are you? `\n",
            "Invalid input. Please enter a valid age (a number).\n",
            "How old are you? x\n",
            "Invalid input. Please enter a valid age (a number).\n",
            "How old are you? .\n",
            "Invalid input. Please enter a valid age (a number).\n",
            "How old are you? 4\n",
            "You cannot vote in Peturksbouipo where the voting age is 16.\n",
            "You cannot vote in Stanlau where the voting age is 25.\n",
            "You cannot vote in Mayengua where the voting age is 48.\n"
          ]
        }
      ]
    },
    {
      "cell_type": "markdown",
      "source": [
        "## Problem Statement\n",
        "Write a program that reads a year from the user and tells whether a given year is a leap year or not.\n",
        "\n",
        "A leap year (also known as an intercalary year or bissextile year) is a calendar year that contains an additional day (or, in the case of a lunisolar calendar, a month) added to keep the calendar year synchronized with the astronomical year or seasonal year. In the Gregorian calendar, each leap year has 366 days instead of 365, by extending February to 29 days rather than the common 28.\n",
        "\n",
        "In the Gregorian calendar, three criteria must be checked to identify leap years:\n",
        "\n",
        "The given year must be evenly divisible by 4;\n",
        "If the year can also be evenly divided by 100, it is NOT a leap year; unless:\n",
        "The year is also evenly divisible by 400. Then it is a leap year.\n",
        "Your code should use the above criteria to check for a leap year and then print either \"That's a leap year!\" or \"That's not a leap year.\""
      ],
      "metadata": {
        "id": "K2JT0K-R84ry"
      }
    },
    {
      "cell_type": "code",
      "source": [
        "def main() -> None:\n",
        "    \"\"\"\n",
        "    Main function that checks if a given year is a leap year.\n",
        "    It prompts the user for a year and prints whether it is a leap year or not.\n",
        "    \"\"\"\n",
        "    # Prompt the user for a year with input validation\n",
        "    while True:\n",
        "        user_input: str = input(\"Please enter a year: \")\n",
        "        try:\n",
        "            year: int = int(user_input)\n",
        "            if year < 0:\n",
        "                print(\"Please enter a valid year (non-negative).\")\n",
        "                continue\n",
        "            break  # Exit the loop if the input is valid\n",
        "        except ValueError:\n",
        "            print(\"Invalid input. Please enter a valid year (a number).\")\n",
        "\n",
        "    # Check if the year is a leap year\n",
        "    if (year % 4 == 0 and year % 100 != 0) or (year % 400 == 0):\n",
        "        print(\"That's a leap year!\")\n",
        "    else:\n",
        "        print(\"That's not a leap year.\")\n",
        "\n",
        "# This provided line is required at the end of\n",
        "# Python file to call the main() function.\n",
        "if __name__ == '__main__':\n",
        "    main()"
      ],
      "metadata": {
        "colab": {
          "base_uri": "https://localhost:8080/"
        },
        "id": "G-RlbxNT15vk",
        "outputId": "b3eb78c5-40c6-477e-8255-7a3ef00a4e74"
      },
      "execution_count": 14,
      "outputs": [
        {
          "output_type": "stream",
          "name": "stdout",
          "text": [
            "Please enter a year: 2025\n",
            "That's not a leap year.\n"
          ]
        }
      ]
    },
    {
      "cell_type": "markdown",
      "source": [
        "## Problem Statement\n",
        "Write a program which asks the user how tall they are and prints whether or not they're taller than a pre-specified minimum height.\n",
        "\n",
        "In amusement parks (ah, the good old pre-pandemic days...), rollercoasters frequently have minimum height requirements for safety reasons. Assume for now that the minimum height is 50 of whatever height unit you'd like\n",
        "\n",
        "Here's two sample runs (user input is in bold italics):\n",
        "\n",
        "How tall are you? 100\n",
        "\n",
        "You're tall enough to ride!\n",
        "\n",
        "How tall are you? 10\n",
        "\n",
        "You're not tall enough to ride, but maybe next year!\n",
        "\n"
      ],
      "metadata": {
        "id": "ritxB3Fs-R1u"
      }
    },
    {
      "cell_type": "code",
      "source": [
        "def main() -> None:\n",
        "    \"\"\"\n",
        "    Main function that checks if a user is tall enough to ride a rollercoaster.\n",
        "    It prompts the user for their height and prints whether they meet the minimum height requirement.\n",
        "    \"\"\"\n",
        "    # Define the minimum height requirement\n",
        "    MINIMUM_HEIGHT: int = 50\n",
        "\n",
        "    # Prompt the user for their height with input validation\n",
        "    while True:\n",
        "        user_input: str = input(\"How tall are you? \")\n",
        "        try:\n",
        "            height: int = int(user_input)\n",
        "            if height < 0:\n",
        "                print(\"Please enter a valid height (non-negative).\")\n",
        "                continue\n",
        "            break  # Exit the loop if the input is valid\n",
        "        except ValueError:\n",
        "            print(\"Invalid input. Please enter a valid height (a number).\")\n",
        "\n",
        "    # Check if the user is tall enough to ride\n",
        "    if height >= MINIMUM_HEIGHT:\n",
        "        print(\"You're tall enough to ride!\")\n",
        "    else:\n",
        "        print(\"You're not tall enough to ride, but maybe next year!\")\n",
        "\n",
        "# This provided line is required at the end of\n",
        "# Python file to call the main() function.\n",
        "if __name__ == '__main__':\n",
        "    main()"
      ],
      "metadata": {
        "colab": {
          "base_uri": "https://localhost:8080/"
        },
        "id": "XVPHboW116Lj",
        "outputId": "9991c320-1586-44a6-d409-6186eebc3232"
      },
      "execution_count": 15,
      "outputs": [
        {
          "output_type": "stream",
          "name": "stdout",
          "text": [
            "How tall are you? 40\n",
            "You're not tall enough to ride, but maybe next year!\n"
          ]
        }
      ]
    },
    {
      "cell_type": "markdown",
      "source": [
        "## Problem Statement\n",
        "Print 10 random numbers in the range 1 to 100.\n",
        "\n",
        "Here is an example run:\n",
        "\n",
        "45 79 61 47 52 10 16 83 19 12\n",
        "\n",
        "Each time you run your program you should get different numbers\n",
        "\n",
        "81 76 70 1 27 63 96 100 32 92\n",
        "\n",
        "Recall that the python random library has a function randint which returns an integer in the range set by the parameters (inclusive). For example this call would produce a random integer between 1 and 6, which could include 1 and could include 6:\n",
        "\n",
        "value = random.randint(1, 6)"
      ],
      "metadata": {
        "id": "ItvkkWvD_BwX"
      }
    },
    {
      "cell_type": "code",
      "source": [
        "import random\n",
        "\n",
        "def main() -> None:\n",
        "    \"\"\"\n",
        "    Main function that generates and prints 10 random numbers\n",
        "    in the range of 1 to 100.\n",
        "    \"\"\"\n",
        "    # Generate 10 random numbers in the range of 1 to 100\n",
        "    random_numbers: list[int] = [random.randint(1, 100) for _ in range(10)]\n",
        "\n",
        "    # Print the random numbers\n",
        "    print(\" \".join(map(str, random_numbers)))\n",
        "\n",
        "# This provided line is required at the end of\n",
        "# Python file to call the main() function.\n",
        "if __name__ == '__main__':\n",
        "    main()"
      ],
      "metadata": {
        "colab": {
          "base_uri": "https://localhost:8080/"
        },
        "id": "U8epey8v16VN",
        "outputId": "ae87dd19-a5b3-47b4-d9b1-4ef8f812690b"
      },
      "execution_count": 18,
      "outputs": [
        {
          "output_type": "stream",
          "name": "stdout",
          "text": [
            "56 64 31 75 86 37 14 87 62 72\n"
          ]
        }
      ]
    },
    {
      "cell_type": "code",
      "source": [],
      "metadata": {
        "id": "-ZXViWHn16gO"
      },
      "execution_count": null,
      "outputs": []
    }
  ]
}
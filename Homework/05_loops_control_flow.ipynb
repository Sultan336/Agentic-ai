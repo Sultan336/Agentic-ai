{
  "nbformat": 4,
  "nbformat_minor": 0,
  "metadata": {
    "colab": {
      "provenance": [],
      "authorship_tag": "ABX9TyNEtMh0QrkWc70lQG4+Xtlo"
    },
    "kernelspec": {
      "name": "python3",
      "display_name": "Python 3"
    },
    "language_info": {
      "name": "python"
    }
  },
  "cells": [
    {
      "cell_type": "markdown",
      "source": [
        "##Problem Statement\n",
        "Guess My Number\n",
        "\n",
        "I am thinking of a number between 0 and 99... Enter a guess: 50 Your guess is too high\n",
        "\n",
        "Enter a new number: 25 Your guess is too low\n",
        "\n",
        "Enter a new number: 40 Your guess is too low\n",
        "\n",
        "Enter a new number: 45 Your guess is too low\n",
        "\n",
        "Enter a new number: 48 Congrats! The number was: 48\n",
        "\n"
      ],
      "metadata": {
        "id": "pHzHIN8hGryP"
      }
    },
    {
      "cell_type": "code",
      "execution_count": 2,
      "metadata": {
        "colab": {
          "base_uri": "https://localhost:8080/"
        },
        "id": "U_nsxKs8GeXA",
        "outputId": "a2de1e07-d715-4e17-9649-143cece94d6f"
      },
      "outputs": [
        {
          "output_type": "stream",
          "name": "stdout",
          "text": [
            "Welcome to the Number Guessing Game!\n",
            "I have selected a number between 1 and 100. Can you guess it?\n",
            "Enter your guess (or 0 to quit): 50\n",
            "Too low! Try again.\n",
            "Enter your guess (or 0 to quit): 75\n",
            "Too high! Try again.\n",
            "Enter your guess (or 0 to quit): 63\n",
            "Too low! Try again.\n",
            "Enter your guess (or 0 to quit): 56\n",
            "Too low! Try again.\n",
            "Enter your guess (or 0 to quit): 60\n",
            "Too low! Try again.\n",
            "Enter your guess (or 0 to quit): 62\n",
            "Too low! Try again.\n",
            "Enter your guess (or 0 to quit): 64\n",
            "Too low! Try again.\n",
            "Enter your guess (or 0 to quit): 65\n",
            "Congratulations! You've guessed the number 65 in 8 attempts.\n"
          ]
        }
      ],
      "source": [
        "import random\n",
        "\n",
        "def guess_the_number() -> None:\n",
        "    \"\"\"Function to play a number guessing game.\"\"\"\n",
        "    number_to_guess = random.randint(1, 100)  # Random number between 1 and 100\n",
        "    attempts = 0  # Counter for the number of attempts\n",
        "\n",
        "    print(\"Welcome to the Number Guessing Game!\")\n",
        "    print(\"I have selected a number between 1 and 100. Can you guess it?\")\n",
        "\n",
        "    while True:\n",
        "        try:\n",
        "            guess = int(input(\"Enter your guess (or 0 to quit): \"))\n",
        "            if guess == 0:\n",
        "                print(\"Thanks for playing! Goodbye!\")\n",
        "                break\n",
        "\n",
        "            attempts += 1  # Increment the attempt counter\n",
        "\n",
        "            if guess < number_to_guess:\n",
        "                print(\"Too low! Try again.\")\n",
        "            elif guess > number_to_guess:\n",
        "                print(\"Too high! Try again.\")\n",
        "            else:\n",
        "                print(f\"Congratulations! You've guessed the number {number_to_guess} in {attempts} attempts.\")\n",
        "                break  # Exit the loop when the guess is correct\n",
        "\n",
        "        except ValueError:\n",
        "            print(\"Invalid input. Please enter a valid integer.\")\n",
        "\n",
        "if __name__ == '__main__':\n",
        "    guess_the_number()"
      ]
    },
    {
      "cell_type": "markdown",
      "source": [
        "##Problem Statement\n",
        "Write a program to print terms in the Fibonacci sequence up to a maximum value.\n",
        "\n",
        "In the 13th century, the Italian mathematician Leonardo Fibonacci, as a way to explain the geometric growth of a population of rabbits, devised a mathematical sequence that now bears his name. The first two terms in this sequence, Fib(0) and Fib(1), are 0 and 1, and every subsequent term is the sum of the preceding two. Thus, the first several terms in the Fibonacci sequence look like this:\n",
        "\n",
        "Fib(0) = 0 Fib(1) = 1 Fib(2) = 1 = 0 + 1 Fib(3) = 2 = 1 + 1 Fib(4) = 3 = 1 + 2 Fib(5) = 5 = 2 + 3\n",
        "\n",
        "Write a program that displays the terms in the Fibonacci sequence, starting with Fib(0) and continuing as long as the terms are less than 10,000 (you should store this value as a constant!). Thus, your program should produce the following sample run:\n",
        "\n",
        "0 1 1 2 3 5 8 13 21 34 55 89 144 233 377 610 987 1597 2584 4181 6765\n",
        "\n"
      ],
      "metadata": {
        "id": "vBSrwqAiJG0P"
      }
    },
    {
      "cell_type": "code",
      "source": [
        "from typing import List\n",
        "\n",
        "def print_fibonacci_sequence(max_value: int) -> None:\n",
        "    \"\"\"Prints the Fibonacci sequence up to a specified maximum value.\"\"\"\n",
        "    a: int = 0  # Starting value for Fib(0)\n",
        "    b: int = 1  # Starting value for Fib(1)\n",
        "    fibonacci_terms: List[int] = []  # List to store Fibonacci terms\n",
        "\n",
        "    while a < max_value:\n",
        "        fibonacci_terms.append(a)  # Add the current term to the list\n",
        "        a, b = b, a + b  # Update values for the next term\n",
        "\n",
        "    print(\" \".join(map(str, fibonacci_terms)))  # Print all terms in a single line\n",
        "\n",
        "if __name__ == '__main__':\n",
        "    MAX_FIB_VALUE: int = 10000  # Constant for the maximum Fibonacci value\n",
        "    print_fibonacci_sequence(MAX_FIB_VALUE)"
      ],
      "metadata": {
        "colab": {
          "base_uri": "https://localhost:8080/"
        },
        "id": "a8JBLvQ8GpoT",
        "outputId": "283115c9-ac5c-4161-b5d2-3d068def4c8e"
      },
      "execution_count": 3,
      "outputs": [
        {
          "output_type": "stream",
          "name": "stdout",
          "text": [
            "0 1 1 2 3 5 8 13 21 34 55 89 144 233 377 610 987 1597 2584 4181 6765\n"
          ]
        }
      ]
    },
    {
      "cell_type": "markdown",
      "source": [
        "##Problem Statement\n",
        "Write a program that prints the first 20 even numbers. There are several correct approaches, but they all use a loop of some sort. Do no write twenty print statements\n",
        "\n",
        "The first even number is 0:\n",
        "\n",
        "0 2 4 6 8 10 12 14 16 18 20 22 24 26 28 30 32 34 36 38\n",
        "\n"
      ],
      "metadata": {
        "id": "CM7M1nWCKYVX"
      }
    },
    {
      "cell_type": "code",
      "source": [
        "def print_even_numbers(count: int) -> None:\n",
        "    \"\"\"Prints the first 'count' even numbers.\"\"\"\n",
        "    even_numbers: List[int] = []  # List to store even numbers\n",
        "\n",
        "    for i in range(count):\n",
        "        even_number = i * 2  # Calculate the even number\n",
        "        even_numbers.append(even_number)  # Add it to the list\n",
        "\n",
        "    print(\" \".join(map(str, even_numbers)))  # Print all even numbers in a single line\n",
        "\n",
        "if __name__ == '__main__':\n",
        "    NUMBER_OF_EVEN_NUMBERS: int = 20  # Constant for the number of even numbers to print\n",
        "    print_even_numbers(NUMBER_OF_EVEN_NUMBERS)"
      ],
      "metadata": {
        "colab": {
          "base_uri": "https://localhost:8080/"
        },
        "id": "2ySNOe__GqRt",
        "outputId": "78424d6e-2d3b-4ce8-b99d-031dab5bfe88"
      },
      "execution_count": 4,
      "outputs": [
        {
          "output_type": "stream",
          "name": "stdout",
          "text": [
            "0 2 4 6 8 10 12 14 16 18 20 22 24 26 28 30 32 34 36 38\n"
          ]
        }
      ]
    },
    {
      "cell_type": "markdown",
      "source": [
        "##Problem Statement\n",
        "Write a program which prompts the user to type an affirmation of your choice (we'll use \"I am capable of doing anything I put my mind to.\") until they type it correctly. Sometimes, especially in the midst of such uncertain times, we just need to be reminded that we are resilient, capable, and strong; this little Python program may be able to help!\n",
        "\n",
        "Here's a sample run of the program (user input is in blue):\n",
        "\n",
        "Please type the following affirmation: I am capable of doing anything I put my mind to. Hmmm That was not the affirmation. Please type the following affirmation: I am capable of doing anything I put my mind to. I am capable of doing anything I put my mind to. That's right! :)\n",
        "\n",
        "Note that you can call input() with no prompt and it will still wait for a user to type something!"
      ],
      "metadata": {
        "id": "8MwWPKJNLwbN"
      }
    },
    {
      "cell_type": "code",
      "source": [
        "def main() -> None:\n",
        "    \"\"\"Main function to prompt the user for an affirmation.\"\"\"\n",
        "    affirmation: str = \"I am capable of doing anything I put my mind to.\"  # The affirmation to be typed\n",
        "    user_input: str = \"\"  # Variable to store user input\n",
        "\n",
        "    while user_input != affirmation:\n",
        "        user_input = input(f\"Please type the following affirmation: {affirmation} \")  # Prompt for user input\n",
        "        if user_input != affirmation:\n",
        "            print(\"Hmmm That was not the affirmation.\")  # Feedback for incorrect input\n",
        "\n",
        "    print(\"That's right! :)\")  # Confirmation for correct input\n",
        "\n",
        "# This provided line is required at the end of\n",
        "# Python file to call the main() function.\n",
        "if __name__ == '__main__':\n",
        "    main()"
      ],
      "metadata": {
        "colab": {
          "base_uri": "https://localhost:8080/"
        },
        "id": "Z-dOFwuNGqvp",
        "outputId": "c0618e6c-77c3-46df-e0a5-73ac5556ed6d"
      },
      "execution_count": 6,
      "outputs": [
        {
          "output_type": "stream",
          "name": "stdout",
          "text": [
            "Please type the following affirmation: I am capable of doing anything I put my mind to.  I am capable of doing anything I put my mind to.\n",
            "Hmmm That was not the affirmation.\n",
            "Please type the following affirmation: I am capable of doing anything I put my mind to. I am capable of doing anything I put my mind to.\n",
            "That's right! :)\n"
          ]
        }
      ]
    },
    {
      "cell_type": "markdown",
      "source": [
        "##Problem Statement\n",
        "Write a program that prints out the calls for a spaceship that is about to launch. Countdown from 10 to 1 and then output Liftoff!\n",
        "\n",
        "Here's a sample run of the program:\n",
        "\n",
        "10 9 8 7 6 5 4 3 2 1 Liftoff!\n",
        "\n",
        "There are many ways to solve this problem. One approach is to use a for loop, and to use the for loop variable i. Recall that i will keep track of how many times the for loop has completed executing its body. As an example this code:\n",
        "\n",
        "for i in range(10): print(i)\n",
        "\n",
        "Will print out the values 0, 1, 2, 3, 4, 5, 6, 7, 8, 9. The values printed in liftoff are 10 minus the number of times the for loop has completed."
      ],
      "metadata": {
        "id": "U2aHB3cIMoZP"
      }
    },
    {
      "cell_type": "code",
      "source": [
        "def countdown() -> None:\n",
        "    \"\"\"Prints a countdown from 10 to 1 followed by 'Liftoff!'.\"\"\"\n",
        "    countdown_numbers: List[int] = []  # List to store countdown numbers\n",
        "\n",
        "    for i in range(10, 0, -1):  # Loop from 10 to 1\n",
        "        countdown_numbers.append(i)  # Add the current number to the list\n",
        "\n",
        "    print(\" \".join(map(str, countdown_numbers)), \"Liftoff!\")  # Print countdown and liftoff message\n",
        "\n",
        "if __name__ == '__main__':\n",
        "    countdown()\n",
        ""
      ],
      "metadata": {
        "colab": {
          "base_uri": "https://localhost:8080/"
        },
        "id": "Eyb0wQRpGq54",
        "outputId": "9f5ead47-1b2c-4cf2-92e8-6e1fbb7a7b62"
      },
      "execution_count": 10,
      "outputs": [
        {
          "output_type": "stream",
          "name": "stdout",
          "text": [
            "10 9 8 7 6 5 4 3 2 1 Liftoff!\n"
          ]
        }
      ]
    },
    {
      "cell_type": "markdown",
      "source": [
        "##Problem Statement\n",
        "Write a program that asks a user to enter a number. Your program will then double that number and print out the result. It will repeat that process until the value is 100 or greater.\n",
        "\n",
        "For example if the user enters the number 2 you would then print:\n",
        "\n",
        "4 8 16 32 64 128\n",
        "\n",
        "Note that:\n",
        "\n",
        "2 doubled is 4\n",
        "\n",
        "4 doubled is 8\n",
        "\n",
        "8 doubled is 16\n",
        "\n",
        "and so on.\n",
        "\n",
        "We stop at 128 because that value is greater than 100.\n",
        "\n",
        "Maintain the current number in a variable named curr_value. When you double the number, you should be updating curr_value. Recall that you can double the value of curr_value using a line like:\n",
        "\n",
        "curr_value = curr_value * 2\n",
        "\n",
        "This program should have a while loop and the while loop condition should test if curr_value is less than 100. Thus, your program will have the line:\n",
        "\n",
        "while curr_value < 100:"
      ],
      "metadata": {
        "id": "XFkU_H2sNkNi"
      }
    },
    {
      "cell_type": "code",
      "source": [
        "def double_until_threshold() -> None:\n",
        "    \"\"\"Doubles a number until it reaches 100 or greater.\"\"\"\n",
        "    curr_value: int = int(input(\"Enter a number: \"))  # Get user input and convert to integer\n",
        "\n",
        "    while curr_value <= 100:  # Continue doubling while curr_value is less than 100\n",
        "        curr_value *= 2  # Double the current value\n",
        "        print(curr_value, end=\" \")  # Print the current value followed by a space\n",
        "\n",
        "if __name__ == '__main__':\n",
        "    double_until_threshold()\n",
        ""
      ],
      "metadata": {
        "colab": {
          "base_uri": "https://localhost:8080/"
        },
        "id": "4ANQamy2GrEX",
        "outputId": "e82ab9bf-8e2c-4afc-e30c-66bd601b8dbb"
      },
      "execution_count": 22,
      "outputs": [
        {
          "output_type": "stream",
          "name": "stdout",
          "text": [
            "Enter a number: 100\n",
            "200 "
          ]
        }
      ]
    }
  ]
}
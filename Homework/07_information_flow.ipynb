{
  "nbformat": 4,
  "nbformat_minor": 0,
  "metadata": {
    "colab": {
      "provenance": [],
      "authorship_tag": "ABX9TyMtBJogL/FUXBMn84G9MiEA"
    },
    "kernelspec": {
      "name": "python3",
      "display_name": "Python 3"
    },
    "language_info": {
      "name": "python"
    }
  },
  "cells": [
    {
      "cell_type": "markdown",
      "source": [
        "## Problem Statement\n",
        "There are times where we want to return different things from a function based on some condition. To practice this idea, imagine that we want to check if someone is an adult. We might check their age and return different things depending on how old they are!\n",
        "\n",
        "We've provided you with the ADULT_AGE variable which has the age a person is legally classified as an adult (in the United States). Fill out the is_adult(age) function, which returns True if the function takes an age that is greater than or equal to ADULT_AGE. If the function takes an age less than ADULT_AGE, return False instead.\n",
        "\n",
        "Here are two sample runs of the program, one for each return option (user input in bold italics):\n",
        "\n",
        "(Entered age is an adult age)\n",
        "\n",
        "How old is this person?: 35\n",
        "\n",
        "True\n",
        "\n",
        "(Entered age is not an adult age)\n",
        "\n",
        "How old is this person?: 7\n",
        "\n",
        "Fals"
      ],
      "metadata": {
        "id": "nS2IMoTGoFmB"
      }
    },
    {
      "cell_type": "code",
      "execution_count": 2,
      "metadata": {
        "colab": {
          "base_uri": "https://localhost:8080/"
        },
        "id": "kyZtnWh1nWoX",
        "outputId": "b7aef5e8-5da2-4ba5-c844-64a9ef9006fe"
      },
      "outputs": [
        {
          "output_type": "stream",
          "name": "stdout",
          "text": [
            "How old is this person?: e\n",
            "Please enter a valid integer for age.\n",
            "How old is this person?: 3\n",
            "False\n"
          ]
        }
      ],
      "source": [
        "# Constant representing the age at which a person is considered an adult\n",
        "ADULT_AGE: int = 18\n",
        "\n",
        "def is_adult(age: int) -> bool:\n",
        "    \"\"\"\n",
        "    Determine if a person is an adult based on their age.\n",
        "\n",
        "    Args:\n",
        "        age (int): The age of the person to check.\n",
        "\n",
        "    Returns:\n",
        "        bool: True if the age is greater than or equal to ADULT_AGE, False otherwise.\n",
        "    \"\"\"\n",
        "    # Check if the provided age is greater than or equal to the adult age\n",
        "    return age >= ADULT_AGE\n",
        "\n",
        "def main():\n",
        "    while True:\n",
        "        try:\n",
        "            # Prompt the user for their age\n",
        "            age_input: str = input(\"How old is this person?: \")\n",
        "\n",
        "            # Convert the input to an integer\n",
        "            age: int = int(age_input)\n",
        "\n",
        "            # Check if the age is a valid positive number\n",
        "            if age < 0:\n",
        "                print(\"Please enter a valid positive integer for age.\")\n",
        "                continue  # Prompt again if the age is negative\n",
        "\n",
        "            # Check if the person is an adult and print the result\n",
        "            result: bool = is_adult(age)\n",
        "            print(result)\n",
        "            break  # Exit the loop if input is valid\n",
        "\n",
        "        except ValueError:\n",
        "            # Handle the case where the input is not a valid integer\n",
        "            print(\"Please enter a valid integer for age.\")\n",
        "\n",
        "# This provided line is required at the end of\n",
        "# Python file to call the main() function.\n",
        "if __name__ == '__main__':\n",
        "    main()"
      ]
    },
    {
      "cell_type": "markdown",
      "source": [
        "## Problem Statement\n",
        "We've written a helper function for you called greet(name) which takes as input a string name and prints a greeting. Write some code in main() to get the user's name and then greet them, being sure to call the greet(name) helper function.\n",
        "\n",
        "Here's a sample run of the program (user input in bold italics):\n",
        "\n",
        "What's your name? Sophia\n",
        "\n",
        "Greetings Sophia!"
      ],
      "metadata": {
        "id": "RJcYlkqsphDl"
      }
    },
    {
      "cell_type": "code",
      "source": [
        "def greet(name: str) -> None:\n",
        "    \"\"\"\n",
        "    Print a greeting message to the user.\n",
        "\n",
        "    Args:\n",
        "        name (str): The name of the person to greet.\n",
        "    \"\"\"\n",
        "    print(f\"Greetings {name}!\")\n",
        "\n",
        "def main():\n",
        "    # Prompt the user for their name\n",
        "    name: str = input(\"What's your name? \")\n",
        "\n",
        "    # Call the greet function with the user's name\n",
        "    greet(name)\n",
        "\n",
        "# This provided line is required at the end of\n",
        "# Python file to call the main() function.\n",
        "if __name__ == '__main__':\n",
        "    main()"
      ],
      "metadata": {
        "colab": {
          "base_uri": "https://localhost:8080/"
        },
        "id": "xvj_dwSonvCj",
        "outputId": "e5092f98-e7a4-41fa-e683-306f988b7e3a"
      },
      "execution_count": 3,
      "outputs": [
        {
          "output_type": "stream",
          "name": "stdout",
          "text": [
            "What's your name? Sam\n",
            "Greetings Sam!\n"
          ]
        }
      ]
    },
    {
      "cell_type": "markdown",
      "source": [
        "#Problem Statement\n",
        "Implement the following function which takes in 3 integers as parameters:\n",
        "\n",
        "def in_range(n, low, high) \"\"\" Returns True if n is between low and high, inclusive. high is guaranteed to be greater than low. \"\"\"\n"
      ],
      "metadata": {
        "id": "8Dqxf7D1qC4G"
      }
    },
    {
      "cell_type": "code",
      "source": [
        "def in_range(n: int, low: int, high: int) -> bool:\n",
        "    \"\"\"\n",
        "    Returns True if n is between low and high, inclusive.\n",
        "\n",
        "    Args:\n",
        "        n (int): The number to check.\n",
        "        low (int): The lower bound of the range.\n",
        "        high (int): The upper bound of the range. Guaranteed to be greater than low.\n",
        "\n",
        "    Returns:\n",
        "        bool: True if n is within the range [low, high], False otherwise.\n",
        "    \"\"\"\n",
        "    # Check if n is greater than or equal to low and less than or equal to high\n",
        "    return      (low <= n) and (n <= high)\n",
        "\n",
        "def main():\n",
        "    while True:\n",
        "        try:\n",
        "            # Get user input for the number and the range\n",
        "            n: int = int(input(\"Enter a number to check: \"))\n",
        "            low: int = int(input(\"Enter the lower bound: \"))\n",
        "            high: int = int(input(\"Enter the upper bound: \"))\n",
        "\n",
        "            # Check if the upper bound is greater than the lower bound\n",
        "            if high <= low:\n",
        "                print(\"Error: The upper bound must be greater than the lower bound. Please try again.\")\n",
        "                continue  # Prompt again if the condition is not met\n",
        "\n",
        "            # Check if the number is in the specified range and print the result\n",
        "            result: bool = in_range(n, low, high)\n",
        "            print(f\"s {n} in range [{low}, {high}]? {result}\")\n",
        "            break  # Exit the loop if input is valid\n",
        "\n",
        "        except ValueError:\n",
        "            # Handle the case where the input is not a valid integer\n",
        "            print(\"Please enter valid integers for the number and bounds.\")\n",
        "\n",
        "# This provided line is required at the end of\n",
        "# Python file to call the main() function.\n",
        "if __name__ == '__main__':\n",
        "    main()"
      ],
      "metadata": {
        "colab": {
          "base_uri": "https://localhost:8080/"
        },
        "id": "ImeuBAkXnyxO",
        "outputId": "ac247f74-df34-49c3-eb25-ad2c729798f0"
      },
      "execution_count": 7,
      "outputs": [
        {
          "output_type": "stream",
          "name": "stdout",
          "text": [
            "Enter a number to check: -4\n",
            "Enter the lower bound: 0\n",
            "Enter the upper bound: 10\n",
            "s -4 in range [0, 10]? False\n"
          ]
        }
      ]
    },
    {
      "cell_type": "markdown",
      "source": [
        "## Problem Statement\n",
        "Sophia has a fruit store. She has written a function num_in_stock which takes a string fruit as a parameter and returns how many of that fruit are in her inventory. Write code in main() which will:\n",
        "\n",
        "Prompt the user to enter a fruit (\"Enter a fruit: \")\n",
        "\n",
        "Call num_in_stock(fruit) to get the number of that fruit that Sophia has in stock\n",
        "\n",
        "Print the number which are in stock if Sophia has that fruit in her inventory (there are more than 0 in stock)\n",
        "\n",
        "Print \"This fruit is not in stock.\" if Sophia has none of that fruit in her inventory.\n",
        "\n",
        "Here's two sample runs of the program (user input in bold italics):\n",
        "\n",
        "Enter a fruit: pear\n",
        "\n",
        "This fruit is in stock! Here is how many:\n",
        "\n",
        "1000\n",
        "\n",
        "Enter a fruit: lychee\n",
        "\n",
        "This fruit is not in stock.\n",
        "\n"
      ],
      "metadata": {
        "id": "6EGvRMWHuaFp"
      }
    },
    {
      "cell_type": "code",
      "source": [
        "# Sample inventory for Sophia's fruit store\n",
        "inventory = {\n",
        "    \"apple\": 50,\n",
        "    \"banana\": 30,\n",
        "    \"pear\": 1000,\n",
        "    \"orange\": 0,\n",
        "    \"grape\": 200\n",
        "}\n",
        "\n",
        "def num_in_stock(fruit: str) -> int:\n",
        "    \"\"\"\n",
        "    Returns the number of a specific fruit in stock.\n",
        "\n",
        "    Args:\n",
        "        fruit (str): The name of the fruit to check.\n",
        "\n",
        "    Returns:\n",
        "        int: The number of that fruit in stock. Returns 0 if the fruit is not found.\n",
        "    \"\"\"\n",
        "    # Return the number of fruit in stock, defaulting to 0 if not found\n",
        "    return inventory.get(fruit.lower(), 0)\n",
        "\n",
        "def main():\n",
        "    # Print all available fruit items in stock\n",
        "    print(\"Available fruit items in stock:\")\n",
        "    print(f\"{'-'*30}\")\n",
        "    for item in inventory.keys():\n",
        "        print(f\"{item.capitalize()}\")\n",
        "\n",
        "    # Prompt the user to enter a fruit\n",
        "    fruit: str = input(\"\\nEnter a fruit: \")\n",
        "\n",
        "    # Get the number of that fruit in stock\n",
        "    count: int = num_in_stock(fruit)\n",
        "\n",
        "    # Check if the fruit is in stock and print the appropriate message\n",
        "    if count > 0:\n",
        "        print(\"This fruit is in stock! Here is how many:\")\n",
        "        print(count)\n",
        "    else:\n",
        "        print(\"This fruit is not in stock.\")\n",
        "\n",
        "# This provided line is required at the end of\n",
        "# Python file to call the main() function.\n",
        "if __name__ == '__main__':\n",
        "    main()"
      ],
      "metadata": {
        "colab": {
          "base_uri": "https://localhost:8080/"
        },
        "id": "jS00QEG3nzSu",
        "outputId": "f1d61014-25d6-4193-dea8-d2469a0c0f71"
      },
      "execution_count": 18,
      "outputs": [
        {
          "output_type": "stream",
          "name": "stdout",
          "text": [
            "Available fruit items in stock:\n",
            "------------------------------\n",
            "Apple\n",
            "Banana\n",
            "Pear\n",
            "Orange\n",
            "Grape\n",
            "\n",
            "Enter a fruit: pEaR\n",
            "This fruit is in stock! Here is how many:\n",
            "1000\n"
          ]
        }
      ]
    },
    {
      "cell_type": "markdown",
      "source": [
        "## Problem Statement\n",
        "There are times where you are working with lots of different data within a function that you want to return. While generally, we want to keep functions to have a precise purpose, sometimes that purpose just deals with multiple bits of data.\n",
        "\n",
        "To practice this, imagine we are working on a program where the user needs to enters data to sign up for a website. Fill out the get_user_data() function which:\n",
        "\n",
        "Asks the user for their first name and stores it in a variable\n",
        "\n",
        "Asks the user for their last name and stores it in a variable\n",
        "\n",
        "Asks the user for their email address and stores it in a variable\n",
        "\n",
        "Returns all three of these pieces of data in the order it was asked\n",
        "\n",
        "You can return multiple pieces of data by separating each piece with a comma in the return line.\n",
        "\n",
        "Here is an example run of the program:\n",
        "\n",
        "What is your first name?: Jane\n",
        "\n",
        "What is your last name?: Stanford\n",
        "\n",
        "What is your email address?: janestanford@stanford.edu\n",
        "\n",
        "Received the following user data: ('Jane', 'Stanford', 'janestanford@stanford.edu')\n",
        "\n",
        "(Note. This idea is called tuple packing/unpacking. We \"pack\" our return values into a single data structure called a tuple. We can then \"unpack\" these values back into our original values or leave them as a tuple.)"
      ],
      "metadata": {
        "id": "rX-EGd70xW1J"
      }
    },
    {
      "cell_type": "code",
      "source": [
        "def get_user_data() -> tuple:\n",
        "    \"\"\"\n",
        "    Prompts the user for their first name, last name, and email address.\n",
        "\n",
        "    Returns:\n",
        "        tuple: A tuple containing the first name, last name, and email address.\n",
        "    \"\"\"\n",
        "    # Ask the user for their first name\n",
        "    first_name: str = input(\"What is your first name?: \")\n",
        "\n",
        "    # Ask the user for their last name\n",
        "    last_name: str = input(\"What is your last name?: \")\n",
        "\n",
        "    # Ask the user for their email address\n",
        "    email: str = input(\"What is your email address?: \")\n",
        "\n",
        "    # Return the collected data as a tuple\n",
        "    return first_name, last_name, email\n",
        "\n",
        "def main():\n",
        "    # Get user data\n",
        "    user_data = get_user_data()\n",
        "\n",
        "    # Print the received user data\n",
        "    print(f\"Received the following user data: {user_data}\")\n",
        "\n",
        "# This provided line is required at the end of\n",
        "# Python file to call the main() function.\n",
        "if __name__ == '__main__':\n",
        "    main()"
      ],
      "metadata": {
        "colab": {
          "base_uri": "https://localhost:8080/"
        },
        "id": "Epnf9-bhw8Vu",
        "outputId": "6ede4923-8439-483f-cebe-4a1f39da9aa0"
      },
      "execution_count": 19,
      "outputs": [
        {
          "output_type": "stream",
          "name": "stdout",
          "text": [
            "What is your first name?: a\n",
            "What is your last name?: b\n",
            "What is your email address?: c\n",
            "Received the following user data: ('a', 'b', 'c')\n"
          ]
        }
      ]
    },
    {
      "cell_type": "markdown",
      "source": [
        "## Problem Statement\n",
        "Fill out the subtract_seven helper function to subtract 7 from num, and fill out the main() method to call the subtract_seven helper function"
      ],
      "metadata": {
        "id": "fL2s-5btxvOL"
      }
    },
    {
      "cell_type": "code",
      "source": [
        "def subtract_seven(num: int) -> int:\n",
        "    \"\"\"\n",
        "    Subtracts 7 from the given number.\n",
        "\n",
        "    Args:\n",
        "        num (int): The number from which 7 will be subtracted.\n",
        "\n",
        "    Returns:\n",
        "        int: The result of num minus 7.\n",
        "    \"\"\"\n",
        "    return num - 7\n",
        "\n",
        "def main():\n",
        "    # Prompt the user for a number\n",
        "    user_input: str = input(\"Enter a number: \")\n",
        "\n",
        "    try:\n",
        "        # Convert the input to an integer\n",
        "        number: int = int(user_input)\n",
        "\n",
        "        # Call the subtract_seven function\n",
        "        result: int = subtract_seven(number)\n",
        "\n",
        "        # Print the result\n",
        "        print(f\"The result of subtracting 7 from {number} is: {result}\")\n",
        "\n",
        "    except ValueError:\n",
        "        # Handle the case where the input is not a valid integer\n",
        "        print(\"Please enter a valid integer.\")\n",
        "\n",
        "# This provided line is required at the end of\n",
        "# Python file to call the main() function.\n",
        "if __name__ == '__main__':\n",
        "    main()"
      ],
      "metadata": {
        "colab": {
          "base_uri": "https://localhost:8080/"
        },
        "id": "6gXw1I2px9ZJ",
        "outputId": "7baac474-d6c6-497e-8c48-18b19a9d347d"
      },
      "execution_count": 20,
      "outputs": [
        {
          "output_type": "stream",
          "name": "stdout",
          "text": [
            "Enter a number: 7\n",
            "The result of subtracting 7 from 7 is: 0\n"
          ]
        }
      ]
    },
    {
      "cell_type": "code",
      "source": [],
      "metadata": {
        "id": "n2hCJkSkxuSH"
      },
      "execution_count": null,
      "outputs": []
    }
  ]
}
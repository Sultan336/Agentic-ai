{
  "nbformat": 4,
  "nbformat_minor": 0,
  "metadata": {
    "colab": {
      "provenance": [],
      "authorship_tag": "ABX9TyMDpscugjAdASvGhUz/NRjE"
    },
    "kernelspec": {
      "name": "python3",
      "display_name": "Python 3"
    },
    "language_info": {
      "name": "python"
    }
  },
  "cells": [
    {
      "cell_type": "markdown",
      "source": [
        "## 01_Problem Statement\n",
        "\n",
        "Simulate rolling two dice, three times.  Prints the results of each die roll.  This program is used to show how variable scope works."
      ],
      "metadata": {
        "id": "vjmHy_GCUfaF"
      }
    },
    {
      "cell_type": "code",
      "execution_count": 1,
      "metadata": {
        "colab": {
          "base_uri": "https://localhost:8080/"
        },
        "id": "YMQro_3xUPl4",
        "outputId": "81e049c9-0d20-4cde-965d-f18bd0e6a9f4"
      },
      "outputs": [
        {
          "output_type": "stream",
          "name": "stdout",
          "text": [
            "🎲 Roll 1:\n",
            "   Die 1: 4\n",
            "   Die 2: 5\n",
            "   Sum: 9\n",
            "\n",
            "🎲 Roll 2:\n",
            "   Die 1: 2\n",
            "   Die 2: 1\n",
            "   Sum: 3\n",
            "\n",
            "🎲 Roll 3:\n",
            "   Die 1: 1\n",
            "   Die 2: 6\n",
            "   Sum: 7\n",
            "\n"
          ]
        }
      ],
      "source": [
        "from typing import Tuple\n",
        "import random\n",
        "\n",
        "def roll_dice() -> Tuple[int, int]:\n",
        "    \"\"\"\n",
        "    Simulates rolling two six-sided dice.\n",
        "\n",
        "    Returns:\n",
        "        Tuple[int, int]: A tuple containing two integers representing\n",
        "        the values of the two dice (die1, die2), each between 1 and 6.\n",
        "\n",
        "    Example:\n",
        "        >>> result1, result2 = roll_dice()\n",
        "        >>> print(result1, result2)\n",
        "        3 6\n",
        "    \"\"\"\n",
        "    # Generate random numbers between 1 and 6 for each die\n",
        "    die1: int = random.randint(1, 6)  # First die roll\n",
        "    die2: int = random.randint(1, 6)  # Second die roll\n",
        "    return die1, die2\n",
        "\n",
        "def main():\n",
        "    \"\"\"\n",
        "    Main function that demonstrates variable scope by rolling two dice three times.\n",
        "    Variables within this function are only accessible inside its scope.\n",
        "    \"\"\"\n",
        "    # Demonstration of variable scope:\n",
        "    # roll_number is a loop variable (local scope)\n",
        "    # result1 and result2 are also local variables within the loop\n",
        "    for roll_number in range(1, 4):\n",
        "        # Each iteration creates new result1 and result2 variables\n",
        "        result1, result2 = roll_dice()\n",
        "\n",
        "        # Using f-strings for formatted output\n",
        "        print(f\"🎲 Roll {roll_number}:\")\n",
        "        print(f\"   Die 1: {result1}\")\n",
        "        print(f\"   Die 2: {result2}\")\n",
        "        print(f\"   Sum: {result1 + result2}\")\n",
        "        print()  # Empty line for better readability\n",
        "\n",
        "    # Note: After the loop ends, roll_number, result1, and result2\n",
        "    # are no longer accessible (demonstrating variable scope)\n",
        "\n",
        "# This provided line is required at the end of\n",
        "# Python file to call the main() function.\n",
        "if __name__ == '__main__':\n",
        "    main()\n",
        "\n",
        "\n"
      ]
    },
    {
      "cell_type": "markdown",
      "source": [
        "## 02_Problem Statement\n",
        "\n",
        "Write a program that continually reads in mass from the user and then outputs the equivalent energy using Einstein's mass-energy equivalence formula (E stands for energy, m stands for mass, and C is the speed of light:\n",
        "\n",
        "E = m * c**2\n",
        "\n",
        "Almost 100 years ago, Albert Einstein famously discovered that mass and energy are interchangeable and are related by the above equation. You should ask the user for mass (m) in kilograms and use a constant value for the speed of light -- C = 299792458 m/s.\n",
        "\n",
        "Here's a sample run of the program (user input is in bold italics):\n",
        "\n",
        "Enter kilos of mass: 100\n",
        "\n",
        "e = m * C^2...\n",
        "\n",
        "m = 100.0 kg\n",
        "\n",
        "C = 299792458 m/s\n",
        "\n",
        "8.987551787368176e+18 joules of energy!"
      ],
      "metadata": {
        "id": "PU0AG6HWdIqY"
      }
    },
    {
      "cell_type": "code",
      "source": [
        "def main():\n",
        "    \"\"\"\n",
        "    Einstein's Energy Calculator\n",
        "\n",
        "    A program that calculates the energy equivalent of mass using Einstein's famous\n",
        "    equation E = mc². This demonstrates the profound relationship between mass and\n",
        "    energy in special relativity.\n",
        "\n",
        "    The program handles user input gracefully and continues until interrupted.\n",
        "    \"\"\"\n",
        "    # The cosmic speed limit! Light's velocity in vacuum (m/s)\n",
        "    # Fun fact: Light could circle Earth about 7.5 times in just one second!\n",
        "    C: float = 299_792_458.0  # Using underscore separator for readability\n",
        "\n",
        "    while True:\n",
        "        try:\n",
        "            # Prompt user for mass input - theoretically, even a grain of sand\n",
        "            # contains enormous energy!\n",
        "            mass: float = float(input(\"Enter kilos of mass: \"))\n",
        "\n",
        "            # Add validation for negative values\n",
        "            if mass < 0:\n",
        "                print(\"\\nMass cannot be negative! Please enter a positive number.\")\n",
        "                continue\n",
        "\n",
        "            # Display the famous equation and input values\n",
        "            print(\"\\ne = m * C^2...\")  # The equation that changed physics forever\n",
        "            print(f\"\\nm = {mass:,.3f} kg\")  # Format with comma separators\n",
        "            print(f\"\\nC = {C:,} m/s\")\n",
        "\n",
        "            # The magical moment: converting mass to pure energy\n",
        "            # Even a paperclip has enough energy to power a city!\n",
        "            energy: float = mass * (C ** 2)\n",
        "\n",
        "            print(f\"\\n{energy:,.2f} joules of energy!\")  # Scientific notation avoided for readability\n",
        "\n",
        "        except ValueError:\n",
        "            print(\"\\nPlease enter a valid number for mass\")\n",
        "        except KeyboardInterrupt:\n",
        "            print(\"\\nThank you for exploring the nature of mass-energy equivalence!\")\n",
        "            break\n",
        "\n",
        "if __name__ == '__main__':\n",
        "    main()"
      ],
      "metadata": {
        "colab": {
          "base_uri": "https://localhost:8080/"
        },
        "id": "kO4GRk9ZefKs",
        "outputId": "d236ee04-0070-41ac-f1e9-6fac8bdc75d3"
      },
      "execution_count": 3,
      "outputs": [
        {
          "name": "stdout",
          "output_type": "stream",
          "text": [
            "Enter kilos of mass: 0.0000000000000005\n",
            "\n",
            "e = m * C^2...\n",
            "\n",
            "m = 0.000 kg\n",
            "\n",
            "C = 299,792,458.0 m/s\n",
            "\n",
            "44.94 joules of energy!\n",
            "\n",
            "Thank you for exploring the nature of mass-energy equivalence!\n",
            "Enter kilos of mass: s\n"
          ]
        }
      ]
    },
    {
      "cell_type": "markdown",
      "source": [
        "## Problem Statement\n",
        "\n",
        "Converts feet to inches. Feet is an American unit of measurement. There are 12 inches per foot. Foot is the singular, and feet is the plural.\n"
      ],
      "metadata": {
        "id": "9LASj1BP1RBz"
      }
    },
    {
      "cell_type": "code",
      "source": [
        "def feet_to_inches(feet: float) -> float:\n",
        "    \"\"\"\n",
        "    Convert feet to inches.\n",
        "\n",
        "    Args:\n",
        "        feet (float): Length in feet to convert\n",
        "\n",
        "    Returns:\n",
        "        float: Length in inches\n",
        "\n",
        "    Examples:\n",
        "        >>> feet_to_inches(1)  # Convert 1 foot\n",
        "        12.0\n",
        "        >>> feet_to_inches(2.5)  # Convert 2.5 feet\n",
        "        30.0\n",
        "    \"\"\"\n",
        "    # Define conversion factor: 12 inches per foot\n",
        "    INCHES_PER_FOOT: float = 12.0\n",
        "\n",
        "    # Multiply feet by conversion factor to get inches\n",
        "    inches: float = feet * INCHES_PER_FOOT\n",
        "\n",
        "    return inches\n",
        "\n",
        "def main():\n",
        "    # Get user input\n",
        "    try:\n",
        "        feet: float = float(input(\"Enter length in feet: \"))\n",
        "\n",
        "        # Convert feet to inches\n",
        "        inches: float = feet_to_inches(feet)\n",
        "\n",
        "        # Format output message with proper singular/plural form\n",
        "        foot_word: str = 'foot' if feet == 1 else 'feet'\n",
        "        print(f\"{feet} {foot_word} = {inches} inches\")\n",
        "\n",
        "    except ValueError:\n",
        "        print(\"Please enter a valid number!\")\n",
        "\n",
        "# This provided line is required at the end of\n",
        "# Python file to call the main() function.\n",
        "if __name__ == '__main__':\n",
        "    main()\n",
        "\n"
      ],
      "metadata": {
        "colab": {
          "base_uri": "https://localhost:8080/"
        },
        "id": "8myLqQIP1Soj",
        "outputId": "d3337882-d011-49af-e076-25809107b44d"
      },
      "execution_count": 5,
      "outputs": [
        {
          "output_type": "stream",
          "name": "stdout",
          "text": [
            "Enter length in feet: 3\n",
            "3.0 feet = 36.0 inches\n"
          ]
        }
      ]
    },
    {
      "cell_type": "markdown",
      "source": [
        "## Problem Statement\n",
        "\n",
        "Write a program that asks the user for the lengths of the two perpendicular sides of a right triangle and outputs the length of the third side (the hypotenuse) using the Pythagorean theorem!\n",
        "\n",
        "The Pythagorean theorem, named after the ancient Greek thinker, Pythagoras, is a fundamental relation in geometry. It states that in a right triangle, the square of the hypotenuse is equal to the sum of the square of the other two sides.\n",
        "\n",
        "For instance, let's consider a right triangle ABC, with the right angle located at C. According to the Pythagorean theorem:\n",
        "\n",
        "BC ** 2 = AB ** 2 + AC ** 2\n",
        "\n",
        "Your code should read in the lengths of the sides AB and AC, and that outputs the length of the hypotenuse (BC). You will probably find math.sqrt() to be useful.\n",
        "\n",
        "Here's a sample run of the program (user input is in bold italics):\n",
        "\n",
        "Enter the length of AB: 3\n",
        "\n",
        "Enter the length of AC: 4\n",
        "\n",
        "The length of BC (the hypotenuse) is: 5.0\n"
      ],
      "metadata": {
        "id": "l4bt8hnqAO61"
      }
    },
    {
      "cell_type": "code",
      "source": [
        "def main():\n",
        "    \"\"\"\n",
        "    A program that calculates the hypotenuse of a right triangle\n",
        "    using the Pythagorean theorem (a² + b² = c²).\n",
        "\n",
        "    The program prompts the user for two sides of a right triangle\n",
        "    and calculates the third side (hypotenuse).\n",
        "    \"\"\"\n",
        "    import math  # Import math module for square root function\n",
        "\n",
        "    def calculate_hypotenuse(side_a: float, side_b: float) -> float:\n",
        "        \"\"\"\n",
        "        Calculate the hypotenuse using the Pythagorean theorem.\n",
        "\n",
        "        Args:\n",
        "            side_a (float): Length of the first perpendicular side\n",
        "            side_b (float): Length of the second perpendicular side\n",
        "\n",
        "        Returns:\n",
        "            float: Length of the hypotenuse\n",
        "        \"\"\"\n",
        "        return math.sqrt(side_a ** 2 + side_b ** 2)\n",
        "\n",
        "    # Store triangle side names in a tuple for clarity\n",
        "    sides = ('A', 'B', 'C')\n",
        "\n",
        "    try:\n",
        "        # Get input from user with error checking\n",
        "        print(\"\\n🔺 Right Triangle Hypotenuse Calculator 🔺\")\n",
        "        print(\"-------------------------------------------\")\n",
        "\n",
        "        # Get the lengths of the two perpendicular sides\n",
        "        side_a = float(input(f\"\\nEnter the length of {sides[0]}: \"))\n",
        "        side_b = float(input(f\"Enter the length of {sides[1]}: \"))\n",
        "\n",
        "        # Validate input: sides must be positive\n",
        "        if side_a <= 0 or side_b <= 0:\n",
        "            print(\"\\n❌ Error: Side lengths must be positive numbers!\")\n",
        "            return\n",
        "\n",
        "        # Calculate the hypotenuse\n",
        "        hypotenuse = calculate_hypotenuse(side_a, side_b)\n",
        "\n",
        "        # Display the result with nice formatting\n",
        "        print(f\"\\nThe length of {sides[2]} (the hypotenuse) is: {hypotenuse:.2f}\")\n",
        "\n",
        "        # Add a fun fact about the triangle\n",
        "        if hypotenuse.is_integer():\n",
        "            print(\"\\n✨ Fun fact: You found a Pythagorean triple!\")\n",
        "\n",
        "    except ValueError:\n",
        "        print(\"\\n❌ Error: Please enter valid numbers for the side lengths!\")\n",
        "\n",
        "\n",
        "# This provided line is required at the end of\n",
        "# Python file to call the main() function.\n",
        "if __name__ == '__main__':\n",
        "    main()"
      ],
      "metadata": {
        "colab": {
          "base_uri": "https://localhost:8080/"
        },
        "id": "C590AMOMAQqU",
        "outputId": "e4678194-ca85-4eb1-94d4-c1184ae49cbf"
      },
      "execution_count": 8,
      "outputs": [
        {
          "output_type": "stream",
          "name": "stdout",
          "text": [
            "\n",
            "🔺 Right Triangle Hypotenuse Calculator 🔺\n",
            "-------------------------------------------\n",
            "\n",
            "Enter the length of A: 3\n",
            "Enter the length of B: 2\n",
            "\n",
            "The length of C (the hypotenuse) is: 3.61\n"
          ]
        }
      ]
    },
    {
      "cell_type": "markdown",
      "source": [
        "## Problem Statement\n",
        "\n",
        "Ask the user for two numbers, one at a time, and then print the result of dividing the first number by the second and also the remainder of the division.\n",
        "\n",
        "Here's a sample run of the program (user input is in bold italics):\n",
        "\n",
        "Please enter an integer to be divided: 5\n",
        "\n",
        "Please enter an integer to divide by: 3\n",
        "\n",
        "The result of this division is 1 with a remainder of 2"
      ],
      "metadata": {
        "id": "o1NZg_WZEQXt"
      }
    },
    {
      "cell_type": "code",
      "source": [
        "def main():\n",
        "    \"\"\"\n",
        "    A Division Calculator that performs division operations and shows both\n",
        "    the quotient and remainder. Demonstrates division operations, error handling,\n",
        "    and user interaction in Python.\n",
        "    \"\"\"\n",
        "    def format_result(num1: float, num2: float) -> tuple:\n",
        "        \"\"\"\n",
        "        Performs division and returns both quotient and remainder.\n",
        "\n",
        "        Args:\n",
        "            num1 (float): The dividend (number being divided)\n",
        "            num2 (float): The divisor (number dividing by)\n",
        "\n",
        "        Returns:\n",
        "            tuple: (quotient, remainder)\n",
        "        \"\"\"\n",
        "        quotient = num1 // num2  # Integer division\n",
        "        remainder = num1 % num2  # Modulo operation\n",
        "        return (quotient, remainder)\n",
        "\n",
        "\n",
        "    try:\n",
        "        # Get input numbers from user\n",
        "        number1 = float(input(\"Enter the first number (dividend): \"))\n",
        "        number2 = float(input(\"Enter the second number (divisor): \"))\n",
        "\n",
        "        # Check for division by zero\n",
        "        if number2 == 0:\n",
        "            print(\"\\n❌ Error: Cannot divide by zero!\")\n",
        "            return\n",
        "\n",
        "        # Perform the division\n",
        "        result = format_result(number1, number2)\n",
        "\n",
        "        # Create a tuple of operation symbols for formatting\n",
        "        symbols = ('÷', '=', 'R')\n",
        "\n",
        "        # Display results with nice formatting\n",
        "        print(\"\\n📊 Results:\")\n",
        "        print(f\"{number1} {symbols[0]} {number2} {symbols[1]} {result[0]} {symbols[2]} {result[1]}\")\n",
        "\n",
        "        # Add some fun facts about the division\n",
        "        if result[1] == 0:\n",
        "            print(\"\\n✨ Fun fact: This is an even division with no remainder!\")\n",
        "        elif result[0] == 0:\n",
        "            print(\"\\n✨ Note: The first number is smaller than the second!\")\n",
        "\n",
        "    except ValueError:\n",
        "        print(\"\\n❌ Error: Please enter valid numbers!\")\n",
        "\n",
        "\n",
        "# This provided line is required at the end of\n",
        "# Python file to call the main() function.\n",
        "\n",
        "if __name__ == '__main__':\n",
        "    main()"
      ],
      "metadata": {
        "colab": {
          "base_uri": "https://localhost:8080/"
        },
        "id": "gY0qHe3-FCit",
        "outputId": "772190a4-fa42-4f07-f9af-3eed9416daae"
      },
      "execution_count": 11,
      "outputs": [
        {
          "output_type": "stream",
          "name": "stdout",
          "text": [
            "Enter the first number (dividend): 3\n",
            "Enter the second number (divisor): 2\n",
            "\n",
            "📊 Results:\n",
            "3.0 ÷ 2.0 = 1.0 R 1.0\n"
          ]
        }
      ]
    },
    {
      "cell_type": "markdown",
      "source": [
        "## Problem Statement\n",
        "\n",
        "Simulate rolling two dice, and prints results of each roll as well as the total."
      ],
      "metadata": {
        "id": "ZzMYuQcaJbHb"
      }
    },
    {
      "cell_type": "code",
      "source": [
        "def main():\n",
        "    \"\"\"\n",
        "    A dice rolling simulator that rolls two dice and displays\n",
        "    the results with ASCII art representations of the dice faces.\n",
        "    \"\"\"\n",
        "    import random\n",
        "    import time\n",
        "\n",
        "    def create_dice_art() -> tuple:\n",
        "        \"\"\"\n",
        "        Creates ASCII art representations of dice faces.\n",
        "\n",
        "        Returns:\n",
        "            tuple: Contains string representations of dice faces (1-6)\n",
        "        \"\"\"\n",
        "        # Each dice face stored as a string in a tuple\n",
        "        return (\n",
        "            \"\"\"\n",
        "        ┌─────────┐\n",
        "        │         │\n",
        "        │    ●    │\n",
        "        │         │\n",
        "        └─────────┘\n",
        "        \"\"\",\n",
        "            \"\"\"\n",
        "        ┌─────────┐\n",
        "        │  ●      │\n",
        "        │         │\n",
        "        │      ●  │\n",
        "        └─────────┘\n",
        "        \"\"\",\n",
        "            \"\"\"\n",
        "        ┌─────────┐\n",
        "        │  ●      │\n",
        "        │    ●    │\n",
        "        │      ●  │\n",
        "        └─────────┘\n",
        "        \"\"\",\n",
        "            \"\"\"\n",
        "        ┌─────────┐\n",
        "        │  ●   ●  │\n",
        "        │         │\n",
        "        │  ●   ●  │\n",
        "        └─────────┘\n",
        "        \"\"\",\n",
        "            \"\"\"\n",
        "        ┌─────────┐\n",
        "        │  ●   ●  │\n",
        "        │    ●    │\n",
        "        │  ●   ●  │\n",
        "        └─────────┘\n",
        "        \"\"\",\n",
        "            \"\"\"\n",
        "        ┌─────────┐\n",
        "        │  ●   ●  │\n",
        "        │  ●   ●  │\n",
        "        │  ●   ●  │\n",
        "        └─────────┘\n",
        "        \"\"\"\n",
        "        )\n",
        "\n",
        "    def roll_dice() -> tuple:\n",
        "        \"\"\"\n",
        "        Simulates rolling two dice.\n",
        "\n",
        "        Returns:\n",
        "            tuple: The values of both dice (1-6 each)\n",
        "        \"\"\"\n",
        "        return (random.randint(1, 6), random.randint(1, 6))\n",
        "\n",
        "    # Store dice art\n",
        "    dice_art = create_dice_art()\n",
        "\n",
        "    # Create some suspense\n",
        "    print(\"\\n🎲 Welcome to the Dice Roller! 🎲\")\n",
        "    print(\"=================================\")\n",
        "    print(\"\\nRolling the dice\", end=\"\")\n",
        "    for _ in range(3):  # Animation effect\n",
        "        time.sleep(0.5)\n",
        "        print(\".\", end=\"\", flush=True)\n",
        "    print(\"\\n\")\n",
        "\n",
        "    # Roll the dice\n",
        "    dice_values = roll_dice()\n",
        "\n",
        "    # Display results\n",
        "    print(\"First die:\")\n",
        "    print(dice_art[dice_values[0] - 1])  # -1 because tuple is 0-indexed\n",
        "\n",
        "    print(\"Second die:\")\n",
        "    print(dice_art[dice_values[1] - 1])\n",
        "\n",
        "    # Calculate and display total\n",
        "    total = sum(dice_values)\n",
        "    print(f\"📊 Total: {total}\")\n",
        "\n",
        "    # Add some fun comments based on the roll\n",
        "    if dice_values[0] == dice_values[1]:\n",
        "        print(\"\\n✨ Doubles! Nice roll!\")\n",
        "    if total == 7:\n",
        "        print(\"\\n🎯 Lucky 7!\")\n",
        "    elif total == 12:\n",
        "        print(\"\\n👑 Maximum roll! Excellent!\")\n",
        "    elif total == 2:\n",
        "        print(\"\\n🎲 Snake eyes!\")\n",
        "\n",
        "\n",
        "# This provided line is required at the end of\n",
        "# Python file to call the main() function.\n",
        "if __name__ == '__main__':\n",
        "    main()"
      ],
      "metadata": {
        "colab": {
          "base_uri": "https://localhost:8080/"
        },
        "id": "TipzFk_MFCU6",
        "outputId": "e50d31f8-72f7-4820-9197-5e1f367907bc"
      },
      "execution_count": 22,
      "outputs": [
        {
          "output_type": "stream",
          "name": "stdout",
          "text": [
            "\n",
            "🎲 Welcome to the Dice Roller! 🎲\n",
            "=================================\n",
            "\n",
            "Rolling the dice...\n",
            "\n",
            "First die:\n",
            "\n",
            "        ┌─────────┐\n",
            "        │  ●   ●  │\n",
            "        │    ●    │\n",
            "        │  ●   ●  │\n",
            "        └─────────┘\n",
            "        \n",
            "Second die:\n",
            "\n",
            "        ┌─────────┐\n",
            "        │  ●   ●  │\n",
            "        │         │\n",
            "        │  ●   ●  │\n",
            "        └─────────┘\n",
            "        \n",
            "📊 Total: 9\n"
          ]
        }
      ]
    },
    {
      "cell_type": "markdown",
      "source": [
        "## Problem Statement\n",
        "\n",
        "Use Python to calculate the number of seconds in a year, and tell the user what the result is in a nice print statement that looks like this (of course the value 5 should be the calculated number instead):\n",
        "\n",
        "There are 5 seconds in a year!\n",
        "\n",
        "You should use constants for this exercise -- there are 365 days in a year, 24 hours in a day, 60 minutes in an hour, and 60 seconds per minute.\n"
      ],
      "metadata": {
        "id": "5gqhXK3tXV4S"
      }
    },
    {
      "cell_type": "code",
      "source": [
        "# Useful constants stored as a tuple of time units\n",
        "TIME_UNITS: tuple = (\n",
        "    365,  # Days per year\n",
        "    24,   # Hours per day\n",
        "    60,   # Minutes per hour\n",
        "    60    # Seconds per minute\n",
        ")\n",
        "\n",
        "def main():\n",
        "    \"\"\"Calculates and displays the total number of seconds in a year.\"\"\"\n",
        "    # Calculate seconds by multiplying all values in the tuple\n",
        "    total_seconds = 1\n",
        "    for unit in TIME_UNITS:\n",
        "        total_seconds *= unit\n",
        "\n",
        "    # Display the result\n",
        "    print(f\"There are {total_seconds} seconds in a year!\")\n",
        "\n",
        "\n",
        "# There is no need to edit code beyond this point\n",
        "if __name__ == '__main__':\n",
        "    main()"
      ],
      "metadata": {
        "colab": {
          "base_uri": "https://localhost:8080/"
        },
        "id": "ZxUJLVMgUQMB",
        "outputId": "a1176db3-3639-466d-d15b-32d0cadaf9fb"
      },
      "execution_count": 24,
      "outputs": [
        {
          "output_type": "stream",
          "name": "stdout",
          "text": [
            "There are 31536000 seconds in a year!\n"
          ]
        }
      ]
    },
    {
      "cell_type": "markdown",
      "source": [
        "## Problem Statement\n",
        "\n",
        "Write a program which prompts the user for an adjective, then a noun, then a verb, and then prints a fun sentence with those words!\n",
        "\n",
        "Mad Libs is a word game where players are prompted for one word at a time, and the words are eventually filled into the blanks of a word template to make an entertaining story! We've provided you with the beginning of a sentence (the SENTENCE_START constant) which will end in a user-inputted adjective, noun, and then verb.\n",
        "\n",
        "Here's a sample run (user input is in bold italics):\n",
        "\n",
        "Please type an adjective and press enter. tiny\n",
        "\n",
        "Please type a noun and press enter. plant\n",
        "\n",
        "Please type a verb and press enter. fly\n",
        "\n",
        "Code in Place is fun. I learned to program and used Python to make my tiny plant fly!"
      ],
      "metadata": {
        "id": "tg-NBRsieQfG"
      }
    },
    {
      "cell_type": "code",
      "source": [
        "# Store the starting sentence as a constant with type literal\n",
        "SENTENCE_START: str = \"Code in Place is fun. I learned to program and used Python to make my\"\n",
        "\n",
        "def main() -> None:\n",
        "    \"\"\"\n",
        "    A Mad Libs game that creates a fun sentence using user-provided\n",
        "    adjective, noun, and verb.\n",
        "    \"\"\"\n",
        "    # Define word types with type literals\n",
        "    prompts: tuple[str, str, str] = (\n",
        "        \"Please type an adjective and press enter: \",\n",
        "        \"Please type a noun and press enter: \",\n",
        "        \"Please type a verb and press enter: \"\n",
        "    )\n",
        "\n",
        "    # Initialize words list with type literal\n",
        "    words: list[str] = []\n",
        "\n",
        "    # Get user input for each word\n",
        "    for prompt in prompts:\n",
        "        user_input: str = input(prompt)\n",
        "        words.append(user_input)\n",
        "\n",
        "    # Print the final sentence\n",
        "    print(f\"\\n{SENTENCE_START} {words[0]} {words[1]} {words[2]}!\")\n",
        "\n",
        "\n",
        "# There is no need to edit code beyond this point\n",
        "if __name__ == '__main__':\n",
        "    main()"
      ],
      "metadata": {
        "colab": {
          "base_uri": "https://localhost:8080/"
        },
        "id": "KpOk6fJcUQJe",
        "outputId": "14437406-bd89-4582-a26b-4fbb0348fa37"
      },
      "execution_count": 26,
      "outputs": [
        {
          "output_type": "stream",
          "name": "stdout",
          "text": [
            "Please type an adjective and press enter: beautiful\n",
            "Please type a noun and press enter: cat\n",
            "Please type a verb and press enter: run\n",
            "\n",
            "Code in Place is fun. I learned to program and used Python to make my beautiful cat run!\n"
          ]
        }
      ]
    }
  ]
}